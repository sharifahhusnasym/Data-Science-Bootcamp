{
  "nbformat": 4,
  "nbformat_minor": 0,
  "metadata": {
    "colab": {
      "provenance": [],
      "include_colab_link": true
    },
    "kernelspec": {
      "name": "python3",
      "display_name": "Python 3"
    },
    "language_info": {
      "name": "python"
    }
  },
  "cells": [
    {
      "cell_type": "markdown",
      "metadata": {
        "id": "view-in-github",
        "colab_type": "text"
      },
      "source": [
        "<a href=\"https://colab.research.google.com/github/sharifahhusnasym/Data-Science-Bootcamp/blob/main/Sharifah_Husna_python102.ipynb\" target=\"_parent\"><img src=\"https://colab.research.google.com/assets/colab-badge.svg\" alt=\"Open In Colab\"/></a>"
      ]
    },
    {
      "cell_type": "markdown",
      "source": [
        "# This exercise is to test your knowledge in\n",
        "1. Input/Output functions\n",
        "2. Decision Making"
      ],
      "metadata": {
        "id": "88K4xIYJ2HAZ"
      }
    },
    {
      "cell_type": "markdown",
      "source": [
        "**Exercise 1: Check Even or Odd**\n",
        "\n",
        "Write a Python program that prompts for an integer. The program must check whether the number is even or odd and print the result."
      ],
      "metadata": {
        "id": "k0lMUYCZ2s7t"
      }
    },
    {
      "cell_type": "code",
      "source": [
        "number = int(input(\"Enter the number: \"))\n",
        "\n",
        "if (number % 2 == 0):\n",
        "  print(\"The Number is Even\")\n",
        "else:\n",
        "  print(\"The Number is Odd\")"
      ],
      "metadata": {
        "id": "-b2jsb362QGd",
        "colab": {
          "base_uri": "https://localhost:8080/"
        },
        "outputId": "04fa76ac-8ea3-4a75-fdb7-012acfa7e783"
      },
      "execution_count": null,
      "outputs": [
        {
          "output_type": "stream",
          "name": "stdout",
          "text": [
            "Enter the number: 124\n",
            "The Number is Even\n"
          ]
        }
      ]
    },
    {
      "cell_type": "markdown",
      "source": [
        "**Exercise 2: Senior Citizen Benefits**\n",
        "\n",
        "Write a Python program that determines if a person is eligible for senior citizen benefits. The program should take the person's age as input and print \"Eligible\" if the age is 60 or above, otherwise print \"Not Eligible\"."
      ],
      "metadata": {
        "id": "Gg7tvgCBr2Ff"
      }
    },
    {
      "cell_type": "code",
      "source": [
        "Seniorcitizen = 60\n",
        "\n",
        "age = int(input(\"Age: \"))\n",
        "if age >= Seniorcitizen:\n",
        "  print(\"Eligible\")\n",
        "else:\n",
        "  print(\"Not Eligible\")"
      ],
      "metadata": {
        "id": "RcxAj8WFr-un",
        "colab": {
          "base_uri": "https://localhost:8080/"
        },
        "outputId": "d3729b6c-76f1-4d7b-82ce-31908c079735"
      },
      "execution_count": null,
      "outputs": [
        {
          "output_type": "stream",
          "name": "stdout",
          "text": [
            "Age: 70\n",
            "Eligible\n"
          ]
        }
      ]
    },
    {
      "cell_type": "markdown",
      "source": [
        "**Exercise 3: Largest of Three Numbers**\n",
        "\n",
        "Write a Python program that takes three numbers as input and prints the largest of the three."
      ],
      "metadata": {
        "id": "wkTAsVLhrAJ0"
      }
    },
    {
      "cell_type": "code",
      "source": [
        "num1 = int(input(\"Enter the first number: \"))\n",
        "num2 = int(input(\"Enter the second number: \"))\n",
        "num3 = int(input(\"Enter the third number: \"))\n",
        "\n",
        "if num1 >= num2 and num1 >= num3:\n",
        "  largest = num1\n",
        "elif num2 >= num1 and num2 >= num3:\n",
        "  largest = num2\n",
        "else:\n",
        "  largest = num3\n",
        "\n",
        "print(\"The Largest of number: \", largest)"
      ],
      "metadata": {
        "id": "gEzU2K3drMXb",
        "colab": {
          "base_uri": "https://localhost:8080/"
        },
        "outputId": "1ede3e26-0330-432d-bde8-1b73218574bb"
      },
      "execution_count": null,
      "outputs": [
        {
          "output_type": "stream",
          "name": "stdout",
          "text": [
            "Enter the first number: 152\n",
            "Enter the second number: 204\n",
            "Enter the third number: 5\n",
            "The Largest of number:  204\n"
          ]
        }
      ]
    },
    {
      "cell_type": "markdown",
      "source": [
        "**Exercise 4: Grade Evaluation**\n",
        "\n",
        "Write a Python program that takes a score (between 0 and 100) as input and prints the corresponding grade based on the following criteria:\n",
        "\n",
        "1. A for scores 90 and above\n",
        "2. B for scores 80-89\n",
        "3. C for scores 70-79\n",
        "4. D for scores 60-69\n",
        "5. F for scores below 60"
      ],
      "metadata": {
        "id": "zXjvrX8c2RE4"
      }
    },
    {
      "cell_type": "code",
      "source": [
        "marks = int(input(\"Enter the marks: \"))\n",
        "\n",
        "if marks >= 90 and marks <= 100:\n",
        "  print(\"A\")\n",
        "elif marks >= 80 and marks <= 89:\n",
        "  print(\"B\")\n",
        "elif marks >= 70 and marks <= 79:\n",
        "  print(\"C\")\n",
        "elif marks >= 60 and marks <= 69:\n",
        "  print(\"D\")\n",
        "else:\n",
        "  print(\"F\")"
      ],
      "metadata": {
        "id": "S7evNjDH2UMK",
        "colab": {
          "base_uri": "https://localhost:8080/"
        },
        "outputId": "db027298-eb53-4afc-de27-c1d918b2091c"
      },
      "execution_count": null,
      "outputs": [
        {
          "output_type": "stream",
          "name": "stdout",
          "text": [
            "Enter the marks: 70\n",
            "C\n"
          ]
        }
      ]
    },
    {
      "cell_type": "markdown",
      "source": [
        "**Exercise 5: Movie Ticket Pricing**\n",
        "\n",
        "Write a Python program that determines the price of a movie ticket based on the customer's age:\n",
        "\n",
        "1.  Age < 5: Free\n",
        "2.  Age 5-12: RM5\n",
        "3.  Age 13-60: RM10\n",
        "4.  Age > 60: RM7"
      ],
      "metadata": {
        "id": "5sA_WsIssN2d"
      }
    },
    {
      "cell_type": "code",
      "source": [
        "age = int(input(\"Enter the age: \"))\n",
        "\n",
        "if age < 5:\n",
        "  print(\"Free\")\n",
        "elif age >= 5 and age <= 12:\n",
        "  print(\"RM5\")\n",
        "elif age >= 13 and age <= 60:\n",
        "  print(\"RM10\")\n",
        "else:\n",
        "  print(\"RM7\")"
      ],
      "metadata": {
        "id": "wOHC_G0esdvT",
        "colab": {
          "base_uri": "https://localhost:8080/"
        },
        "outputId": "054db5a1-71d4-4e43-a201-f4ffacf62fe1"
      },
      "execution_count": null,
      "outputs": [
        {
          "output_type": "stream",
          "name": "stdout",
          "text": [
            "Enter the age: 15\n",
            "RM10\n"
          ]
        }
      ]
    },
    {
      "cell_type": "markdown",
      "source": [
        "**Exercise 6: Shop discount calculator**\n",
        "\n",
        "Write a Python program that calculates the discount on a purchase based on the amount spent:\n",
        "\n",
        "1.  Spend < RM100: No discount\n",
        "2.  Spend RM100-RM500: 10% discount\n",
        "3.  Spend > RM500: 20% discount\n",
        "\n",
        "Print the final amount to be paid after applying the discount."
      ],
      "metadata": {
        "id": "8faNmniGss7a"
      }
    },
    {
      "cell_type": "code",
      "source": [
        "spend = int(input(\"Enter your spend: RM \"))\n",
        "\n",
        "if spend < 100:\n",
        "  print(\"No Discount\")\n",
        "  amount = spend - discount\n",
        "elif spend >= 100 and spend <= 500:\n",
        "  amount = spend - (0.1 * spend)\n",
        "  print(\"10% Discount\")\n",
        "else:\n",
        "  spend > 500\n",
        "  amount = spend - (0.2 * spend)\n",
        "  print(\"20% Discount\")\n",
        "\n",
        "print(\"Final Amount to be paid: RM\", amount)"
      ],
      "metadata": {
        "id": "ZQ2QwsT5s97n",
        "colab": {
          "base_uri": "https://localhost:8080/"
        },
        "outputId": "b23be527-8588-4795-8a49-2fb19dfe9f8d"
      },
      "execution_count": null,
      "outputs": [
        {
          "output_type": "stream",
          "name": "stdout",
          "text": [
            "Enter your spend: RM 240\n",
            "10% Discount\n",
            "Final Amount to be paid: RM 216.0\n"
          ]
        }
      ]
    },
    {
      "cell_type": "markdown",
      "source": [
        "**Exercise 7: Temperature Alert**\n",
        "\n",
        "Write a Python program that takes the current temperature as input and prints an alert message based on the temperature:\n",
        "\n",
        "1. Below 0°C: \"Freezing!\"\n",
        "2. 0°C to 10°C: \"Very Cold!\"\n",
        "3. 11°C to 20°C: \"Cold\"\n",
        "4. 21°C to 30°C: \"Warm\"\n",
        "5. Above 30°C: \"Hot!\""
      ],
      "metadata": {
        "id": "YKXYMUgSyaOp"
      }
    },
    {
      "cell_type": "code",
      "source": [
        "temp = int(input(\"Enter the Temperature: \"))\n",
        "\n",
        "if temp < 0:\n",
        "  print(\"Freezing!\")\n",
        "elif temp >= 0 and temp <= 10:\n",
        "  print(\"Very Cold!\")\n",
        "elif temp >= 11 and temp <= 20:\n",
        "  print(\"Cold\")\n",
        "elif temp >= 21 and temp <= 30:\n",
        "  print(\"Warm\")\n",
        "else:\n",
        "  print(\"Hot!\")"
      ],
      "metadata": {
        "id": "8Ja63fwayu46",
        "colab": {
          "base_uri": "https://localhost:8080/"
        },
        "outputId": "e10244f8-d754-45ad-823a-633b29c46fda"
      },
      "execution_count": null,
      "outputs": [
        {
          "output_type": "stream",
          "name": "stdout",
          "text": [
            "Enter the Temperature: -15\n",
            "Freezing!\n"
          ]
        }
      ]
    },
    {
      "cell_type": "markdown",
      "source": [
        "**Exercise 8: Day of the week**\n",
        "\n",
        "Write a Python program that takes an integer (1 to 7) as input and prints the corresponding day of the week. Assume 1 corresponds to Monday and 7 corresponds to Sunday. If the input is not in the range of 1 to 7, print \"Invalid day\"."
      ],
      "metadata": {
        "id": "kO8Ry4zIqQAa"
      }
    },
    {
      "cell_type": "code",
      "source": [
        "number = int(input(\"Enter the number: \"))\n",
        "\n",
        "if number == 1:\n",
        "  print(\"Monday\")\n",
        "elif number == 2:\n",
        "  print(\"Tuesday\")\n",
        "elif number == 3:\n",
        "  print(\"Wednesday\")\n",
        "elif number == 4:\n",
        "  print(\"Thursday\")\n",
        "elif number == 5:\n",
        "  print(\"Friday\")\n",
        "elif number == 6:\n",
        "  print(\"Saturday\")\n",
        "elif number == 7:\n",
        "  print(\"Sunday\")\n",
        "else:\n",
        "  print(\"Invalid Day\")"
      ],
      "metadata": {
        "id": "mV455H4iqcq0",
        "colab": {
          "base_uri": "https://localhost:8080/"
        },
        "outputId": "32b13546-8e7d-4d5b-aff0-17761600f7e1"
      },
      "execution_count": null,
      "outputs": [
        {
          "output_type": "stream",
          "name": "stdout",
          "text": [
            "Enter the number: 5\n",
            "Friday\n"
          ]
        }
      ]
    },
    {
      "cell_type": "markdown",
      "source": [
        "**Exercise 9: Time of Day Greeting**\n",
        "\n",
        "Write a Python program that takes the current hour (in 24-hour format) as input and prints an appropriate greeting:\n",
        "\n",
        "1. 0 ≤ hour < 12: \"Good Morning\"\n",
        "2. 12 ≤ hour < 18: \"Good Afternoon\"\n",
        "3. 18 ≤ hour < 24: \"Good Evening\"\n",
        "4. If the hour is not valid, print \"Invalid hour\""
      ],
      "metadata": {
        "id": "MD4QwAz31k00"
      }
    },
    {
      "cell_type": "code",
      "source": [
        "hour = int(input(\"Enter the hour: \"))\n",
        "\n",
        "if hour >= 0 and hour < 12:\n",
        "  print(\"Good Morning\")\n",
        "elif hour >= 12 and hour < 18:\n",
        "  print(\"Good Afternoon\")\n",
        "elif hour >= 18 and hour < 24:\n",
        "  print(\"Good Evening\")\n",
        "else:\n",
        "  print(\"Invalid hour\")"
      ],
      "metadata": {
        "id": "dVfpgB0E1vXe",
        "colab": {
          "base_uri": "https://localhost:8080/"
        },
        "outputId": "6cc94497-fc74-47b0-9dd2-c1bb8612cc00"
      },
      "execution_count": null,
      "outputs": [
        {
          "output_type": "stream",
          "name": "stdout",
          "text": [
            "Enter the hour: 17\n",
            "Good Afternoon\n"
          ]
        }
      ]
    },
    {
      "cell_type": "markdown",
      "source": [
        "**Exercise 10: Check Leap Year**\n",
        "\n",
        "Write a Python program that takes a year as input and checks whether it is a leap year.\n",
        "1. If the year is divisible by four, it's a leap year.\n",
        "2. But if the year can be divided by 100 as well as four, it's not a leap year.\n",
        "3. However, if the year is divisible by 400, it is a leap year."
      ],
      "metadata": {
        "id": "5JvZykyG2VQ_"
      }
    },
    {
      "cell_type": "code",
      "source": [
        "year = int(input(\"Enter the year: \"))\n",
        "\n",
        "if year % 4 == 0:\n",
        "  print(\"leap year\")\n",
        "elif year % 100 == 0:\n",
        "  print(\"not leap year\")\n",
        "elif year % 400 == 0:\n",
        "  print(\"leap year\")\n",
        "else:\n",
        "  print(\"not leap year\")"
      ],
      "metadata": {
        "id": "f3__sUit2X_t",
        "colab": {
          "base_uri": "https://localhost:8080/"
        },
        "outputId": "8a158fe9-9bbf-4984-857f-a108b1c3920b"
      },
      "execution_count": null,
      "outputs": [
        {
          "output_type": "stream",
          "name": "stdout",
          "text": [
            "Enter the year: 12\n",
            "leap year\n"
          ]
        }
      ]
    },
    {
      "cell_type": "markdown",
      "source": [
        "**Exercise 11: Number Comparison**\n",
        "\n",
        "Write a program that takes three numbers as input. Store the input into three variables and print the largest one. Create the if condition in a <b>single line</b>."
      ],
      "metadata": {
        "id": "VjYxX0Pl2Y5a"
      }
    },
    {
      "cell_type": "code",
      "source": [
        "num1 = int(input(\"Enter the first number: \"))\n",
        "num2 = int(input(\"Enter the second number: \"))\n",
        "num3 = int(input(\"Enter the third number: \"))\n",
        "\n",
        "largest = num1 if num1 >= num2 and num1 >= num3 else (num2 if num2 >= num3 else num3)\n",
        "\n",
        "print(\"The Largest Numbers is\", largest)"
      ],
      "metadata": {
        "id": "gtjmqjgS2bYu",
        "colab": {
          "base_uri": "https://localhost:8080/"
        },
        "outputId": "1f5d512c-0111-4c6b-8464-a511f748843d"
      },
      "execution_count": null,
      "outputs": [
        {
          "output_type": "stream",
          "name": "stdout",
          "text": [
            "Enter the first number: 45\n",
            "Enter the second number: 25\n",
            "Enter the third number: 68\n",
            "The Largest Numbers is 68\n"
          ]
        }
      ]
    },
    {
      "cell_type": "markdown",
      "source": [
        "**Exercise 12: Check Vowel or Consonant**\n",
        "\n",
        "Write a Python program that takes a single character as input and checks whether it is a vowel or consonant. Use the **in** operator.\n",
        "\n",
        "(Hint: Check whether the given character is inside the string of characters.)"
      ],
      "metadata": {
        "id": "hyNTbeMN2cYD"
      }
    },
    {
      "cell_type": "code",
      "source": [
        "char = input(\"Enter the character: \")\n",
        "vowels = \"aeiou\"\n",
        "\n",
        "if char in vowels:\n",
        "  print(char, \"is the vowel\")\n",
        "else:\n",
        "  print(char, \"is the consonant\")"
      ],
      "metadata": {
        "id": "OsNKfn1Y2e4x",
        "colab": {
          "base_uri": "https://localhost:8080/"
        },
        "outputId": "9b84d7e5-8b52-4fb0-f126-06d1d6daadcc"
      },
      "execution_count": null,
      "outputs": [
        {
          "output_type": "stream",
          "name": "stdout",
          "text": [
            "Enter the character: b\n",
            "b is the consonant\n"
          ]
        }
      ]
    },
    {
      "cell_type": "markdown",
      "source": [
        "**Exercise 13: BMI Calculator**\n",
        "\n",
        "Write a program that calculates the Body Mass Index (BMI) and categorizes the result into 4 different weight statuses. The formula for BMI is weight / height^2, where weight is in kilograms and height is in meters.\n",
        "\n",
        "*Categories:*\n",
        "\n",
        "1. Underweight: BMI < 18.5\n",
        "2. Normal weight: 18.5 <= BMI < 24.9\n",
        "3. Overweight: 25 <= BMI < 29.9\n",
        "4. Obesity: BMI >= 30"
      ],
      "metadata": {
        "id": "l1JWPAJj93qo"
      }
    },
    {
      "cell_type": "code",
      "source": [
        "weight = float(input(\"Enter your weight in kg: \"))\n",
        "height = float(input(\"Enter your height in m: \"))\n",
        "\n",
        "bmi = weight / (height ** 2)\n",
        "\n",
        "if bmi < 18.5:\n",
        "  print(\"Underweight\")\n",
        "elif 18.5 <= bmi < 24.9:\n",
        "  print(\"Normal weight\")\n",
        "elif 25 <= bmi < 24.9:\n",
        "  print(\"Overweight\")\n",
        "else:\n",
        "  print(\"Obesity\")\n",
        "\n",
        "print(\"Your BMI is:\", bmi)"
      ],
      "metadata": {
        "colab": {
          "base_uri": "https://localhost:8080/"
        },
        "id": "5BD2MU707Hu9",
        "outputId": "f10d0d00-a745-41cf-db5f-c6c41c14ff28"
      },
      "execution_count": null,
      "outputs": [
        {
          "output_type": "stream",
          "name": "stdout",
          "text": [
            "Enter your weight in kg: 57\n",
            "Enter your height in m: 1.63\n",
            "Normal weight\n",
            "Your BMI is: 21.453573713726524\n"
          ]
        }
      ]
    },
    {
      "cell_type": "markdown",
      "source": [
        "**Exercise 14: Triangle Type Checker**\n",
        "\n",
        "Write a program that takes the lengths of three sides of a triangle and determines whether the triangle is equilateral, isosceles, or scalene.\n",
        "\n",
        "1. Equilateral: All three sides are equal.\n",
        "2. Isosceles: Exactly two sides are equal.\n",
        "3. Scalene: All three sides are different."
      ],
      "metadata": {
        "id": "LU3gswxx-Kys"
      }
    },
    {
      "cell_type": "code",
      "source": [
        "side1 = float(input(\"Enter the first side: \"))\n",
        "side2 = float(input(\"Enter the second side: \"))\n",
        "side3 = float(input(\"Enter the third side: \"))\n",
        "\n",
        "if side1 == side2 == side3:\n",
        "  print(\"Equilateral\")\n",
        "elif side1 == side2 or side1 == side3 or side2 == side3:\n",
        "  print(\"Isosceles\")\n",
        "else:\n",
        "  print(\"Different sides\")"
      ],
      "metadata": {
        "id": "t9A8jRIE-MXP",
        "colab": {
          "base_uri": "https://localhost:8080/"
        },
        "outputId": "aeb6b53d-c444-47a6-e7de-bcf02038fae7"
      },
      "execution_count": null,
      "outputs": [
        {
          "output_type": "stream",
          "name": "stdout",
          "text": [
            "Enter the first side: 12\n",
            "Enter the second side: 10\n",
            "Enter the third side: 2\n",
            "Different sides\n"
          ]
        }
      ]
    },
    {
      "cell_type": "markdown",
      "source": [
        "**Exercise 15: Quadratic Equation Roots**\n",
        "\n",
        "Write a python program that solves a quadratic equation of the form ![image.png](data:image/png;base64,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)\n",
        "\n",
        "The program should take the coefficients a, b and c as input and print the roots of the equation. Use the discriminant to determine the nature of the roots:\n",
        "\n",
        "If the discriminant   ![image.png](data:image/png;base64,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) > 0 print \"2 Distinct real roots\"\n",
        "\n",
        "If the discriminant    ![image.png](data:image/png;base64,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) == 0 print \"One real root\"\n",
        "\n",
        "If the discriminant    ![image.png](data:image/png;base64,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)  < 0  print \"No Real Roots\""
      ],
      "metadata": {
        "id": "q3sE4RILlBxw"
      }
    },
    {
      "cell_type": "code",
      "source": [
        "a = int(input(\"Enter the value of a: \"))\n",
        "b = int(input(\"Enter the value of b: \"))\n",
        "c = int(input(\"Enter the value of c: \"))\n",
        "\n",
        "disc = (b ** 2) - (4 * a * c)\n",
        "\n",
        "if disc > 0:\n",
        "  print(\"2 Distinct real roots\")\n",
        "elif disc == 0:\n",
        "  print(\"One real root\")\n",
        "else:\n",
        "  print(\"No Real Roots\")"
      ],
      "metadata": {
        "id": "qMrU2rr8oKdN",
        "colab": {
          "base_uri": "https://localhost:8080/"
        },
        "outputId": "e2b41d10-dd09-4aca-ba50-ef8262d7d7cf"
      },
      "execution_count": null,
      "outputs": [
        {
          "output_type": "stream",
          "name": "stdout",
          "text": [
            "Enter the value of a: 12\n",
            "Enter the value of b: 58\n",
            "Enter the value of c: 64\n",
            "2 Distinct real roots\n"
          ]
        }
      ]
    },
    {
      "cell_type": "markdown",
      "source": [
        "**Exercise 16: Electricity Bill Calculator**\n",
        "\n",
        "Write a Python program that calculates the electricity bill based on the number of units consumed. Use the following tariff:\n",
        "\n",
        "1. For the first 100 units: RM0.50 per unit\n",
        "2. For the next 100 units: RM0.75 per unit\n",
        "3. For the next 100 units: RM1.20 per unit\n",
        "4. For units above 300: RM1.50 per unit\n",
        "\n",
        "The program should take the total units consumed as input and print the total bill."
      ],
      "metadata": {
        "id": "bZLUv3IrpAGK"
      }
    },
    {
      "cell_type": "code",
      "source": [
        "unit = int(input(\"Enter the number of units consumed: \"))\n",
        "\n",
        "if unit <= 100:\n",
        "  bill = unit * 0.50\n",
        "elif unit <= 200:\n",
        "  bill = 100 * 0.50 + (unit - 100) * 0.75\n",
        "elif unit <= 300:\n",
        "  bill = 100 * 0.50 + 100 * 0.75 + (unit - 200) * 1.20\n",
        "else:\n",
        "  bill = 100 * 0.50 + 100 * 0.75 + 100 * 1.20 + (unit - 300) * 1.50\n",
        "\n",
        "print(\"Total electricity bill: RM\", bill)"
      ],
      "metadata": {
        "id": "xHZ4-UvHmcV1",
        "colab": {
          "base_uri": "https://localhost:8080/"
        },
        "outputId": "2634b958-c2d4-46f5-9151-e7ac8de31c6d"
      },
      "execution_count": null,
      "outputs": [
        {
          "output_type": "stream",
          "name": "stdout",
          "text": [
            "Enter the number of units consumed: 200\n",
            "Total electricity bill: RM 125.0\n"
          ]
        }
      ]
    },
    {
      "cell_type": "markdown",
      "source": [
        "**Exercise 17: Simple Tax Calculator**\n",
        "\n",
        "Write a Python program to calculate the income tax based on the following tax rules:<ol><li>If income is RM10,000 or less, the tax rate is 0% (no tax).</li><li>If income is between RM10,001 and RM50,000, the tax rate is 10%.</li><li>If income is above RM50,000, the tax rate is 20%.</li></ol>Your program should:<br/>Take the income as an input from the user.<br/>Calculate the tax based on the above conditions.<br/>Print the tax amount as well as the income after tax deduction."
      ],
      "metadata": {
        "id": "ERDSa0sZpnCz"
      }
    },
    {
      "cell_type": "code",
      "source": [
        "tax = int(input(\"Enter your income: RM \"))\n",
        "\n",
        "if tax <= 10000:\n",
        "  amount = tax - (0 * tax)\n",
        "  print(\"No Tax\")\n",
        "elif tax >= 10001 and tax <= 50000:\n",
        "  amount = tax - (0.1 * tax)\n",
        "  print(\"Tax Rate is 10%\")\n",
        "else:\n",
        "  tax > 50000\n",
        "  amount = tax - (0.2 * tax)\n",
        "  print(\"Tax Rate is 20%\")\n",
        "\n",
        "print(\"Income after tax deduction: RM\", amount)"
      ],
      "metadata": {
        "id": "lnRN1FrhqBgk",
        "colab": {
          "base_uri": "https://localhost:8080/"
        },
        "outputId": "41d16638-4892-44b4-d2ab-757ebbe8d5ee"
      },
      "execution_count": null,
      "outputs": [
        {
          "output_type": "stream",
          "name": "stdout",
          "text": [
            "Enter your income: RM 25000\n",
            "Tax Rate is 10%\n",
            "Income after tax deduction: RM 22500.0\n"
          ]
        }
      ]
    },
    {
      "cell_type": "markdown",
      "source": [
        "**Exercise 18: ATM Withdrawal**\n",
        "\n",
        "Write a program that simulates an ATM withdrawal.\n",
        "\n",
        "The user enters the withdrawal amount and the program checks if the amount is a multiple of 10. If it is, the program prints the number of each denomination (50, 20, 10) required to dispense the amount. If not, it prints an error message.\n",
        "\n",
        "For example if the amount is 230 then it must print \"4 50 dollar bills, 1 20 dollar bills, 1 10 dollar bills"
      ],
      "metadata": {
        "id": "U3_vgViN-_aG"
      }
    },
    {
      "cell_type": "code",
      "source": [
        "amount = int(input(\"Enter the withdrawal amount: \"))\n",
        "\n",
        "if amount % 10 == 0:\n",
        "  fifty = amount // 50\n",
        "  remaining = amount % 50\n",
        "\n",
        "  twenty = remaining // 20\n",
        "  remaining = remaining % 20\n",
        "\n",
        "  ten = remaining // 10\n",
        "  remaining = remaining % 10\n",
        "\n",
        "  print(fifty, \"50 dollar bills,\", twenty, \"20 dollar bills,\", ten, \"10 dollar bills\")\n",
        "\n",
        "else:\n",
        "  print(\"Invalid withdrawal amount.\")"
      ],
      "metadata": {
        "id": "VxMVFFjv_Dwc",
        "colab": {
          "base_uri": "https://localhost:8080/"
        },
        "outputId": "66d7ac31-a4db-4d19-8f3d-b0794333d184"
      },
      "execution_count": null,
      "outputs": [
        {
          "output_type": "stream",
          "name": "stdout",
          "text": [
            "Enter the withdrawal amount: 4521\n",
            "Invalid withdrawal amount.\n"
          ]
        }
      ]
    },
    {
      "cell_type": "markdown",
      "source": [
        "**Exercise 19: Adam Number**\n",
        "\n",
        "Write a Python program to check whether 13 is an Adam number.\n",
        "\n",
        "An Adam number is a number for which the square of the number and the square of its reverse are themselves reverses of each other. In other words, if you take a number, reverse it, square both the original number and the reversed number, and the results are still reverse of each other, then the original number is called an Adam number. Make sure you reverse the number using modulus (%) and integer division operator (//).\n",
        "\n",
        "For example, 13 is an Adam because 13² = 169 and 31² = 961"
      ],
      "metadata": {
        "id": "uQKP9hMA2ksS"
      }
    },
    {
      "cell_type": "code",
      "source": [
        "original = 13\n",
        "original1 = 0\n",
        "reversed = 0\n",
        "\n",
        "reversed = original % 10\n",
        "original1 = original // 10\n",
        "\n",
        "reversed = reversed * 10 + original1 % 10\n",
        "square_ori = original ** 2\n",
        "square_rev = reversed ** 2\n",
        "\n",
        "result = 0\n",
        "result = square_rev % 10\n",
        "square_rev = square_rev // 10\n",
        "\n",
        "result = result * 10 + square_rev % 10\n",
        "square_rev = square_rev // 10\n",
        "result = result * 10 + square_rev % 10\n",
        "\n",
        "if result == square_ori:\n",
        "  print(original, \"is an Adam number\")\n",
        "else:\n",
        "  print(original, \"is not an Adam number\")"
      ],
      "metadata": {
        "colab": {
          "base_uri": "https://localhost:8080/"
        },
        "id": "nNKTkPlhU5pw",
        "outputId": "095e8483-a834-40be-dc18-c28bb07e760e"
      },
      "execution_count": null,
      "outputs": [
        {
          "output_type": "stream",
          "name": "stdout",
          "text": [
            "13 is an Adam number\n"
          ]
        }
      ]
    },
    {
      "cell_type": "markdown",
      "source": [
        "**Exercise 20: Armstrong Number**\n",
        "\n",
        "Write a Python program to check whether 153 is an Armstrong number.\n",
        "\n",
        "An Armstrong number (also known as a Narcissistic number or a Pluperfect number) is a number that is equal to the sum of its own digits each raised to the power of the number of digits.\n",
        "\n",
        "For example, 153 is an Armstrong number because 1 ** 3 + 5 ** 3 + 3 ** 3 = 153"
      ],
      "metadata": {
        "id": "qTSAl9Hw4iiL"
      }
    },
    {
      "cell_type": "code",
      "source": [
        "number = 153\n",
        "numstr = str(number)\n",
        "numdigit = len(numstr)\n",
        "armstrong = 0\n",
        "\n",
        "digit1 = int(numstr[0])\n",
        "digit2 = int(numstr[1])\n",
        "digit3 = int(numstr[2])\n",
        "\n",
        "armstrong = (digit1 ** numdigit) + (digit2 ** numdigit) + (digit3 ** numdigit)\n",
        "\n",
        "if armstrong == number:\n",
        "  print(number, \"is an Armstrong number\")\n",
        "else:\n",
        "  print(number, \"is not an Armstrong number\")"
      ],
      "metadata": {
        "colab": {
          "base_uri": "https://localhost:8080/"
        },
        "id": "4epdHAQEApDK",
        "outputId": "34755eaa-f55b-437f-bdbe-63139aa4d834"
      },
      "execution_count": null,
      "outputs": [
        {
          "output_type": "stream",
          "name": "stdout",
          "text": [
            "153 is an Armstrong number\n"
          ]
        }
      ]
    },
    {
      "cell_type": "markdown",
      "source": [
        "**Exercise 21: Find Position**\n",
        "\n",
        "Find the Position of the First Occurrence of a Digit. Find the position of the first occurrence of a 8 in 97865. Positions are zero-based. Since it is zero-based, 8 is in position 2"
      ],
      "metadata": {
        "id": "KBpKJPZ6pRHx"
      }
    },
    {
      "cell_type": "code",
      "source": [
        "number = \"97865\"\n",
        "digit = \"8\"\n",
        "position = - 1\n",
        "\n",
        "if number[0] == digit:\n",
        "  position = 0\n",
        "elif number[1] == digit:\n",
        "  position = 1\n",
        "elif number[2] == digit:\n",
        "  position = 2\n",
        "elif number[3] == digit:\n",
        "  position = 3\n",
        "elif number[4] == digit:\n",
        "  position = 4\n",
        "\n",
        "print(\"The position of 8 in zero based is\", position)"
      ],
      "metadata": {
        "colab": {
          "base_uri": "https://localhost:8080/"
        },
        "id": "hHAepBRi8GqX",
        "outputId": "dc1b4bb9-18a3-429c-a21a-6f2cc899f26f"
      },
      "execution_count": null,
      "outputs": [
        {
          "output_type": "stream",
          "name": "stdout",
          "text": [
            "The position of 8 in zero based is 2\n"
          ]
        }
      ]
    },
    {
      "cell_type": "markdown",
      "source": [
        "**Exercise 22: Calculate the number of bits**\n",
        "\n",
        "Calculate how many bits are needed to represent 35 in binary.\n",
        "\n",
        "![image.png](data:image/png;base64,iVBORw0KGgoAAAANSUhEUgAAAXAAAACDCAYAAACUaEA8AAAAAXNSR0IArs4c6QAAAARnQU1BAACxjwv8YQUAAAAJcEhZcwAADsMAAA7DAcdvqGQAADFPSURBVHhe7Z0LvFVTHseXYYYZmvEYM2QYjLc88qgUk5RH3sxoCKmpKKUoFEnJo1IaKkkhFEk0Qh5R0kMoI/KoEQq3GBoj72Has7//u9dt3X33Pmefc8+99+x7/9/PZ3/uPfucs8/ea6/1W//1///3Wht5PkZRFEVJHT8J/iqKoigpQwVcURQlpaiAK4qipBQVcEVRlJSiAq4oipJSVMAVRVFSigq4oihKSlEBVxRFSSkq4IqiKClFBVxRFCWlqIAriqKkFBVwpUb5/vvvzfr164NXxc2PP/5ovvnmm+BVbnz77bfmv//9b/AqM2kqE6VmqRUCTuNYt26dScO8XDTMDz/80Lz44ovmyy+/DPaWB6H4z3/+I39rO5MnT5ZrjQLB471iEDOEe/To0XLv8oF7PXjwYPOvf/0r2BPPHXfcYd59993glaLEEyvgM2bMMMcdd5ypX7+++eUvf2n69esnloGFhnXeeefJe3a76qqrzHfffRd8oupZuXKlnONvf/tbc/XVV1frb+fDZ599Znr27GmefPJJM27cONOjR49yIs75U4Zbb721OeGEE8z7778fvBMNonLrrbeaSZMm1Sqxt3Xr17/+tenQoUOswFcX//vf/8ydd95pdt99d7PnnnsGe3PjN7/5jfnTn/5kRo0albcVX13Qzp955hnz9ddfB3uUYiVWwBGQp556ytx8881mu+22MxMmTDCPPfZY8K4xW265pbnnnnvMwoULTceOHc0HH3xgrrvuOrPZZpsFn6h6dt55ZxHDK664IthTvCACt99+u5Tlueeea373u98F72yAsqMMuaYklJSUmPvvv988/PDDMgJxwYJbtGhR8CpdULfuvvtuM2LEiGBPzfL6669LebZo0SLYkx/77ruvGBuPP/54sKd4+Oqrr8zzzz9vhg4dalq3bm3GjBlTzmBTipNELpQbbrjBHHTQQXJTw0O77bffXkRp0003DfZULxtttJH5yU+K3xP0xRdfmMWLF4sV9/Of/9wMGjRIOsV69eoFn9jAxhtvHPyXmV122UUs9ssuu8xstdVWwd5Sli9fntWCL2a4r4zqahpEDDfPUUcdZX7xi18Ee/ODa2rZsqWZPn26+fjjj4O9heW9996T0V0+/OxnPzOnn366XKuSDhIpH9Zir169zLJly0TEi30IWFfYZJNNxFpq2rSpiIMFdwqdhVJ5GFmyNWzYMNhTOXbccUez+eabm7fffjvYU1gY6f3www/Bq+RsscUW5rDDDhMD46c//WmwVyl2Epuuf/zjH02XLl3EGsE/nilgiO+MYA2BurVr18o+Ao3//ve/ZTiKdQgEp/Bvrlq1Sob7WDu85ntLly4t8+vy3X/84x+yZeo8OCeCTPPmzTPvvPNOZPCLz2Cl3HfffebZZ5+Vc7K4542/+qOPPpLf5Pez8emnn8rxcGfwPbd8bDCOxsX585tJjgm2PMLnEVV2dj+urilTppT9Fp9zy8Ke6xNPPCFxhDfeeEPOLS1QL6gfDzzwgJRNVFlS/p988ol54YUX5LOIGvUON9abb74ZfCo71KNtt91W/PFhKFvK3sYxuM/U70z1FKHEj855Z2pDipKExAKOtXfBBReYZs2amdtuu83885//DN6pyNNPP23OPPNMc8wxx0gDgFdffdV06tRJgo6PPPKI7KPhjRw50hx//PHi+504caK8RzBv7Nixpk+fPua5554TPzw+XgIrp556qghwmCVLlogvnMaKGN11113S4SDEFn5v2LBh4l+lQ4JzzjnHLFiwQP7nvNu3by/nTUN/6KGHzMCBA+Xc4vyBiAl+aDIMdt11V9OkSROJDfA7VljoVBDUNWvWyG/xPqKZCUSWY1IeiA/Xd/LJJ5uXX35Z3ufYZCsw5MXFZQNOlBFlzXfsb9Gp2HOxAdT999/fHHLIIebRRx+VAF3SFLeahrK88MILxT3UqlUruS+dO3c2r732WvCJ0nsyfvz4ssA7IotbYO7cuSLqufigqU+MQHF7uVCvKDfKmnpGuV9zzTVisBAXov7HZaxgha9evbrog+5KCvCtgIz4wuP5FTJ45Xlz5szx/GGWd9FFF3m+aHh+hfWGDBni+RZH8IlSfGvH88Ws3Hf5rC/A8nkXXwC9evXqedOnTw/2eN78+fNln98oPF+MZJ9f6T1f7OWcXDjescce6/mWb7DHk/Pp2bOn17t377Jz43u+CHq+kMpr3yr1Ro0a5fmi7fkdhOzzOyavadOmXv/+/WUfv++LueeLgrwfxhcDOWZJSUmwx5PvnX/++d6YMWPkN8Bee/jco6DMuPaZM2cGe0rhuy1atPBWrFgR7CktO47L8S32GsK/5Yu416tXLylbyxdffOH5HWSF++cye/Zs75RTTkm8+R11ufLIxIQJE8qduwvn717b559/7rVr106+Y8sVZs2a5bVu3drzRyPyevHixXL9vvjKa66te/fuck+/+uorzxd12Z8NW4d8oQ72bMAfhcrv2Hs1YsSIsnpqy9+t+y7sD98zl9GjR8sx8oHv8f3KQHvKdH5K8ZBz9A8LvGvXrmLFMlT3jxG8U55cgosE7Ro3blzOz2gDeQR9sP6BQCmBliiwkFwrif85pt+4JfCKBY/ltc8++0iaHnCO/KZf6SsElRo0aCABRtITfTGODCxyTF9k5JjuEJvvYY3ze5UJVnEclwMPPFAsabIFLEkDnsD9oPyw2Ll3ZLFQTlxfpuwhsi8YCSTdsH5JPy00uEN88ZNycH3+WLQEiXELgQ20u4F1ygm/MyOTuDoUB24PF0Z4ZG384Q9/kJGAL9amTZs2ZfWU0RBuq0z3hhFP3KguCbQ76h9uHHfDnUMdCe9nS8soS0lOzgJOJT377LMlzXD48OEyxCwENBKCO2FyEagwfJfGjDuCoTP/49Ihd/pvf/ubbLgkuJ58Mh4YRuNDJu0tShQYXuMPLxS2U2Rono/PmnPEjUWQimvee++9zdFHHy3uHFcQixUEGH90VD0BfNu4JQjE+dZzWfwFKC+EP9wpWr81ZerGCTJBvUKwyUrhuxgBnJeFfaS4RqWKWqzQ5gsdFjEAXGTuRgeKDz68n811Mym1g5wFHHgooVu3btJI/OGWWBvFDMKFhUmD22+//eQBmksuuaRsw6dKfq7LTjvtFPwXD0KIlYdoRAkqxwz7TgsB15NL6iTiZMUMqxHf/iuvvCK+cNIP8RWTaREHIhdl0cVt1AcbgC4k3EPqXJzlSifMPaFjIo7BQzOMNMgn5xqI4bgGAZ058RXOmRElzzMkeVLSggX81ltvSYdhO3DOj1ECVjntJI5tttlGOv584buMnNx6zMYzBoySw/vZDj300ODbSm0hLwEHUo6oQAxrk1oSWDhJrZxCwDCXQB2WEI0JSwm3Qfh8CYpi0eQKjXC33XYTS9wdniLmiDqulUxWWK4gXAgED4TkYjEjKIgV133jjTfKtSI6BNoYjSA+BNXiQJCxbpNuWMpVEaDjuhlJhe+VLRfuLwJNh0UHTJ49YoaxQeDddXNxj7BWcb8cccQRInCI/9SpU4NPlHaUdHBxwUhGVytWrBCjwEJWEAFnfhcrm2A6bhsX7gMj2TQ8v6AUNxlrEA0DHx8NJuzrpqEwDD/ppJOCPeWxFi+CabGNGxF3j0djykXccYmEwXJy99PQybg444wzpDFjKZ911lmSkYCg2d+nkeGrDjcm97zj4Pp45Jvrch9w4rcZxrZt27ZSVhZiYM8Ti5a0P7JHbAZNHLij+F06MKB8f/WrX8n/ZMK4Q2mugfKhM4qDzg+RS7rRuYf9xoWAmAZlSlzDWviUDznvbrlQN4kTkFXEvcHNh6hiMbtQLtRH/nK+jE7ozG3nw3EQ/XAHbeG7YVcJv0V5EUPBuOGY4bxq4iJ0/JR9sVLdxpaSHxsPJE8uAoaeiB/ihlVCCtbhhx9eTpCogATrGEYS6HIrKg2ChvHggw+KGJIOyPtYNUwK9NJLL4lFRZCQoS6BRAQKISHtjUAbDW7OnDkyxEWcL774YhFfvsvnEQs6ChrKaaedJj5n0rn4DBYX6YmkBdrgEk+NMrQldZHr4bzJaUcUeJqU1EFSEWmYvI9QYEXzXhw77LCDWH4MxRFG8nux/JjzhDQ3LGV+o3v37nJes2fPlnOkgccdF8sOEaCRk6qGKHBMOlSe4ERUsIp5uAoLmuugfHlalmNS9nRYBBPpBChzzoUGyfnh96cMOV/uD+VE+mNN+MERVvKiXVdT1LXhjuJeUAfJ58b9g9jiB0ZcBwwYUPY0KteOcJOGSoonGy4SvkNdYFTGX45FvUWo6ew4VqNGjczBBx8sxwHKjN/HJeMGRdnPE5WcF6mxHAPoULi/nBtGwSmnnFLOOKBN/P3vfxernU4nCowMhD9TpxoHbQVjguvIBcqcJ3pJXaW9E9uZNm2amTlzprim9thjj+CTSlHhV7gqxRcdSUfir1/pJW2NVK6qwh9Kl/1eHPY8SEvzG1Swt3JUxTGB1DSOmU+ZURacE+cG/PWH7/I/73Fcm/pWU2RKI8yErVdchwvpnqRFDh8+3PMt6WBvaTn6wur5nb7nd/TB3g2QiugbCJ4vZMGeUkg59UduZSmJLvx2VD1jn1vuLhzPNxg8v2MK9lSkptMIlfRQ5U44rD/S9viLhUdvHpdFUAiw5OzvxWHPg9FEofyQVXFMwFLkmPmUGWXBOVnLmr82XZD3OK4dnaQNW6/CQWJcYvPnzxcftGsxc53sO+CAA8q5uwCLnu8wGrSuJgsWNtY3I0G/vQR7S+G3o+oZ+9xyd2FEsddee0kMoirAameEodQNqlzAFaU6QYBJ8cPl5MYxfKtYnjrFVYLrzUKAErcS7gM6SfzpuDksiPCJJ54ooh8XzEwKnQsuCTdnvNDQqRErUOoGKuBKrQLB/fOf/1zmQ//rX/8qG4+7MzJin03vI/BNoBsLm4dvEHJiK9afbSHmwPfxo3/zTX4TuWG94/vGOlZ/slIoNsKPEvyvKNUOD5ggbBbEDVdGVWSxuBD4ZI4bgs8uWO4svBAFQV+CkwTMc4WsJLJPmD0y7FohWE4g30JgnGmCCborSiZUwBVFUVKKulAURVFSigq4oihKSlEBVxRFSSkq4IqiKClFBVxRFCWlqIAriqKkFBVwRVGUlKICriiKklJUwJWCsX79eplrpCqeDWMRhKg5uRWlLqMCXuQghsyLHl5FqNhggQXmCuFx86hZ+CoLE0ExV3UuS54pSm1HBbyIYVENu+IL/xczLE/G0mEsmOHC5E/MdcIC0vfee68sVhG20Fk8YN68ebKoAO/RWbHQMgspWJiAijlKmDMk3wmlFKW2oQJexLBcHasNhUWx2GBBZKZJZfUZ1/pm4qcrr7xSVpfp3LmzzOrHZ1hxyRVxBPyEE06Qpd2YDpY5uJnMKbywNCs48R6rRCmKogJe9LBoQHjRgmICIWaebZYHQ1xdmKqV5cWwmJldkDUrWa6MpeuwxC0sMnHsscfKxjqrzFDIMmgIvwudQ8uWLWUpM2b2U5S6jgq4UilYg3HBggWyvmTY980aqJ9//nnZKvLMs80qOSyuEF6pnfVXWYuRtUyZrjVuwV9WkWfhBdYtVZS6jgp4iiGwh++YxXjfeecdyQIJQ+bG66+/Lq4YFoa2PukpU6YUJDDKKjUEMN2V2S0spLBs2TJz9NFHy2sCkCw2zOLL+c51jSXPIsgsvhD2pStKXUMFPIUgXM8++6zp3bu3+IyPOuooCfhdfvnlYvFaWAbsvPPOk2XCsHr79esnr7GCJ0+eXM6NkS+sYMMCBFFrdrJsGGtDshIOHQduEV5fdNFFFdxC77//vpw/ljgr6uB+ieqQACt89erV5rvvvgv2KErdRAU8hSxZssTccMMNpkePHuJ7JkMDaxdxHD58uIg1G75mFtBFtFu0aCF/WVQXwUXAd9ttt+CI+YPwbrXVVrGLSCOyrHzTtm1bWZWG1XZ22WWX4N0NfPLJJ/IebpSRI0easWPHVgh2Wghu0vkUe2qlolQ1KuApA5fIgw8+KC4LN0sDaxexfuKJJ8SdwhqP/CVAaNd45C8ujxUrVogFXKh8bfc3wvAeGSWkGZJKiEgPHTq0nPjiUhkyZEjZMmq4V5o0aWImTZokwh4F5UAnpSh1GRXwlIErAgFm9XGChGFwmyxfvlxcGvvss49Zs2ZNmViy2jr+Y/ZHgeiHc6yxgBFR8rIr+yQkln+zZs0kl3v27NnBXiPWu2vB07Hgdlm0aFHsSvD4/9UCV+o6KuApA2HDekZoEeQoEHf83Keeeqq4LcjssBZw//79xVK3cAxcMizui5ujpKQkeKdUvHFjPP3002Id4wqhc0gCgc1p06bJxv+AMJMayOP2dAiAK+Tkk08W/3zYouZzcde4zTbbmC233DJ4pSh1ExXwlIFljRWNVRwO4iF4hxxyiNl1113l9csvv2zuvPNO06lTJ8nBnjhxooil6zqhQ+DzZ555poiiCxkk8+fPN6effro8EdqmTRsJRLpCu+2220p2Sfhc8I3fdNNNsvG/xf5v3SVY0WvXrpX/LXQcBDD322+/CucEfAeXEeeuKHWZVLaAujxpEr5mxJbrJz3QgkvhpZdekiwO6xtHVBFc5ichfY9sFJ6atBYxIOYEP6OCkAQ8wfq3seqxwN35SLbbbjtJTwyXGdYx2SJ0GLhOgHPk6Uw6meOOO0728d6JJ54oAVmODxyfkQPZKFEBTx7iIQAblyuuKHWFRAKOYDJPRTEIW12aNGnGjBny6PmsWbPMZZddZi688EK5D7ghJkyYYB566CF5VJ3Mk27dukm+NY+s23I54ogjxAXCY+p2a9CggTn++OMlwJmNqKcd6eBc3/Puu+8u9cI+rGPBMifN8ZVXXpFOZM6cOZI5QwdAENM+ZYkII9S4UMhnx9XTtWtXc8ABB5gLLrhALG0XXCqkLjZs2DA280VR6gy+FZuRUaNGedtvv71Xr149b+HChcHemmPq1Kne2LFjPb9TCfaU8vXXX3vTpk3zRowY4d1zzz3ehx9+WOEz/vDdmzt3rvf555/Le9988423dOlSb/bs2cEnSmHfVVddJccsdnxLXK7nhx9+CPaUsmLFCs+31D3f8g72lLJmzRqvT58+Xt++fb3vv/8+2Ot5a9eu9Tp06OD54hjs8bwhQ4Z4PXv2lHIC3mvatGm5ekAZdenSpUIZWvgNv7OVcvdHDBXO08Jv+GLvLViwwPM7jgr3zsL5t23b1vNHB8GemoHreuaZZ7yVK1fK/37H4vkjEc/vdOX8k+KPkryZM2fKfYyC+zJp0qSyel1SUhK8Ux7q+7hx4+Rz8+bNk/NRaj9ZLfDu3bvLQxXheSlqAp00qSL4xHFXhC1VApNcQ9gFgcuDSbLIZAlnnISxfmoXypYgqQULGrcNgU7XN27BSiZXndEAPu3weVoIzJJOyMRdnHfc6Aq3DkFYLP+ahKkAGAFxTZQJ94DrJCgb5bd3wf31/PPPy0ikdevWZsyYMZFlx2iFUQujEeoz0wccdthh8ru2XvOX+WYYofEec8nwdO6NN96oaZZ1gEQuFBppTfsbqag6aVJyEEzcGpSN6/OmE8T9QkCSTiwTiH0YhDb8FCXCQUDR+syrCtxbdOCce1xHUF1wvTzAxLwt1CdcQDwNiwGR5Nzo2AgO8xRtFIgvefC4xUj7JNCMkULsgGwiOmDg78CBA81ZZ50l7jEe6mrfvr0En/2RknxGqb2kJoipkyblBg351ltvFZ8xosKTmmw84Yi1ht85zsq12Hxxm8pHnjidHcd2QdAvvvhiGfFUVeyADpw5XAiA7rHHHsHe3OEa2DLBb4XrTRRY3Ygp9alPnz6SHZStTAEjg06PUURULj9wjqRaXn/99TJyhHr16pkjjzzSLF26tCyATYfGa/eecF4EeRkVFXNAXqk8lRJwgpsEw2i4PJiBhRQFljFZBUxAxGcQ4/vuu6+CdZgJnTQpd6x7A4v7rrvuko0huSs0NHCG5ARCsdp4jJ3UQwQEVwUjGXK5ERFGQFh3NlvEBQEh6PjUU08lEr9cefXVV8VVwaIOSUQyzGeffSaBXuoDGyMwAuFR95a0RtwQNQmZQdTnxo0biyBbbEaQ7VRxx8RBm8j0vpJ+8hZwLF6sjrlz58pwncZFKhiTLLmNglxkhnf4qRHujh07ysMkiMv48eNlubAk6KRJVQNDecoBYaeMeUqSe0Q5I5TnnHOOpPlRRn379s3oe6a82rVrF2tVVgY6Y7Jn8hFvRmJ0SnQ+ZPEwUsOyZTSC+wFxt1B3yZiJmxrAhc4P65s5ZkiXJJ4S9+h/rlCnyToaNmxYWcwB0WZESDm7D2PFQUfE9Sq1l7wEnAaBxcaQjsqL9YVvmrQxhIAAGlB5brnlFgnAIBI0QNwWiCiWHVa4GxDLBN8p1kmTuA6eeky60YGkxTJCMLlH+GDTmraH4UB9O/TQQ6WT55p4MAkXEy4JDAxcQLhD6Lzw5fPZbGB8IKSktRIvwW3BcarKjYS/G5cJD2ZZ9xYWOqNFa5ED7Y6RMfvc/UotxBeurITTx/zhrOdbYpIy5ULKky9Qnm/VeD/++GPZ96ZMmRJ8wpP/SUv0LfNgTzJIaWNLAilVJ5xwgud3JmUpcOB3POVS50hV4zO+9STpaWG4Xr/T8XwrPNhTvZC6qVv2LRtff/2151vZwauKUEe415MnT5Y664te8E481B2+x1/L8uXLvSZNmki6X1Ko07QZ2k4muIZevXpVqNN2/9ChQyVFk/N54IEHPL/DlbbH9Si1l7wscCZMIjsjznom+IKvm4c5sErwn/q/Je9hEWDdMAx0YYiOn5vgTGUDL7Vl0iQsPN2yb9nAXUdd5UlURj+MFMkYYSQJuNmY/ZAnXHER4f93n3KNgrrD91yXjq1P+NYL6XYj9jNu3DgJ3vpiXc4tyLVdc8010q7IamEEivuLdFlGxtlSGpV0k5eA2woUJ2y4OvDhEXzBZUBgi0AaaVE8bUfKlZuiht8aVwvRdIavVD4yTpJA5a7pSZMoB4bpSTeGuHRYSvWBm4y0UtJD8elTJzt06BAZyMQ4YRbHTNxxxx3yNCjB1TDUpfAx84U6PXr0aAm8kk1EABljAzehBRfKFVdcIUFm5nknjZY6hnuH95TaS14Cjm+ZTIZwjjTCiPWMPxwrAGEjMMb81VgH+MDxPTdq1Cj4RikEOgmKWisInySNzbWuinnSJPzqZL0k3fBPVkWmhhINYkb9InWUnG0Wt+AhGuYgZ5RGUN0G2TEcMCaoE5mgLoVHirY+1a9fX545AASYemuNi1zgeEwtQCyG3HdbDzF0rPFEALZnz56SYmk7Deojo16uNa1xCyUZeQk4QzmyE4jWu6mDRMipRHbGOzYmOmL9RSod4sUwFuvGtUCpmAQ+scSBAA0V0M0OKOZJkwiIkYmTdMOFFJWKVxvhPjPCseKSBMTO1oVCgDBjVIQfsEEYbSCTDBIMCOoqbhZEOBMEDwmGH3jggfKa68MaZ3TqPilM6iZ1iMyoOCgjtz0AxyOjC8OEB84I/tsgOPvsQ1h0TLQpRq4cg7LjCWKMJM5RqeX4FSUjzDty0EEHSbDIF1Zv0KBBnt/7yxwOvmXtnXvuud6wYcM8fwjnde3aVQKIFr9CyfwkBFTCgad27dp5vqUQfLI8d955p8yvQYDGQjDmL3/5i/fBBx8EezZAQPSMM87wxo8f7z333HMyz0fz5s0rBEo5RseOHSVY5Vssnt8ovGuvvbbc71j8hiDBWDcAWyxQrl988UW5YFYxQlCNezl//vxgTzL43pgxY3L+XnXCOY4cOdIbMGCAzIkyePBgr1WrVhXqHPWf9sP8JBZfdL3u3bt7hx9+eFl7oG0RTPfFVz5jEwLcNmM3N7BOHfA7HJkDhfloevfuLZvfacn7Su0mq4Bng4pMhfStrGDPBojst2/fvtwEPIjP+++/L8I/evToYO8G+CzfYQIkF0S2Lk6aFObRRx/1fMtRGnIxdi4uU2MmHkOcsk3QtG7dOpl0a9myZcGe4oPrwmChzlH33Ayn6oS6jnHCeXA+cXVaqX1UWsAzMXz48NjUP39IKelPWPMWRPr666/3lixZEuwpz6xZs6RRY/1XNfwWo424jqAm+eijj7xjjz22qAV81apVXufOnSukZyLIWIhLly713n33XRkt0SEh9mHhWbx4sXy22EcailJT5OUDTwo+Z1L0XnjhhTIfn/+bEvknYo5fzwZ7CMoQ4PQtc5l9jewRgk8udXHSpCjws7qpZMUG9zhq4jGC3EkmaLLsvffeUi9YqEJRlIpUqYCTqUL+KmLME27MWULqFpPs8IgwE1MBgRfm4+BpObJXmEaTAGk4+wPRSsukSXUZm80RnniM/OokEzRZCB5TJ5h6NS7NU1HqMlUq4MADFOeff37ZhEo8dkyU352UihVnmFeFuaDJ6CBLgzTAqBSoYp80qaYhU4fsBTo5ct/pkMKQyYNYMjLi82R80GmRgWHT0yoDecp0yuGJx5JO0ORCOh8ZSmRbKIpSnioX8CSQr8qkUe7TdaRKWfdKmGKdNKkmQTBJVWM5OFwTpMSRfsZIxxVlnqJl/hpSz3Bp8GATr0lr5CEQd/70fCH3P2risXwmaELocb9h1SuKUp6iEHCl8uCWwoK+9NJLRcARUHLeEWxGPVjiCDYPSCGUiDYPtPCXmAKfR8DJWa4sjJ4yTTzmEjVBkwsPWOFKUwFXlIqogNcCGLEg3ggg7h8L/mXEnAc7eCgJHzRPgTKysW4L/uLyQEiJMRRq5OH+Rhy4boiREOzu0qVLxoBxIVw7ilLbUAGvBfDEKkFB3A1RVi9+fVwjuDQQeZ6EtYKIC4Ngc5T1C4g+QuuCNc/j2gQk8514DJdP3ARNUagFrigVUQGvBRALwIfNPDFRgUBS+RBIPsOj2EwfwLwgzLNB+h5zgbj+Z45B4PDmm2+W2e1KSkqCd0rFmwApLhvmmWEOdrKGcgHxzjZBUxg7TYKiKBtQAa8F4CfGd40l7lrECDGijnVtM0KYOIzVafA5M2vdxIkTy+auseBzxvXCxGLhSb5Ypoul15icjIwhcuUJnuJft8RNPAZ0ANkmaHLhuGQbJVkhR1HqGirgtQDypQlGMlkYQUsLbg6sWqxom7aHqCK4PExlJxdjpXqsYgtiTspflDvGPkRlBRXrGQvczcuPm3gM8U4yQZMLD1UxeohaIV9R6joq4CljxowZMtsdufOsLk9aHk+skluNO2TEiBFm0KBBMl0qDz3hXyYt0sJsiLhAmHPdbg0aNJDPEODMRngKYcBydq1nFkVAvFl70oVc7jFjxkjHwYIKLLZhN4KeUVP64r7BfeIGZxVFKUUFPGUguKyYTubJqlWrRBCxrrGamYIA9wjCzcNOLJ7RvHnzMvcI1jkiz3435568bfLfedAqW1Ayai1PXDdukBHBJY0w/Gg8ud88MOT+tt3omPCJu+AC4mEjzi1bkFNR6iIq4LUM6/5A1MNTERCYJKAZnvsc98RJJ50kghvOOAkTtcIL1rG7vB4uHVb9J9Dp+sZzBRcQ2TOtWrUK9iiK4qICXofAfYJb48knnyzn88YHzlQHBBWj/NAuUb5orOOwhVzZicesv/yoo46qYJkrilKKCngdgnlkWIEG1wTpe0wuxjZ27Fjxp7MykZuNEoXNF7fpiuSJs/4ox3ZB0Csz8Rh+cp7oxGWU7ZwUpa6ykW/pFGb1VaXWgB+c6WDJYGGWSOaqYekw0gpxjzAlLNWGNMR7771X1jAlcBkF+d0ELPlM0rlrWG9y+vTpZb+nKEo0KuBKzlBlyCgh+4X8cl04V1FqBhVwRVGUlKI+cEVRlJSiAq4oipJSVMAVRVFSigq4oihKSlEBVxRFSSkq4IqiKClFBVxRFCWlqIAriqKkFBVwRVGUlKICriiKklJUwBVFUVKKCriiKEpKUQFXapT169dXatWeYoVr4toUpSqpFQJOQ2Fq02zrORYLLFvGXNssIhzXyFkoga22wzqdrLxT27jjjjvk2hSlKokVcATxoosuMgcffLCssbjvvvuaV199NXi3lMcee8z8/ve/l/ftZxCm6mT06NEyJ/VOO+1U7b+dK8zcy0IJvXv3lnNldflnnnkmeLcU9lOOLCPGtWWDz1955ZVm5cqVwZ7aA2tishgEiybT0dFBv/fee+aJJ57IqbPmOHPmzAleVYR1N8ePHy8LPrOAhbtAs4v7ufnz5xe1hc0IgLpVk0YAdZIFuNES6v63335r3njjDbmnNUExlIkFI44FvqlLkydPzroWbRyxAs6iuKNGjZILZkUWJvAfPny4NCYLC+Gyonm/fv3M1KlT5eawgnh10r17d2mciF6xs2zZMllFvkePHqZRo0Zm0003Dd7ZAOW3ePFic9555wV7MsP9QehffvnlYE8pCByLCqfZimdlnssvv9zsuuuuUh9ZPPncc8+Vv9kWkWAlIAyMXr16ybqaL730UvBOeRBirOWWLVuao48+WjoH/i5YsCD4RGnHSzmz7BxrfZ599tkiTDfeeGNRuX+++uor8/zzz5uhQ4ea1q1bS12ryfNDwFkSD+OKtVZZUPuqq66S19VFsZUJvPbaa7KUYb169aSds1IV55fPeSVyoWCFI9I0iPvuu69sPURAhFjlnBtUU2sX8rvhFdiLkaVLl8pakVTk/fffX0Y0dI5RbLzxxsF/mUFMbrvtNhEdl++++046tmISmFyhYu+5557mxBNPlPU66aiog3R+Sdhmm21Mp06dzG677RbsKQ+W4ZQpU8ypp54qdbhBgwbmuuuuk9EPxsunn34qn2O1/oEDB8qycHyG9T/bt28v4r9w4UL5TCHhvLDMuIe5Qsd2+umnS6dV02y22WZSv9mop/fcc4+5//77ZQ3VXGHkNW7cuOBVbhRTmbCAeP/+/U3Xrl1Nq1atRLeog6+//npexlYi1UMgzzjjDKnAFGJVVFolP3Af0Ti22mqrYE8pVJSSkpLgVXrB4qXR33XXXaZdu3Zm6623Dt7JzI477miaNm0qq+jHde4INC6o66+/XlbrB8S7WbNmZu7cuWVuqZkzZ0rn6y7czIiAjoFRTqFjL9ZdlOtiWVtssYWUF+uTJl1/tKpBNxidY2Scdtppea9xitH4ww8/BK+SU0xlwjVQFtSdhg0byj4M3wsvvNB06dJF/s+VxGYr5j4+cW4AK5tnWmn8xx9/FCti+fLl0rNw4jbQiKgw3GdoA/jFcMvQkBj28l2Cey+88EKZBURFxv/IsJXPZPI92gDhiy++aL788stgb3n4zOzZs2U0gdvHHi983vSIHIvfztaY+C6N/IEHHpDf5rosfHfdunXyu5QFv8GWxIdqy4NrD59HuOws+HxHjhxZ9jv4dN3zseeKv3fRokWy+vuaNWuCd+sOO+ywg4xcDj300DJ3lh3NUT/tSNPW1Shwi2V6X1Es6BmGASMQRuK0TTTqyCOPlFFK0lG3S05+B/zMl156qZkxY4aIH0IQBb7LAQMGmGOOOUYsJ6wJBIQh8Mknn2wuueSSMsHAjYA/iItAUIYNGyZChfXD0Papp54yN998s/gwEcFu3bqJH8s2LpexY8dKkAnh5RgMmwgauqJn/U+IJ6uqI7hXXHGFiCvnfc0118j3brrpJtmwsCjcJUuWBEeoCOJJL4oQMizCbdG5c2f5LcBywIrDr8p1M2R6+OGHy4lqFNxsXFdcC2V99dVXm2uvvbYs4EEngz8dF4MdFSHeHBvRtr/F0JWOCqg0+JUpI4aUiBX3Y9WqVfJ+scH1DBkyxLRp00bqw8SJEwvmFsIYwTVCedCgADEme+Twww+X0U02qDOUqRINbYLyxRLHDfbkk08mMlxqIx9//LF5++23pf5iBM+aNUtcdRjGbmwxFzYJ/iYC64TAJf4/hkQE3Jo3bx68uwF8vIguw1caIGy++eYSwNhjjz3MLbfcIvuAYS4i37FjRwnecWEMMRA3RAl/0YQJE8T3CBwPP2jbtm0rDKdpdBzH+uIZDhPEYujbpEkT6QEHDx5sjj/+eBFaQGjxk2LhItT4HgkoIOx8l8LGAo4b3tB4ua4WLVpI2fDblAkdDB0DnQpBGyovFZcbdcEFFyRyBXD+CDgZPkAZcLPppAjeNm7cWCxtrtlC2dOZ0LNzDuHf4lrYf8ABB4ho8d75558fvBsNojZo0CAJWCeFBotrp7Iw0qPj6tu3r1wTBgRlSDlssklO1TcRr7zyinS0CDsWOlDODMVdo4H7bsvS3Z9WyAxx22U2tt12WzF26tevH+yJhvZK3aH8Vq9eLb5f6hPtwbbTYgUjFZdHUtA26irXGgUxDUScoOrdd98tbh0MM8oHIwXjzBoSSck58ofVghWMdYJFbQU6jB2KJoHPsSHmiLeFIQXC6wY94goHEDq3UhAAoxPBiqaR4S7A3UAA0YK477XXXhUs7J133ln8qATM6GDIhIgCVw8dzYEHHljut/kuftXK5Dhzra7fjuwLhBdr3rqwbNklheNxTiNGjJBrxhKnM8uUPcR5kHHxyCOPJN4KId4EFjEErEjgxmOkhk8c8Sw0lCkxnj59+oi/1t5P6gDxH4SdBseIjtHRsmXL5P3KQPkzWnI3OgcMBzK/wu9lG7XlCwZI1H2M2zAisok3dQphsm0Wg4T2PGnSpFjdsO7G8HXTeXPt4f1shY5BWKjDUdcet9FGMumThZE/6deAEYJhhqcA122u5CzgQE9DT0qFvv3222NdKblCrx4mH7+QxYobfnduPn5fmDZtmljabFjIiDMCnA8MiThvRhhRvPnmm3llE0RhO0UsGYbu+UBl6dmzp4x0qEhYAVS8Qt3DQkLlJpPBhfpARX/rrbeCPYUBtxT1AcvwnHPOKWfdY7RgbWIE4F5j9Mf9JkUOA4Bsl3ygXkyfPl1cXO5msxIQuvB7dBxpgewPN93T1l8MKTdm44LRw+g3fN0IJMZXeD+bdVUWO9RdBB4jNZwGi2WeywjXkpeAcyOovFglCCCCWMwQoLKFR8PDn4rf191wn7jQQyYZziAwNP44vyyjgkJHv/nNcAXIBOeG6CFACBMuEwSQWAbRb6wpGoIbK3CJs4oybViWlQGLi/MkTzbKx1xItwX3j+HrcccdJ352RIbO3n2SkrqDSwxLiQcv6Pw4L0ZvSayuKLiPdAbhuojbi8AqbqLwe+F6WiiwYqPuY9zGtWfq9InbEO/CBRhuG7hQ4u4f4sZ9D183+f9kB4X3s1FWVUGcxR+3USaZ/Pt09HEprfmSl4ADVgm+ViowQ/qkFLLhZYOKQ8XElUJjYfiGsNjsFgsNOJ/hCxDYZTho09As/DbHJV2oMqMIF8oOq40Rg5vSlg2uGQuGsiBD5sEHH5SGcsQRR0iMAeuS648bKfC75OEymki60YArA4Hf8H0CzgXBdB8GQUhwf+QziuA7dF4EgoldWLcJ8RhbV/G5M2rhyTnbyXHPCbQjqLl0psUK4hN1H+M2Rp6ZRpaIX3iUSNkhcPvtt1/eo5bqhHscde1xG269TKmOuHPRC8otrIO8h2cjV7IKOJkMmPdRFia+aUQ8zgJhP+4L+10EDX8xN9G19njNFr6oOOjBoyw8GpRtxByf4SYFiiVAw8R9QHANC8oVXDJccEu4uOedCQJcWFFElN3fRgDwtWOp5QvngOVr4YESfoffc2MFUeDWQbC5BjaCsFZoOAYWLlAuBDLxZ4bdFRasdlxMCH7SjU6zMnC+CCrTBNhrtfWHkZ8bxyBGgWWDbzyOcJ0D7pfNMSf7CeubjSkOCJTjcwd80dxPRi0ch+89/vjj4hvn/hcrtl0lAYMg6j7GbeRWZxp5EACmUyRLyqZo0sniBsFNRXyjJsilTIiDRV173Oamo0aB0UuZLFu2TCx2oC6RIYZG5dNmNh5IuD0CemTEmXk7SPVjmM3JhZ+CQ8QRGX48nHZFpSDfmuEoJ0mmB0918ugy0V2Ox00li4LoP08O4gfCzYGPnSE+v03UlqAgjQzfLULGo838Hr0WhUFvyePQ+OT5PfyI/CZZJzYAiRARKKVTIvLLXwKcQAHy8Au/y3exMDh3hJ1rdn2iLrhHyH7BgiUAhqWKDw/xJJWSB2woSzJaOHfrusC6jDsuN5XgKEKF5YzVzLlgKZJ9gvsK4eU4vEbUKFtEGUHhmDQgYhS8hz8VYULUsYzxQTJqoqwJaPKX4XqcH78q4d5hqYWtD9wY3Demb+CcsYK5/4xmGDW4WUHcNywgOjZrmROgxRVBKij/89QkKWx06nRGdAq4SDgW94R0N7thCHBvqBN0ejQ87iv3ks6QDCzKGveAFfkwlDFtIx9LE+sVoeNe5uJ+o57xuD91nvbFdeDe5F7jysvHwssXzhurknZGx0ubveGGG2RESl3LJHRRUE+4X2H9yUYxlQmgY9RXRsHUK7SGc0KGsxllUWzkWyXRjs8CweGttUdlxyLmhtJ7x4liZaB3pUNBAPg9OyQOg8BiyePnzjV1J46qOCYw2qDcci0zWxZUFGt9cxzKhPLhPRpaTQi3hWEnHQidUhR0ZnSmNEQsIjomzr264TwQd0ajWI+cR1zdAjprnoMgSJwriBUGE9ZrIetRTUBnZN0tdGgYdZnKLQ7qCaJLBlzaQRMZXVOfEO299947by2scgFXlExkE/C0UhkBR/Rw2TBaLFT8JO3QqVFXitllVRNUvymjKEpGsLrxqap4b4A4jYp3RVTAFUVRUoq6UJQahQAlARx3LghS9ngyME3YeS0s+MiZYoGnDxWlqlABVxRFSSnqQlEURUkpKuCKoigpRQVcURQlpaiAK4qipBQVcEVRlJSiAq4oipJSVMAVRVFSigq4oihKSlEBVxRFSSXG/B8qw78QLx6rVAAAAABJRU5ErkJggg==)\n",
        "\n",
        "Note: To find log use the math library\n",
        "\n",
        "> import math<br/>\n",
        "> number = 10<br/>\n",
        "> natural_log = math.log(number)<br/>\n",
        "\n",
        "\n",
        "\n",
        "> import math<br/>\n",
        "> number = 100<br/>\n",
        "> log_base_10 = math.log10(number)<br/>\n",
        "\n",
        "\n",
        "\n"
      ],
      "metadata": {
        "id": "Gd4pYzGgtn8U"
      }
    },
    {
      "cell_type": "code",
      "source": [
        "import math\n",
        "n = 35\n",
        "n_bits = math.floor(math.log2(n) + 1)\n",
        "print(\"The number of bits\", n, \"is\", n_bits)"
      ],
      "metadata": {
        "id": "rrQAAni3togD",
        "colab": {
          "base_uri": "https://localhost:8080/"
        },
        "outputId": "873c57e7-7731-458f-f981-763ea6e3e6e3"
      },
      "execution_count": null,
      "outputs": [
        {
          "output_type": "stream",
          "name": "stdout",
          "text": [
            "The number of bits 35 is 6\n"
          ]
        }
      ]
    },
    {
      "cell_type": "markdown",
      "source": [
        "**Exercise 23: Distance between Two Points**\n",
        "\n",
        "Write a program to calculate the distance between two points in a 2D plane given their coordinates (x1, y1) and (x2, y2 ). Use the formula:\n",
        "\n",
        "![image.png](data:image/png;base64,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)\n",
        "\n",
        "Note: To find square root use the math library\n",
        "\n",
        "> import math<br/>\n",
        "> number = 25<br/>\n",
        "> square_root = math.sqrt(number)<br/>"
      ],
      "metadata": {
        "id": "Fp4ax--Jw6o0"
      }
    },
    {
      "cell_type": "code",
      "source": [
        "import math\n",
        "x1 = int(input(\"Enter the value of x1: \"))\n",
        "x2 = int(input(\"Enter the value of x2: \"))\n",
        "y1 = int(input(\"Enter the value of y1: \"))\n",
        "y2 = int(input(\"Enter the value of y2: \"))\n",
        "\n",
        "distance = math.sqrt(((x2 - x1) ** 2) + ((y2 - y1) ** 2))\n",
        "print(\"The distance between the two points is:\", distance)"
      ],
      "metadata": {
        "id": "DoWw1kbSw7cF",
        "colab": {
          "base_uri": "https://localhost:8080/"
        },
        "outputId": "c16ac312-c9f5-4f9f-c653-ff4876bfb2cd"
      },
      "execution_count": null,
      "outputs": [
        {
          "output_type": "stream",
          "name": "stdout",
          "text": [
            "Enter the value of x1: 58\n",
            "Enter the value of x2: 26\n",
            "Enter the value of y1: 17\n",
            "Enter the value of y2: 12\n",
            "The distance between the two points is: 32.38826948140329\n"
          ]
        }
      ]
    },
    {
      "cell_type": "markdown",
      "source": [
        "**Exercise 24: Count Vowels**\n",
        "\n",
        "Write a program that counts the number of vowels in the string \"Hello, World!\". The vowels are 'a', 'e', 'i', 'o', 'u' (case-insensitive)."
      ],
      "metadata": {
        "id": "opm3e2MFYC7E"
      }
    },
    {
      "cell_type": "code",
      "source": [
        "vowel = [\"a\", \"e\", \"i\", \"o\", \"u\", \"A\", \"E\", \"I\", \"O\", \"U\"]\n",
        "word = \"Hello, World!\"\n",
        "length = len(word)\n",
        "count_vowels = 0\n",
        "\n",
        "if length > 0:\n",
        "    if word[0] in vowel:\n",
        "        count_vowels += 1\n",
        "    if length > 1:\n",
        "        if word[1] in vowel:\n",
        "            count_vowels += 1\n",
        "        if length > 2:\n",
        "            if word[2] in vowel:\n",
        "                count_vowels += 1\n",
        "            if length > 3:\n",
        "                if word[3] in vowel:\n",
        "                    count_vowels += 1\n",
        "                if length > 4:\n",
        "                    if word[4] in vowel:\n",
        "                        count_vowels += 1\n",
        "                    if length > 5:\n",
        "                        if word[5] in vowel:\n",
        "                            count_vowels += 1\n",
        "                        if length > 6:\n",
        "                            if word[6] in vowel:\n",
        "                                count_vowels += 1\n",
        "                            if length > 7:\n",
        "                                if word[7] in vowel:\n",
        "                                    count_vowels += 1\n",
        "                                if length > 8:\n",
        "                                    if word[8] in vowel:\n",
        "                                        count_vowels += 1\n",
        "                                    if length > 9:\n",
        "                                        if word[9] in vowel:\n",
        "                                            count_vowels += 1\n",
        "                                        if length > 10:\n",
        "                                            if word[10] in vowel:\n",
        "                                                count_vowels += 1\n",
        "                                            if length > 11:\n",
        "                                                if word[11] in vowel:\n",
        "                                                    count_vowels += 1\n",
        "                                                if length > 12:\n",
        "                                                    if word[12] in vowel:\n",
        "                                                        count_vowels += 1\n",
        "\n",
        "print(\"Total vowels:\",count_vowels)"
      ],
      "metadata": {
        "colab": {
          "base_uri": "https://localhost:8080/"
        },
        "id": "7UX7cI1EUAUO",
        "outputId": "c89c363d-f688-47d3-f702-5647c0770649"
      },
      "execution_count": null,
      "outputs": [
        {
          "output_type": "stream",
          "name": "stdout",
          "text": [
            "Total vowels: 3\n"
          ]
        }
      ]
    },
    {
      "cell_type": "markdown",
      "source": [
        "**Exercise 25: Calculate the Sum of Digits**\n",
        "\n",
        "Write a program that calculates the sum of the digits in the number 4826 without using loops. The sum should be 4 + 8 + 2 + 6."
      ],
      "metadata": {
        "id": "G2ICiaeiYRC-"
      }
    },
    {
      "cell_type": "code",
      "source": [
        "number = 4826\n",
        "\n",
        "sum = (number // 1000) + ((number % 1000) // 100) + ((number % 100) // 10) + (number % 10)\n",
        "print(\"The sum of the digits 4826 is:\", sum)"
      ],
      "metadata": {
        "id": "Lx87EqA3YZ_8",
        "colab": {
          "base_uri": "https://localhost:8080/"
        },
        "outputId": "c0093c38-390f-4279-e5c6-fce17535f44b"
      },
      "execution_count": null,
      "outputs": [
        {
          "output_type": "stream",
          "name": "stdout",
          "text": [
            "The sum of the digits 4826 is: 20\n"
          ]
        }
      ]
    }
  ]
}