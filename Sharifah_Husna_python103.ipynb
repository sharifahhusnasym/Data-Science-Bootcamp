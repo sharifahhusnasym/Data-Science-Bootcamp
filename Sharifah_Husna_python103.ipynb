{
  "nbformat": 4,
  "nbformat_minor": 0,
  "metadata": {
    "colab": {
      "provenance": [],
      "include_colab_link": true
    },
    "kernelspec": {
      "name": "python3",
      "display_name": "Python 3"
    },
    "language_info": {
      "name": "python"
    }
  },
  "cells": [
    {
      "cell_type": "markdown",
      "metadata": {
        "id": "view-in-github",
        "colab_type": "text"
      },
      "source": [
        "<a href=\"https://colab.research.google.com/github/sharifahhusnasym/Data-Science-Bootcamp/blob/main/Sharifah_Husna_python103.ipynb\" target=\"_parent\"><img src=\"https://colab.research.google.com/assets/colab-badge.svg\" alt=\"Open In Colab\"/></a>"
      ]
    },
    {
      "cell_type": "markdown",
      "source": [
        "# This exercise is to test your knowledge in\n",
        "\n",
        "1.   For Loop\n",
        "2.   While Loop\n",
        "\n"
      ],
      "metadata": {
        "id": "sh59bu-cmHQf"
      }
    },
    {
      "cell_type": "markdown",
      "source": [
        "**Problem 1**\n",
        "\n",
        "Print first 10 natural numbers using while loop"
      ],
      "metadata": {
        "id": "NUBr3r3Er9Ub"
      }
    },
    {
      "cell_type": "code",
      "execution_count": null,
      "metadata": {
        "id": "J-YS3jigr6bo",
        "colab": {
          "base_uri": "https://localhost:8080/"
        },
        "outputId": "44911f06-0716-40aa-eda4-0c7047c8b554"
      },
      "outputs": [
        {
          "output_type": "stream",
          "name": "stdout",
          "text": [
            "1\n",
            "2\n",
            "3\n",
            "4\n",
            "5\n",
            "6\n",
            "7\n",
            "8\n",
            "9\n",
            "10\n"
          ]
        }
      ],
      "source": [
        "n = 1\n",
        "while n <= 10:\n",
        "  print(n)\n",
        "  n += 1"
      ]
    },
    {
      "cell_type": "markdown",
      "source": [
        "**Problem 2**\n",
        "\n",
        "Print first 10 prime numbers using for loop"
      ],
      "metadata": {
        "id": "VSmefGGDsDr0"
      }
    },
    {
      "cell_type": "code",
      "source": [
        "count = 0\n",
        "givennumber = 1\n",
        "while count < 10:\n",
        "  givennumber = givennumber + 1\n",
        "  isprime = True\n",
        "\n",
        "  for number in range(2,givennumber):\n",
        "    if(givennumber % number == 0):\n",
        "      isprime = False\n",
        "\n",
        "  if isprime == True:\n",
        "    print(givennumber)\n",
        "    count += 1"
      ],
      "metadata": {
        "colab": {
          "base_uri": "https://localhost:8080/"
        },
        "id": "NRoosrQdv6Ah",
        "outputId": "2fb86bc6-7fa3-4dad-cba6-0a02363c6f86"
      },
      "execution_count": null,
      "outputs": [
        {
          "output_type": "stream",
          "name": "stdout",
          "text": [
            "2\n",
            "3\n",
            "5\n",
            "7\n",
            "11\n",
            "13\n",
            "17\n",
            "19\n",
            "23\n",
            "29\n"
          ]
        }
      ]
    },
    {
      "cell_type": "markdown",
      "source": [
        "**Problem 3**\n",
        "\n",
        "Get number of items as input and generate that many ADAM Numbers"
      ],
      "metadata": {
        "id": "9TXi2WCNsNTg"
      }
    },
    {
      "cell_type": "code",
      "source": [
        "num_items = int(input(\"Enter a number:\"))\n",
        "gn = 1\n",
        "count = 0\n",
        "\n",
        "while count < num_items:\n",
        "  gnsquare = gn**2\n",
        "  number = gn\n",
        "  result = 0\n",
        "  while number > 0:\n",
        "    result = result * 10 + number % 10\n",
        "    number = number // 10\n",
        "\n",
        "  reversenumber = result\n",
        "  #print(reversenumber)\n",
        "  reversenumbersquare =reversenumber ** 2\n",
        "  result2 = 0\n",
        "\n",
        "  while reversenumbersquare > 0:\n",
        "    result2 = result2 * 10 + reversenumbersquare % 10\n",
        "    reversenumbersquare = reversenumbersquare // 10\n",
        "  rrns = result2\n",
        "  #print(rrns)\n",
        "  if gnsquare == rrns:\n",
        "    print(gn)\n",
        "    count+=1\n",
        "  gn+=1"
      ],
      "metadata": {
        "colab": {
          "base_uri": "https://localhost:8080/"
        },
        "id": "268-RuytDeBP",
        "outputId": "5a62a728-1444-4f66-d0f1-6064ce926777"
      },
      "execution_count": null,
      "outputs": [
        {
          "output_type": "stream",
          "name": "stdout",
          "text": [
            "Enter a number:8\n",
            "1\n",
            "2\n",
            "3\n",
            "11\n",
            "12\n",
            "13\n",
            "21\n",
            "22\n"
          ]
        }
      ]
    },
    {
      "cell_type": "markdown",
      "source": [
        "**Problem 4**\n",
        "\n",
        "Get number of items as input and generate that many Armstrong Numbers"
      ],
      "metadata": {
        "id": "1NtR4H83sWRd"
      }
    },
    {
      "cell_type": "code",
      "source": [
        "num_items = int(input(\"Enter the number: \"))\n",
        "gn = 1\n",
        "count = 0\n",
        "\n",
        "while count < num_items:\n",
        "  numstr = str(gn)\n",
        "  numdigitscount = len(numstr)\n",
        "  sum = 0\n",
        "\n",
        "  for digit in numstr:\n",
        "    sum += int(digit) ** numdigitscount\n",
        "\n",
        "  if sum == gn:\n",
        "    print(gn)\n",
        "    count += 1\n",
        "  gn += 1"
      ],
      "metadata": {
        "id": "kTHyEZhosohS",
        "colab": {
          "base_uri": "https://localhost:8080/"
        },
        "outputId": "5522238b-22a8-41ce-bcb6-4bae0b244e2a"
      },
      "execution_count": null,
      "outputs": [
        {
          "output_type": "stream",
          "name": "stdout",
          "text": [
            "Enter the number: 12\n",
            "1\n",
            "2\n",
            "3\n",
            "4\n",
            "5\n",
            "6\n",
            "7\n",
            "8\n",
            "9\n",
            "153\n",
            "370\n",
            "371\n"
          ]
        }
      ]
    },
    {
      "cell_type": "markdown",
      "source": [
        "**Problem 5**\n",
        "\n",
        "Write a program to print the following pattern using a loop.\n",
        "\n",
        "o\n",
        "\n",
        "oo\n",
        "\n",
        "ooo\n",
        "\n",
        "oooo\n",
        "\n",
        "ooooo"
      ],
      "metadata": {
        "id": "YSye6ju2s4Rd"
      }
    },
    {
      "cell_type": "code",
      "source": [
        "for x in range(1, 6):\n",
        "  print('o' * x)"
      ],
      "metadata": {
        "colab": {
          "base_uri": "https://localhost:8080/"
        },
        "id": "XiB0QfhVMTTn",
        "outputId": "7181ec59-37a6-47bc-8a49-af01f2a0354d"
      },
      "execution_count": null,
      "outputs": [
        {
          "output_type": "stream",
          "name": "stdout",
          "text": [
            "o\n",
            "oo\n",
            "ooo\n",
            "oooo\n",
            "ooooo\n"
          ]
        }
      ]
    },
    {
      "cell_type": "markdown",
      "source": [
        "**Problem 6**\n",
        "\n",
        "Write a program to print the following pattern using a loop\n",
        "\n",
        "1\n",
        "\n",
        "1 2\n",
        "\n",
        "1 2 3\n",
        "\n",
        "1 2 3 4\n",
        "\n",
        "1 2 3 4 5"
      ],
      "metadata": {
        "id": "1SkSXbQbtUEW"
      }
    },
    {
      "cell_type": "code",
      "source": [
        "for x in range(1, 6):\n",
        "  for y in range(1, x + 1):\n",
        "    print(y, end=\" \")\n",
        "  print()"
      ],
      "metadata": {
        "id": "tRDo_Wa7tfpE",
        "colab": {
          "base_uri": "https://localhost:8080/"
        },
        "outputId": "319d103a-f0a2-416e-bc68-9dc54b47f831"
      },
      "execution_count": null,
      "outputs": [
        {
          "output_type": "stream",
          "name": "stdout",
          "text": [
            "1 \n",
            "1 2 \n",
            "1 2 3 \n",
            "1 2 3 4 \n",
            "1 2 3 4 5 \n"
          ]
        }
      ]
    },
    {
      "cell_type": "markdown",
      "source": [
        "**Problem 7**\n",
        "\n",
        "Get a number as input and calculate the sum of all numbers from 1 to the given number."
      ],
      "metadata": {
        "id": "WWKQLhpptmeb"
      }
    },
    {
      "cell_type": "code",
      "source": [
        "number = int(input(\"Enter a number: \"))\n",
        "sum = 0\n",
        "\n",
        "for x in range(1, number + 1):\n",
        "  sum += x\n",
        "\n",
        "print(\"The sum of numbers you entered\", number, \"is:\", sum)"
      ],
      "metadata": {
        "id": "ps0pUcEDtzkb",
        "colab": {
          "base_uri": "https://localhost:8080/"
        },
        "outputId": "aea0853a-6a7c-4075-b263-a0bbc3431f4b"
      },
      "execution_count": null,
      "outputs": [
        {
          "output_type": "stream",
          "name": "stdout",
          "text": [
            "Enter a number: 17\n",
            "The sum of numbers you entered 17 is: 153\n"
          ]
        }
      ]
    },
    {
      "cell_type": "markdown",
      "source": [
        "**Problem 8**\n",
        "\n",
        "Write a python program that takes few numbers as command line argument. Use a loop to display all elements. Use another loop to display all elements in the even position. Use another loop to display all elements in the odd position."
      ],
      "metadata": {
        "id": "S4OA1NOB1EBt"
      }
    },
    {
      "cell_type": "code",
      "source": [
        "import sys\n",
        "\n",
        "sys.argv = [\"\", 124, 132, 411, 97, 13]\n",
        "\n",
        "for x in range(1, len(sys.argv)):\n",
        "  print(\"Element: \", sys.argv[x])\n",
        "\n",
        "for x in range(2, len(sys.argv), 2):\n",
        "  print(\"Even Position: \", sys.argv[x])\n",
        "\n",
        "for x in range(1, len(sys.argv), 2):\n",
        "  print(\"Odd Position: \", sys.argv[x])\n"
      ],
      "metadata": {
        "id": "6XV46h-oSSO-",
        "colab": {
          "base_uri": "https://localhost:8080/"
        },
        "outputId": "158ef60b-3da5-4cdd-ec65-ee189ab38089"
      },
      "execution_count": null,
      "outputs": [
        {
          "output_type": "stream",
          "name": "stdout",
          "text": [
            "Element:  124\n",
            "Element:  132\n",
            "Element:  411\n",
            "Element:  97\n",
            "Element:  13\n",
            "Even Position:  132\n",
            "Even Position:  97\n",
            "Odd Position:  124\n",
            "Odd Position:  411\n",
            "Odd Position:  13\n"
          ]
        }
      ]
    },
    {
      "cell_type": "markdown",
      "source": [
        "**Problem 9**\n",
        "\n",
        "Write a python program that takes few numbers as command line argument. Find the average of those numbers."
      ],
      "metadata": {
        "id": "DAgEW9F75Jf2"
      }
    },
    {
      "cell_type": "code",
      "source": [
        "import sys\n",
        "\n",
        "sys.argv = [\"\", 124, 132, 411, 97, 13]\n",
        "num = len(sys.argv)\n",
        "sum = 0\n",
        "\n",
        "for x in range(1, len(sys.argv)):\n",
        "  num2 = int(sys.argv[x])\n",
        "  sum += num2\n",
        "\n",
        "average = sum / (num - 1)\n",
        "print(\"Average:\", average)"
      ],
      "metadata": {
        "id": "p_MV-MR_5Tfi",
        "colab": {
          "base_uri": "https://localhost:8080/"
        },
        "outputId": "54d8e711-0fcd-487f-e419-130aeb1bf457"
      },
      "execution_count": null,
      "outputs": [
        {
          "output_type": "stream",
          "name": "stdout",
          "text": [
            "Average: 155.4\n"
          ]
        }
      ]
    },
    {
      "cell_type": "markdown",
      "source": [
        "**Problem 10**\n",
        "\n",
        "Write a Python program that takes a string as input, which contains numbers separated by commas. Convert the string to a list of numbers and determine whether all the numbers are different from each other."
      ],
      "metadata": {
        "id": "rZP_eg_XuKwO"
      }
    },
    {
      "cell_type": "code",
      "source": [
        "string = input(\"Enter your numbers with commas: \")\n",
        "numbers = string.split(',')\n",
        "list = []\n",
        "\n",
        "for x in range(len(numbers)):\n",
        "  list.append(int(numbers[x]))\n",
        "print(list)\n",
        "\n",
        "uniquelist = []\n",
        "for x in list:\n",
        "  if x not in uniquelist:\n",
        "    uniquelist.append(x)\n",
        "\n",
        "if len(list) == len(uniquelist):\n",
        "  print(\"All numbers are different from each other.\")\n",
        "else:\n",
        "  print(\"Not all numbers are different from each other.\")"
      ],
      "metadata": {
        "id": "Mju8O4-wuuKX",
        "colab": {
          "base_uri": "https://localhost:8080/"
        },
        "outputId": "e75c5dfa-3b74-4080-b643-1f1571c2fe07"
      },
      "execution_count": null,
      "outputs": [
        {
          "output_type": "stream",
          "name": "stdout",
          "text": [
            "Enter your numbers with commas: 13,17,20,58,68\n",
            "[13, 17, 20, 58, 68]\n",
            "All numbers are different from each other.\n"
          ]
        }
      ]
    },
    {
      "cell_type": "markdown",
      "source": [
        "**Problem 11**\n",
        "\n",
        "Write a Python program that takes a string as input, which contains numbers separated by commas. Convert the string to a list of numbers. Now pick 3 unique numbers from the list whose sum is 100."
      ],
      "metadata": {
        "id": "KgTnX2_eu6l1"
      }
    },
    {
      "cell_type": "code",
      "source": [
        "string = input(\"Enter your numbers with commas: \")\n",
        "listnum = string.split(\",\")\n",
        "list = []\n",
        "\n",
        "found = False\n",
        "\n",
        "for x in range(len(listnum)):\n",
        "  for y in range(x + 1, len(listnum)):\n",
        "    for z in range(y + 1, len(listnum)):\n",
        "      if int(listnum[x]) + int(listnum[y]) + int(listnum[z]) == 100:\n",
        "        print(\"The 3 unique numbers whose sum is 100:\", \"(\",listnum[x],\",\", listnum[y],\",\",listnum[z],\")\")\n",
        "        found = True\n",
        "        break\n",
        "    if found:\n",
        "      break\n",
        "  if found:\n",
        "    break\n",
        "\n",
        "if not found:\n",
        "  print(\"No unique numbers thats sum to 100\")"
      ],
      "metadata": {
        "id": "RzBHYSKpzY6p",
        "colab": {
          "base_uri": "https://localhost:8080/"
        },
        "outputId": "3abf4f7e-a532-496f-baf4-6eea66849b84"
      },
      "execution_count": null,
      "outputs": [
        {
          "output_type": "stream",
          "name": "stdout",
          "text": [
            "Enter your numbers with commas: 10, 20, 30, 40, 50\n",
            "The 3 unique numbers whose sum is 100: ( 10 ,  40 ,  50 )\n"
          ]
        }
      ]
    },
    {
      "cell_type": "markdown",
      "source": [
        "**Problem 12**\n",
        "\n",
        "Write a Python program to get 2 positive numbers as input and multiply them without using the '*' operator."
      ],
      "metadata": {
        "id": "6tRt53BBz25I"
      }
    },
    {
      "cell_type": "code",
      "source": [
        "num1 = int(input(\"Enter the first number: \"))\n",
        "num2 = int(input(\"Enter the second number: \"))\n",
        "sum = 0\n",
        "\n",
        "for x in range(num2):\n",
        "  sum += num1\n",
        "\n",
        "print(\"Multiply: \", sum)"
      ],
      "metadata": {
        "id": "5WIRg5fw0Fi5",
        "colab": {
          "base_uri": "https://localhost:8080/"
        },
        "outputId": "a1f5d6ca-b76b-46cc-ca4d-fbbcf52106e4"
      },
      "execution_count": null,
      "outputs": [
        {
          "output_type": "stream",
          "name": "stdout",
          "text": [
            "Enter the first number: 17\n",
            "Enter the second number: 2\n",
            "Multiply:  34\n"
          ]
        }
      ]
    },
    {
      "cell_type": "markdown",
      "source": [
        "**Problem 13**\n",
        "\n",
        "Write a python program to print first 10 terms in a Fibonacci series"
      ],
      "metadata": {
        "id": "EnXIYV3B0vEi"
      }
    },
    {
      "cell_type": "code",
      "source": [
        "fib = [0, 1]\n",
        "\n",
        "for x in range(2, 10):\n",
        "  fib.append(fib[x-1] + fib[x-2])\n",
        "\n",
        "print(fib)"
      ],
      "metadata": {
        "id": "SXHLhERV0xDG",
        "colab": {
          "base_uri": "https://localhost:8080/"
        },
        "outputId": "ccbc5714-e744-4ff7-f9a2-6a1ee4fb33a3"
      },
      "execution_count": null,
      "outputs": [
        {
          "output_type": "stream",
          "name": "stdout",
          "text": [
            "[0, 1, 1, 2, 3, 5, 8, 13, 21, 34]\n"
          ]
        }
      ]
    },
    {
      "cell_type": "markdown",
      "source": [
        "**Problem 14**\n",
        "\n",
        "Write a python program which takes a number as input and convert the number to binary. Note: Don't use any builtin functions."
      ],
      "metadata": {
        "id": "UvfmEmtZ6_EW"
      }
    },
    {
      "cell_type": "code",
      "source": [
        "number = int(input(\"Enter the number: \"))\n",
        "binary = \"\"\n",
        "\n",
        "while number > 0:\n",
        "  remainder = number % 2\n",
        "  binary = str(remainder) + binary\n",
        "  number = number // 2\n",
        "\n",
        "print(\"The binary for this number is: \", binary)"
      ],
      "metadata": {
        "id": "f2YG9RqB7-M9",
        "colab": {
          "base_uri": "https://localhost:8080/"
        },
        "outputId": "401ba578-7f69-4aba-b72b-4ab8401f2a6f"
      },
      "execution_count": null,
      "outputs": [
        {
          "output_type": "stream",
          "name": "stdout",
          "text": [
            "Enter the number: 27\n",
            "The binary for this number is:  11011\n"
          ]
        }
      ]
    },
    {
      "cell_type": "markdown",
      "source": [
        "**Problem 15**\n",
        "\n",
        "Write a python program which takes a binary number as input and convert the number to decimal. Note: Don't use any builtin functions."
      ],
      "metadata": {
        "id": "mRHDuUD27_E-"
      }
    },
    {
      "cell_type": "code",
      "source": [
        "binary = int(input(\"Enter the binary number: \"))\n",
        "decimal = 0\n",
        "length = len(str(binary))\n",
        "\n",
        "for x in range(length):\n",
        "  digit = binary % 10\n",
        "  decimal += digit * (2 ** x)\n",
        "  binary = binary // 10\n",
        "\n",
        "print(\"The decimal number after converted:\", decimal)"
      ],
      "metadata": {
        "id": "9jMTZf7e8MHK",
        "colab": {
          "base_uri": "https://localhost:8080/"
        },
        "outputId": "c51adfa2-5f49-466c-98ad-9495373dd793"
      },
      "execution_count": null,
      "outputs": [
        {
          "output_type": "stream",
          "name": "stdout",
          "text": [
            "Enter the binary number: 11011\n",
            "The decimal number after converted: 27\n"
          ]
        }
      ]
    },
    {
      "cell_type": "markdown",
      "source": [
        "**Problem 16**\n",
        "\n",
        "Write a Python program that asks the user to input a positive integer n and then prints the multiplication table of n up to 12."
      ],
      "metadata": {
        "id": "Pn3i07JVHqEk"
      }
    },
    {
      "cell_type": "code",
      "source": [
        "number = int(input(\"Enter positive number: \"))\n",
        "print(\"Multiplication table of\", number, \"up to 12\")\n",
        "for x in range (1, 13):\n",
        "  print(x, \"x\", number, \"=\", x * number)"
      ],
      "metadata": {
        "id": "_VaYfi7lH01X",
        "colab": {
          "base_uri": "https://localhost:8080/"
        },
        "outputId": "9ff98cd0-2a31-4fe1-dfbe-eae1b637712d"
      },
      "execution_count": null,
      "outputs": [
        {
          "output_type": "stream",
          "name": "stdout",
          "text": [
            "Enter positive number: 2\n",
            "Multiplication table of 2 up to 12\n",
            "1 x 2 = 2\n",
            "2 x 2 = 4\n",
            "3 x 2 = 6\n",
            "4 x 2 = 8\n",
            "5 x 2 = 10\n",
            "6 x 2 = 12\n",
            "7 x 2 = 14\n",
            "8 x 2 = 16\n",
            "9 x 2 = 18\n",
            "10 x 2 = 20\n",
            "11 x 2 = 22\n",
            "12 x 2 = 24\n"
          ]
        }
      ]
    },
    {
      "cell_type": "markdown",
      "source": [
        "**Problem 17**\n",
        "\n",
        "Write a Python program that asks the user to input a positive integer n and then counts and prints the number of digits in n."
      ],
      "metadata": {
        "id": "Uv1TuM37H18U"
      }
    },
    {
      "cell_type": "code",
      "source": [
        "n = int(input(\"Enter a positive integer: \"))\n",
        "digits = 0\n",
        "\n",
        "if n > 0:\n",
        "  while n > 0:\n",
        "    n = n // 10\n",
        "    digits += 1\n",
        "\n",
        "  print(\"The number of digits in the integer is:\", digits)\n",
        "\n",
        "else:\n",
        "  print(\"The number you enter must be positive integer.\")"
      ],
      "metadata": {
        "colab": {
          "base_uri": "https://localhost:8080/"
        },
        "id": "VrFhR3rFhD1-",
        "outputId": "dde3de19-f8e2-4c0a-f048-4835a6eaafe5"
      },
      "execution_count": null,
      "outputs": [
        {
          "output_type": "stream",
          "name": "stdout",
          "text": [
            "Enter a positive integer: 124\n",
            "The number of digits in the integer is: 3\n"
          ]
        }
      ]
    },
    {
      "cell_type": "markdown",
      "source": [
        "**Problem 18**\n",
        "\n",
        "Write a Python program that asks the user to input a positive integer n and then calculates and prints the sum of its digits."
      ],
      "metadata": {
        "id": "aTrir6SzIUc8"
      }
    },
    {
      "cell_type": "code",
      "source": [
        "n = int(input(\"Enter a positive number: \"))\n",
        "sum = 0\n",
        "\n",
        "for x in str(n):\n",
        "  sum += int(x)\n",
        "\n",
        "print(\"The sum of its digits: \", sum)"
      ],
      "metadata": {
        "colab": {
          "base_uri": "https://localhost:8080/"
        },
        "id": "EtI3xMDKTFgn",
        "outputId": "bff37572-bbab-4837-8ac3-f0587abe1933"
      },
      "execution_count": null,
      "outputs": [
        {
          "output_type": "stream",
          "name": "stdout",
          "text": [
            "Enter a positive number: 17\n",
            "The sum of its digits:  8\n"
          ]
        }
      ]
    },
    {
      "cell_type": "markdown",
      "source": [
        "**Problem 19**\n",
        "\n",
        "Write a Python program that asks the user to input two positive integers a and b, and then calculates and prints the greatest common divisor (GCD) of a and b using a loop."
      ],
      "metadata": {
        "id": "SU0SPQYNIehv"
      }
    },
    {
      "cell_type": "code",
      "source": [
        "a = int(input(\"Enter the first number: \"))\n",
        "b = int(input(\"Enter the second number: \"))\n",
        "\n",
        "while a != b:\n",
        "  if a > b:\n",
        "    a = a - b\n",
        "  else:\n",
        "    b = b - a\n",
        "\n",
        "print(\"The GCD of the two numbers is:\", a)\n"
      ],
      "metadata": {
        "id": "BIEkSttXIgzP",
        "colab": {
          "base_uri": "https://localhost:8080/"
        },
        "outputId": "baf82854-4f5e-4645-8efa-9722defdf412"
      },
      "execution_count": null,
      "outputs": [
        {
          "output_type": "stream",
          "name": "stdout",
          "text": [
            "Enter the first number: 70\n",
            "Enter the second number: 5\n",
            "The GCD of the two numbers is: 5\n"
          ]
        }
      ]
    },
    {
      "cell_type": "markdown",
      "source": [
        "**Problem 20**\n",
        "\n",
        "Write a Python program that asks the user to input a positive integer n and then calculates and prints the sum of the following sequence:\n",
        "\n",
        "1 + 1/2 + 1/3 + ... + 1/n."
      ],
      "metadata": {
        "id": "w63hobswImCa"
      }
    },
    {
      "cell_type": "code",
      "source": [
        "n = int(input(\"Enter a number: \"))\n",
        "sum = 0\n",
        "\n",
        "for x in range(1, n + 1):\n",
        "  sum += 1 / x\n",
        "\n",
        "print(sum)"
      ],
      "metadata": {
        "id": "ao5UL82nIoq-",
        "colab": {
          "base_uri": "https://localhost:8080/"
        },
        "outputId": "5b964a53-baad-4532-d327-fca025ded64f"
      },
      "execution_count": null,
      "outputs": [
        {
          "output_type": "stream",
          "name": "stdout",
          "text": [
            "Enter a number: 17\n",
            "3.439552522640758\n"
          ]
        }
      ]
    },
    {
      "cell_type": "markdown",
      "source": [
        "**Problem 21: Password Strength Checker**\n",
        "\n",
        "Write a Python program that takes a password as input and checks its strength based on the following criteria:\n",
        "\n",
        "\"Strong\" if the password is at least 8 characters long, contains both uppercase and lowercase letters, and includes at least one number and one special character.\n",
        "\"Moderate\" if the password is at least 6 characters long and meets at least two of the above criteria.\n",
        "\"Weak\" if the password does not meet the criteria for \"Strong\" or \"Moderate\"."
      ],
      "metadata": {
        "id": "O2KPhbic8BQA"
      }
    },
    {
      "cell_type": "code",
      "source": [
        "password = input(\"Enter your password: \")\n",
        "\n",
        "length = len(password)\n",
        "has_upper = False\n",
        "has_lower = False\n",
        "has_digit = False\n",
        "has_special = False\n",
        "\n",
        "for char in password:\n",
        "  if char.isupper():\n",
        "    has_upper = True\n",
        "  if char.islower():\n",
        "    has_lower = True\n",
        "  if char.isdigit():\n",
        "    has_digit = True\n",
        "  if not char.isalnum():\n",
        "    has_special = True\n",
        "\n",
        "if length >= 8 and has_upper and has_lower and has_digit and has_special:\n",
        "  print(\"Strong\")\n",
        "\n",
        "elif length >= 6 and (has_upper + has_lower + has_digit + has_special) >= 2:\n",
        "  print(\"Moderate\")\n",
        "\n",
        "else:\n",
        "  print(\"Weak\")"
      ],
      "metadata": {
        "id": "O6gYu4IQ8E_q",
        "colab": {
          "base_uri": "https://localhost:8080/"
        },
        "outputId": "9871e5eb-9451-4e44-b0ff-318d0966d930"
      },
      "execution_count": null,
      "outputs": [
        {
          "output_type": "stream",
          "name": "stdout",
          "text": [
            "Enter your password: Extrabright89#\n",
            "Strong\n"
          ]
        }
      ]
    },
    {
      "cell_type": "markdown",
      "source": [
        "**Problem 22: Implement Bubble Sort**\n",
        "\n",
        "Write a python program that sorts the following list\n",
        "[64, 34, 25, 12, 22, 11, 90]<br/>\n",
        "Please use bubble short<br/>\n",
        "Expected output [11, 12, 22, 25, 34, 64, 90]"
      ],
      "metadata": {
        "id": "sgXRH5iWVgd6"
      }
    },
    {
      "cell_type": "code",
      "source": [
        "numbers = [64, 34, 25, 12, 22, 11, 90]\n",
        "n = len(numbers)\n",
        "\n",
        "for x in range(n):\n",
        "  for y in range(0, n-x-1):\n",
        "    if numbers[y] > numbers[y+1]:\n",
        "      numbers[y], numbers[y+1] = numbers[y+1], numbers[y]\n",
        "\n",
        "print(numbers)"
      ],
      "metadata": {
        "id": "QnfQUzmPjmUg",
        "colab": {
          "base_uri": "https://localhost:8080/"
        },
        "outputId": "c67f1ac5-3e2f-4b2b-f157-3298a4e88aa7"
      },
      "execution_count": null,
      "outputs": [
        {
          "output_type": "stream",
          "name": "stdout",
          "text": [
            "[11, 12, 22, 25, 34, 64, 90]\n"
          ]
        }
      ]
    },
    {
      "cell_type": "markdown",
      "source": [
        "**Problem 23: Count Occurrences of a Character**\n",
        "\n",
        "Write a program that takes a string and a character as input and counts the number of occurrences of that character in the string."
      ],
      "metadata": {
        "id": "buHj-z1I1rpY"
      }
    },
    {
      "cell_type": "code",
      "source": [
        "string = input(\"Enter the string: \")\n",
        "character = input(\"Enter the character counts: \")\n",
        "total = 0\n",
        "\n",
        "for x in string:\n",
        "  if character == x:\n",
        "    total += 1\n",
        "print(\"The total character counts:\", total)"
      ],
      "metadata": {
        "id": "dmxXZC3y1xvn",
        "colab": {
          "base_uri": "https://localhost:8080/"
        },
        "outputId": "89aaab42-335d-4811-a029-3ff509f53d02"
      },
      "execution_count": null,
      "outputs": [
        {
          "output_type": "stream",
          "name": "stdout",
          "text": [
            "Enter the string: sharifah husna\n",
            "Enter the character counts: h\n",
            "The total character counts: 3\n"
          ]
        }
      ]
    },
    {
      "cell_type": "markdown",
      "source": [
        "**Problem 24: FizzBuzz**\n",
        "\n",
        "Write a python program that prints the numbers from 1 to 100. For multiples of 3, print “Fizz” instead of the number, and for multiples of 5, print “Buzz”. For numbers that are multiples of both, print “FizzBuzz”."
      ],
      "metadata": {
        "id": "6D-p_ytJ1zWE"
      }
    },
    {
      "cell_type": "code",
      "source": [
        "for x in range(1, 100):\n",
        "  if (x % 3 == 0) and (x % 5 == 0):\n",
        "    print(\"Fizzbuzz\")\n",
        "  elif x % 3 == 0:\n",
        "    print(\"Fizz\")\n",
        "  elif x % 5 == 0:\n",
        "    print(\"Buzz\")\n",
        "  else:\n",
        "    print(x)"
      ],
      "metadata": {
        "id": "Z7uqWtse2MfY",
        "colab": {
          "base_uri": "https://localhost:8080/"
        },
        "outputId": "7b97fe8d-204a-4cb8-b61b-deecdf70ae32"
      },
      "execution_count": null,
      "outputs": [
        {
          "output_type": "stream",
          "name": "stdout",
          "text": [
            "1\n",
            "2\n",
            "Fizz\n",
            "4\n",
            "Buzz\n",
            "Fizz\n",
            "7\n",
            "8\n",
            "Fizz\n",
            "Buzz\n",
            "11\n",
            "Fizz\n",
            "13\n",
            "14\n",
            "Fizzbuzz\n",
            "16\n",
            "17\n",
            "Fizz\n",
            "19\n",
            "Buzz\n",
            "Fizz\n",
            "22\n",
            "23\n",
            "Fizz\n",
            "Buzz\n",
            "26\n",
            "Fizz\n",
            "28\n",
            "29\n",
            "Fizzbuzz\n",
            "31\n",
            "32\n",
            "Fizz\n",
            "34\n",
            "Buzz\n",
            "Fizz\n",
            "37\n",
            "38\n",
            "Fizz\n",
            "Buzz\n",
            "41\n",
            "Fizz\n",
            "43\n",
            "44\n",
            "Fizzbuzz\n",
            "46\n",
            "47\n",
            "Fizz\n",
            "49\n",
            "Buzz\n",
            "Fizz\n",
            "52\n",
            "53\n",
            "Fizz\n",
            "Buzz\n",
            "56\n",
            "Fizz\n",
            "58\n",
            "59\n",
            "Fizzbuzz\n",
            "61\n",
            "62\n",
            "Fizz\n",
            "64\n",
            "Buzz\n",
            "Fizz\n",
            "67\n",
            "68\n",
            "Fizz\n",
            "Buzz\n",
            "71\n",
            "Fizz\n",
            "73\n",
            "74\n",
            "Fizzbuzz\n",
            "76\n",
            "77\n",
            "Fizz\n",
            "79\n",
            "Buzz\n",
            "Fizz\n",
            "82\n",
            "83\n",
            "Fizz\n",
            "Buzz\n",
            "86\n",
            "Fizz\n",
            "88\n",
            "89\n",
            "Fizzbuzz\n",
            "91\n",
            "92\n",
            "Fizz\n",
            "94\n",
            "Buzz\n",
            "Fizz\n",
            "97\n",
            "98\n",
            "Fizz\n"
          ]
        }
      ]
    },
    {
      "cell_type": "markdown",
      "source": [
        "**Problem 25: Count Vowels in a String**\n",
        "\n",
        "Write a program that takes a string as input and counts the number of vowels **(a, e, i, o, u)** in it."
      ],
      "metadata": {
        "id": "IkIgQHXW2iWw"
      }
    },
    {
      "cell_type": "code",
      "source": [
        "string = input(\"Enter the string: \")\n",
        "vowels = 0\n",
        "\n",
        "for x in string:\n",
        "  if (x == 'a') or (x == 'e') or (x == 'i') or (x == 'o') or (x == 'u'):\n",
        "    vowels += 1\n",
        "print(\"The total number of vowels is: \", vowels)"
      ],
      "metadata": {
        "id": "M6f8uxdo2tCG",
        "colab": {
          "base_uri": "https://localhost:8080/"
        },
        "outputId": "a13321bf-1f72-42d2-d0a2-3b21b982ec5d"
      },
      "execution_count": null,
      "outputs": [
        {
          "output_type": "stream",
          "name": "stdout",
          "text": [
            "Enter the string: Count Vowels in a String\n",
            "The total number of vowels is:  7\n"
          ]
        }
      ]
    }
  ]
}