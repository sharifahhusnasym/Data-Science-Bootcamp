{
  "nbformat": 4,
  "nbformat_minor": 0,
  "metadata": {
    "colab": {
      "provenance": [],
      "include_colab_link": true
    },
    "kernelspec": {
      "name": "python3",
      "display_name": "Python 3"
    },
    "language_info": {
      "name": "python"
    }
  },
  "cells": [
    {
      "cell_type": "markdown",
      "metadata": {
        "id": "view-in-github",
        "colab_type": "text"
      },
      "source": [
        "<a href=\"https://colab.research.google.com/github/sharifahhusnasym/Data-Science-Bootcamp/blob/main/Sharifah_Husna_python106.ipynb\" target=\"_parent\"><img src=\"https://colab.research.google.com/assets/colab-badge.svg\" alt=\"Open In Colab\"/></a>"
      ]
    },
    {
      "cell_type": "markdown",
      "source": [
        "**Problem 1**\n",
        "\n",
        "A pangram is a sentence using every letter of the alphabet at least once. It is case insensitive, so it doesn't matter if a letter is lower-case (e.g. k) or upper-case (e.g. K).\n",
        "\n",
        "For this exercise, a sentence is a pangram if it contains each of the 26 letters in the English alphabet.\n",
        "\n",
        "Example: The quick brown fox jumps over the lazy dog.\n",
        "\n",
        "*Your task is to figure out if a sentence is a pangram.*"
      ],
      "metadata": {
        "id": "QoMGXk6UXHB9"
      }
    },
    {
      "cell_type": "code",
      "execution_count": null,
      "metadata": {
        "id": "rDS-zDSbXBNK",
        "colab": {
          "base_uri": "https://localhost:8080/"
        },
        "outputId": "9a710587-bcce-4832-f924-b3f11b635845"
      },
      "outputs": [
        {
          "output_type": "stream",
          "name": "stdout",
          "text": [
            "True\n"
          ]
        }
      ],
      "source": [
        "def pangram(sentence):\n",
        "  sentence = sentence.lower()\n",
        "\n",
        "  letters = set()\n",
        "\n",
        "  for char in sentence:\n",
        "    if char.isalpha():\n",
        "      letters.add(char)\n",
        "\n",
        "  return len(letters) == 26\n",
        "\n",
        "word = \"The quick brown fox jumps over the lazy dog.\"\n",
        "print(pangram(word))"
      ]
    },
    {
      "cell_type": "markdown",
      "source": [
        "**Problem 2**\n",
        "\n",
        "An isogram (also known as a \"non-pattern word\") is a word or phrase without a repeating letter, however spaces and hyphens are allowed to appear multiple times.\n",
        "\n",
        "Examples of isograms:\n",
        "\n",
        "lumberjacks\n",
        "background\n",
        "downstream\n",
        "six-year-old\n",
        "\n",
        "The word isograms, however, is not an isogram, because the s repeats.\n",
        "\n",
        "*Your task is to figure out if the user input is isogram*"
      ],
      "metadata": {
        "id": "nx1PnYYdXomU"
      }
    },
    {
      "cell_type": "code",
      "source": [
        "def isogram(word):\n",
        "  no_repeat = ''.join(letter.lower() for letter in word if letter.isalnum())\n",
        "  return len(no_repeat) == len(set(no_repeat))\n",
        "\n",
        "sentence = input(\"Enter a word or phrase: \")\n",
        "\n",
        "result = isogram(sentence)\n",
        "\n",
        "if result:\n",
        "  print(\"The input is an isogram!\")\n",
        "else:\n",
        "  print(\"The input is not an isogram!\")"
      ],
      "metadata": {
        "id": "VygYtSBRXzb7",
        "colab": {
          "base_uri": "https://localhost:8080/"
        },
        "outputId": "e0104f16-cf08-4743-d494-b668aaf2e436"
      },
      "execution_count": null,
      "outputs": [
        {
          "output_type": "stream",
          "name": "stdout",
          "text": [
            "Enter a word or phrase: background\n",
            "The input is an isogram!\n"
          ]
        }
      ]
    },
    {
      "cell_type": "markdown",
      "source": [
        "**Problem 3**\n",
        "\n",
        "Parse and evaluate simple math word problems returning the answer as an integer.\n",
        "\n",
        "\n",
        "```\n",
        "What is 5?    -> 5\n",
        "What is 5 plus 13?    -> 13\n",
        "What is 7 minus 5?    -> 2\n",
        "What is 6 multiplied by 4?     -> 24\n",
        "What is 25 divided by 5?       -> 5\n",
        "What is 5 plus 13 plus 6?      -> 24\n",
        "What is 3 plus 2 multiplied by 3?       -> 15\n",
        "```"
      ],
      "metadata": {
        "id": "E96wh1LZYk-e"
      }
    },
    {
      "cell_type": "code",
      "source": [
        "def evaluate_left_to_right(problem):\n",
        "  operators = {\n",
        "      \"plus\": \"+\",\n",
        "      \"minus\": \"-\",\n",
        "      \"multiplied by\": \"*\",\n",
        "      \"divided by\": \"/\"\n",
        "  }\n",
        "\n",
        "  for word, symbol in operators.items():\n",
        "    problem = problem.replace(word, symbol)\n",
        "\n",
        "  if not problem.lower().startswith(\"what is\") or not problem.endswith(\"?\"):\n",
        "    return \"Invalid question format.\"\n",
        "\n",
        "  expression = problem[8:-1].strip()\n",
        "  tokens = expression.split()\n",
        "\n",
        "  try:\n",
        "    result = float(tokens[0])\n",
        "    i = 1\n",
        "    while i < len(tokens):\n",
        "      operator = tokens[i]\n",
        "      next_number = float(tokens[i + 1])\n",
        "      if operator == \"+\":\n",
        "        result += next_number\n",
        "      elif operator == \"-\":\n",
        "        result -= next_number\n",
        "      elif operator == \"*\":\n",
        "        result *= next_number\n",
        "      elif operator == \"/\":\n",
        "        result /= next_number\n",
        "      i += 2\n",
        "    return int(result) if result == int(result) else result\n",
        "\n",
        "  except Exception as e:\n",
        "    return f\"Error evaluating the problem: {e}\"\n",
        "\n",
        "examples = [\n",
        "    \"What is 5?\",\n",
        "    \"What is 5 plus 13?\",\n",
        "    \"What is 7 minus 5?\",\n",
        "    \"What is 6 multiplied by 4?\",\n",
        "    \"What is 25 divided by 5?\",\n",
        "    \"What is 5 plus 13 plus 6?\",\n",
        "    \"What is 3 plus 2 multiplied by 3?\"\n",
        "]\n",
        "\n",
        "for example in examples:\n",
        "  print(f\"{example} -> {evaluate_left_to_right(example)}\")"
      ],
      "metadata": {
        "id": "7Ah4oxC9ZIro",
        "colab": {
          "base_uri": "https://localhost:8080/"
        },
        "outputId": "b1c1005e-f1bc-42e7-f5ef-5eef00230a1f"
      },
      "execution_count": null,
      "outputs": [
        {
          "output_type": "stream",
          "name": "stdout",
          "text": [
            "What is 5? -> 5\n",
            "What is 5 plus 13? -> 18\n",
            "What is 7 minus 5? -> 2\n",
            "What is 6 multiplied by 4? -> 24\n",
            "What is 25 divided by 5? -> 5\n",
            "What is 5 plus 13 plus 6? -> 24\n",
            "What is 3 plus 2 multiplied by 3? -> 15\n"
          ]
        }
      ]
    },
    {
      "cell_type": "markdown",
      "source": [
        "**Problem 4**\n",
        "\n",
        "For this exercise, you need to know two things about them:\n",
        "\n",
        "Each resistor has a resistance value.\n",
        "Resistors are small - so small in fact that if you printed the resistance value on them, it would be hard to read.\n",
        "To get around this problem, manufacturers print color-coded bands onto the resistors to denote their resistance values. Each band has a position and a numeric value.\n",
        "\n",
        "The first 2 bands of a resistor have a simple encoding scheme: each color maps to a single number. For example, if they printed a brown band (value 1) followed by a green band (value 5), it would translate to the number 15.\n",
        "\n",
        "In this exercise you are going to create a helpful program so that you don't have to remember the values of the bands. The program will take color names as input and output a two digit number, even if the input is more than two colors!\n",
        "\n",
        "The band colors are encoded as follows:\n",
        "\n",
        "```\n",
        "1.   Black: 0\n",
        "2.   Brown: 1\n",
        "3.   Red: 2\n",
        "4.   Orange: 3\n",
        "5.   Yellow: 4\n",
        "6.   Green: 5\n",
        "7.   Blue: 6\n",
        "8.   Violet: 7\n",
        "9.   Grey: 8\n",
        "10.  White: 9\n",
        "```\n",
        "\n",
        "*From the example above:*\n",
        "\n",
        "brown-green should return 15\n",
        "\n",
        "brown-green-violet should return 15 too, ignoring the third color"
      ],
      "metadata": {
        "id": "hYxixq3Paw83"
      }
    },
    {
      "cell_type": "code",
      "source": [
        "def resistor_value(colours):\n",
        "  colour_code = {\n",
        "      \"black\": 0,\n",
        "      \"brown\": 1,\n",
        "      \"red\": 2,\n",
        "      \"orange\": 3,\n",
        "      \"yellow\": 4,\n",
        "      \"green\": 5,\n",
        "      \"blue\": 6,\n",
        "      \"violet\": 7,\n",
        "      \"grey\": 8,\n",
        "      \"white\": 9\n",
        "  }\n",
        "\n",
        "  colour_list = colours.split(\"-\")\n",
        "\n",
        "  if len(colour_list) < 2:\n",
        "    return \"Error: Provide at least two colours!\"\n",
        "\n",
        "  try:\n",
        "    first_digit = colour_code[colour_list[0].lower()]\n",
        "    second_digit = colour_code[colour_list[1].lower()]\n",
        "\n",
        "  except KeyError:\n",
        "    return \"Error: Invalid colour provided!\"\n",
        "\n",
        "  return f\"{first_digit}{second_digit}\"\n",
        "\n",
        "print(resistor_value(\"brown-green\"))\n",
        "print(resistor_value(\"brown-green-violet\"))\n",
        "print(resistor_value(\"white-blue\"))"
      ],
      "metadata": {
        "id": "k86PCFlJbLQG",
        "colab": {
          "base_uri": "https://localhost:8080/"
        },
        "outputId": "2df322f8-9840-4503-9e4d-f19cf6dd9fbf"
      },
      "execution_count": null,
      "outputs": [
        {
          "output_type": "stream",
          "name": "stdout",
          "text": [
            "15\n",
            "15\n",
            "96\n"
          ]
        }
      ]
    },
    {
      "cell_type": "markdown",
      "source": [
        "**Problem 5**\n",
        "\n",
        "*Your task is to Validate Credit Card Number*\n",
        "\n",
        "Given a number determine whether or not it is valid per the Luhn formula.\n",
        "\n",
        "The Luhn algorithm is a simple checksum formula used to validate a variety of identification numbers, such as credit card numbers and Canadian Social Insurance Numbers.\n",
        "\n",
        "The task is to check if a given string is valid\n",
        "\n",
        "Valid credit card number\n",
        "\n",
        "4539 3195 0343 6467\n",
        "\n",
        "The first step of the Luhn algorithm is to double every second digit, starting from the right. We will be doubling\n",
        "\n",
        "4_3_ 3_9_ 0_4_ 6_6_\n",
        "\n",
        "If doubling the number results in a number greater than 9 then subtract 9 from the product. The results of our doubling:\n",
        "\n",
        "8569 6195 0383 3437\n",
        "\n",
        "Then sum all of the digits:\n",
        "\n",
        "8+5+6+9+6+1+9+5+0+3+8+3+3+4+3+7 = 80\n",
        "\n",
        "If the sum is evenly divisible by 10, then the number is valid. This number is valid!"
      ],
      "metadata": {
        "id": "Lobv2LGbbX1D"
      }
    },
    {
      "cell_type": "code",
      "source": [
        "def validate_creditcard(number):\n",
        "  number = number.replace(\" \", \"\")\n",
        "\n",
        "  if not number.isdigit():\n",
        "    return False\n",
        "\n",
        "  digits = [int(d) for d in number]\n",
        "\n",
        "  digits.reverse()\n",
        "\n",
        "  for x in range(len(digits)):\n",
        "    if x % 2 == 1:\n",
        "      digits[x] *= 2\n",
        "      if digits[x] > 9:\n",
        "        digits[x] -= 9\n",
        "\n",
        "  totalsum = sum(digits)\n",
        "\n",
        "  return totalsum % 10 == 0\n",
        "\n",
        "cardnumber = \"4539 3195 0343 6467\"\n",
        "valid = validate_creditcard(cardnumber)\n",
        "print(f\"The card number {cardnumber} is {'valid' if valid else 'invalid'}.\")"
      ],
      "metadata": {
        "id": "IDuW6CSCy5aE",
        "colab": {
          "base_uri": "https://localhost:8080/"
        },
        "outputId": "382cb265-ac59-46fa-e6fb-dc272d3d254e"
      },
      "execution_count": null,
      "outputs": [
        {
          "output_type": "stream",
          "name": "stdout",
          "text": [
            "The card number 4539 3195 0343 6467 is valid.\n"
          ]
        }
      ]
    },
    {
      "cell_type": "markdown",
      "source": [
        "**Problem 6**\n",
        "\n",
        "Write a Python class that has two methods: getString and printString , The getString accept a string from the user and printString prints the string in upper case."
      ],
      "metadata": {
        "id": "bHDdXXcjFmCe"
      }
    },
    {
      "cell_type": "code",
      "source": [
        "class StringUpper:\n",
        "  def __init__(self):\n",
        "    self.text = \"\"\n",
        "\n",
        "  def getString(self):\n",
        "    self.text = input(\"Enter a string: \")\n",
        "\n",
        "  def printString(self):\n",
        "    print(self.text.upper())\n",
        "\n",
        "if __name__ == \"__main__\":\n",
        "  string_upper = StringUpper()\n",
        "  string_upper.getString()\n",
        "  string_upper.printString()"
      ],
      "metadata": {
        "id": "m63ggCk_FyBB",
        "colab": {
          "base_uri": "https://localhost:8080/"
        },
        "outputId": "6d112ddf-5733-4845-958b-283ff6e7aaaf"
      },
      "execution_count": null,
      "outputs": [
        {
          "output_type": "stream",
          "name": "stdout",
          "text": [
            "Enter a string: seventeen\n",
            "SEVENTEEN\n"
          ]
        }
      ]
    },
    {
      "cell_type": "markdown",
      "source": [
        "**Problem 7**\n",
        "\n",
        "Create a class Temperature that has a property celsius to get and set the temperature in Celsius and another property fahrenheit to get and set the temperature in Fahrenheit. The fahrenheit property should convert the temperature to and from Celsius."
      ],
      "metadata": {
        "id": "5-6cZZTw55Lt"
      }
    },
    {
      "cell_type": "code",
      "source": [
        "class Temperature:\n",
        "  def __init__(self,celsius = 0):\n",
        "    self._celsius = celsius\n",
        "\n",
        "  @property\n",
        "  def celsius(self):\n",
        "    return self._celsius\n",
        "\n",
        "  @celsius.setter\n",
        "  def celsius(self, value):\n",
        "    self._celsius = value\n",
        "\n",
        "  @property\n",
        "  def fahrenheit(self):\n",
        "    return(self._celsius * 9/5) + 32\n",
        "\n",
        "  @fahrenheit.setter\n",
        "  def fahrenheit(self, value):\n",
        "    self._celsius = (value - 32) * 5/9\n",
        "\n",
        "if __name__ == \"__main__\":\n",
        "  temp = Temperature(25)\n",
        "  print(f\"Initial temperature: {temp.celsius}°C, {temp.fahrenheit}°F\")\n",
        "\n",
        "  temp.celsius = 32\n",
        "  print(f\"After setting Celsius to 32: {temp.celsius}°C, {temp.fahrenheit}°F\")\n",
        "\n",
        "  temp.fahrenheit = 100\n",
        "  print(f\"After setting Fahrenheit to 100: {temp.celsius}°C, {temp.fahrenheit}°F\")"
      ],
      "metadata": {
        "id": "pOIhPwFS6CC5",
        "colab": {
          "base_uri": "https://localhost:8080/"
        },
        "outputId": "cebc1435-da83-4ac7-9135-83d10c4b1f81"
      },
      "execution_count": null,
      "outputs": [
        {
          "output_type": "stream",
          "name": "stdout",
          "text": [
            "Initial temperature: 25°C, 77.0°F\n",
            "After setting Celsius to 32: 32°C, 89.6°F\n",
            "After setting Fahrenheit to 100: 37.77777777777778°C, 100.0°F\n"
          ]
        }
      ]
    },
    {
      "cell_type": "markdown",
      "source": [
        "**Problem 8**\n",
        "\n",
        "Create a class *Book* with attributes title, author, and pages. Ensure that the class constructor requires these attributes. Create multiple instances of Book and display their details.\n",
        "\n",
        "Add a method price that returns the price of the book using a formula pages * 10. Add another method that prints all the details of the book. Create an instance of the Book class and display the details."
      ],
      "metadata": {
        "id": "GeVVh-5p5gTT"
      }
    },
    {
      "cell_type": "code",
      "source": [
        "class Book:\n",
        "  def __init__(self, title, author, pages):\n",
        "    self.title = title\n",
        "    self.author = author\n",
        "    self.pages = pages\n",
        "\n",
        "  def price(self):\n",
        "    return self.pages * 10\n",
        "\n",
        "  def display_details(self):\n",
        "    print(f\"Title: {self.title}\")\n",
        "    print(f\"Author: {self.author}\")\n",
        "    print(f\"Pages: {self.pages}\")\n",
        "    print(f\"Price: RM{self.price():.2f}\")\n",
        "\n",
        "book1 = Book(\"Checkmate\", \"Rehan Makhtar\", 574)\n",
        "book2 = Book(\"She my Lady\", \"Nurul Ain Syuhada\", 450)\n",
        "book3 = Book(\"My Commando: Thariq Ridzuwan\", \"Huda Najwa\", 375)\n",
        "\n",
        "print(\"Book 1 Details:\")\n",
        "book1.display_details()\n",
        "\n",
        "print(\"\\nBook 2 Details:\")\n",
        "book2.display_details()\n",
        "\n",
        "print(\"\\nBook 3 Details:\")\n",
        "book3.display_details()"
      ],
      "metadata": {
        "id": "I3PXkT8j5nCt",
        "colab": {
          "base_uri": "https://localhost:8080/"
        },
        "outputId": "e2eaff8d-4ed5-49de-faf8-14c2759568d6"
      },
      "execution_count": null,
      "outputs": [
        {
          "output_type": "stream",
          "name": "stdout",
          "text": [
            "Book 1 Details:\n",
            "Title: Checkmate\n",
            "Author: Rehan Makhtar\n",
            "Pages: 574\n",
            "Price: RM5740.00\n",
            "\n",
            "Book 2 Details:\n",
            "Title: She my Lady\n",
            "Author: Nurul Ain Syuhada\n",
            "Pages: 450\n",
            "Price: RM4500.00\n",
            "\n",
            "Book 3 Details:\n",
            "Title: My Commando: Thariq Ridzuwan\n",
            "Author: Huda Najwa\n",
            "Pages: 375\n",
            "Price: RM3750.00\n"
          ]
        }
      ]
    },
    {
      "cell_type": "markdown",
      "source": [
        "**Problem 9**\n",
        "\n",
        "Write a Python class Employee with properties id, name, salary, and department and methods like \\__init__ calculateSalary, assignDepartment and \\__str__.\n",
        "\n",
        "Sample Employee Data:\n",
        "\n",
        "```\n",
        "\"E7876\", \"ADAMS\", 50000, \"ACCOUNTING\"\n",
        "\"E7499\", \"JONES\", 45000, \"RESEARCH\"\n",
        "\"E7900\", \"MARTIN\", 50000, \"SALES\"\n",
        "\"E7698\", \"SMITH\", 55000, \"OPERATIONS\"\n",
        "```\n",
        "Use 'assignDepartment' method to change the department of an employee.\n",
        "\n",
        "Use '\\__str__' method to print the details of an employee.\n",
        "\n",
        "Use 'calculateSalary' method takes two arguments: salary and hours_worked, which is the number of hours worked by the employee. If the number of hours worked is more than 50, the method computes overtime and adds it to the salary.\n",
        "\n",
        "Overtime is calculated as following formula:\n",
        "overtime = hours_worked - 50\n",
        "Overtime amount = (overtime * (salary / 50))"
      ],
      "metadata": {
        "id": "OwNVg-Wf_slB"
      }
    },
    {
      "cell_type": "code",
      "source": [
        "class Employee:\n",
        "    def __init__(self, emp_id, name, salary, department):\n",
        "        self.id = emp_id\n",
        "        self.name = name\n",
        "        self.salary = salary\n",
        "        self.department = department\n",
        "\n",
        "    def calculateSalary(self, hours_worked):\n",
        "        if hours_worked > 50:\n",
        "            overtime = hours_worked - 50\n",
        "            overtime_amount = overtime * (self.salary / 50)\n",
        "            return self.salary + overtime_amount\n",
        "        return self.salary\n",
        "\n",
        "    def assignDepartment(self, new_department):\n",
        "        self.department = new_department\n",
        "\n",
        "    def __str__(self):\n",
        "        return f\"Employee[ID={self.id}, Name={self.name}, Salary={self.salary}, Department={self.department}]\"\n",
        "\n",
        "emp1 = Employee(\"E7876\", \"ADAMS\", 50000, \"ACCOUNTING\")\n",
        "emp2 = Employee(\"E7499\", \"JONES\", 45000, \"RESEARCH\")\n",
        "emp3 = Employee(\"E7900\", \"MARTIN\", 50000, \"SALES\")\n",
        "emp4 = Employee(\"E7698\", \"SMITH\", 55000, \"OPERATIONS\")\n",
        "\n",
        "print(emp1)\n",
        "print(emp2)\n",
        "\n",
        "emp3.assignDepartment(\"MARKETING\")\n",
        "print(f\"After department change: {emp3}\")\n",
        "\n",
        "hours_worked = 55\n",
        "print(f\"Salary with overtime for {emp4.name}: {emp4.calculateSalary(hours_worked)}\")\n",
        "\n",
        "hours_worked = 45\n",
        "print(f\"Salary without overtime for {emp1.name}: {emp1.calculateSalary(hours_worked)}\")"
      ],
      "metadata": {
        "id": "XdG56X5pAehB",
        "colab": {
          "base_uri": "https://localhost:8080/"
        },
        "outputId": "1b14c499-6dd9-4697-c851-452447747933"
      },
      "execution_count": null,
      "outputs": [
        {
          "output_type": "stream",
          "name": "stdout",
          "text": [
            "Employee[ID=E7876, Name=ADAMS, Salary=50000, Department=ACCOUNTING]\n",
            "Employee[ID=E7499, Name=JONES, Salary=45000, Department=RESEARCH]\n",
            "After department change: Employee[ID=E7900, Name=MARTIN, Salary=50000, Department=MARKETING]\n",
            "Salary with overtime for SMITH: 60500.0\n",
            "Salary without overtime for ADAMS: 50000\n"
          ]
        }
      ]
    },
    {
      "cell_type": "markdown",
      "source": [
        "**Problem 10**\n",
        "\n",
        "Write a Python class Inventory with attributes like id, productName, availableQuantity and price. Add methods like addItem, updateItem, and checkItem_details.\n",
        "\n",
        "Use a dictionary to store the item details, where the key is the id and the value is a dictionary containing the productName, availableQuantity and price.\n",
        "\n",
        "Sample Data:\n",
        "\n",
        "\n",
        "```\n",
        "{\n",
        "  \"97410\": {\n",
        "    \"name\": \"Television\",\n",
        "    \"availableQuantity\": 20,\n",
        "    \"price\": 1455.99\n",
        "  },\n",
        "  \"97411\": {\n",
        "    \"name\": \"Radio\",\n",
        "    \"availableQuantity\": 32,\n",
        "    \"price\": 654.25\n",
        "  }\n",
        "}\n",
        "```\n",
        "\n",
        "\n"
      ],
      "metadata": {
        "id": "Q2R8aBS9BAlQ"
      }
    },
    {
      "cell_type": "code",
      "source": [
        "class Inventory:\n",
        "\n",
        "    def __init__(self):\n",
        "        self.items = {}\n",
        "\n",
        "    def addItem(self, id, productName, availableQuantity, price):\n",
        "        if id not in self.items:\n",
        "            self.items[id] = {\n",
        "                \"name\" : productName,\n",
        "                \"availableQuantity\" : availableQuantity,\n",
        "                \"price\" : price\n",
        "            }\n",
        "            return f\"Item {productName} added successfully\"\n",
        "        else:\n",
        "            return f\"Item {id} already exist\"\n",
        "\n",
        "    def updateItem(self, id, new_details):\n",
        "        for item_id, item_details in self.items.items():\n",
        "            if item_id == id:\n",
        "                item_details.update(new_details)\n",
        "                return f\"Item {id} updated successfully\"\n",
        "        return f\"Item {id} not found\"\n",
        "\n",
        "    def checkItem_details(self, id):\n",
        "        if id in self.items:\n",
        "            item_details = self.items[id]\n",
        "            return f\"ID: {id}\\n  Name: {item_details['name']}\\\n",
        "                    \\n  Available Quantity: {item_details['availableQuantity']} \\\n",
        "                    \\n  Price: {item_details['price']}\"\n",
        "        else:\n",
        "            return f\"Item {id} not found\"\n",
        "\n",
        "    def __str__(self):\n",
        "        inventory_str = \"\"\n",
        "        for item_id, item_details in self.items.items():\n",
        "            inventory_str += f\"ID: {item_id}\\n\"\n",
        "            inventory_str += f\"  Name: {item_details['name']}\\n\"\n",
        "            inventory_str += f\"  Available Quantity: {item_details['availableQuantity']}\\n\"\n",
        "            inventory_str += f\"  Price: {item_details['price']}\\n\"\n",
        "            inventory_str += \"--------------------\"\n",
        "        return inventory_str\n",
        "\n",
        "# Creating an Inventory object\n",
        "inventory = Inventory()\n",
        "\n",
        "print(inventory.addItem(\"97410\", \"Television\", 20, 1455.99))\n",
        "print(inventory.addItem(\"97411\", \"Radio\", 32, 654.25))\n",
        "print(inventory.addItem(\"97410\", \"Television\", 20, 1455.99))\n",
        "\n",
        "print(\"\\nAll items:\\n\", inventory)\n",
        "\n",
        "print(\"\\nUpdating item Radio:\", inventory.updateItem(\"97411\", {\"availableQuantity\": 28, \"price\": 700.00}))\n",
        "\n",
        "print(\"\\nChecklist item Radio:\\n\", inventory.checkItem_details(\"97411\"))\n",
        "\n",
        "print(\"\\nAll items:\\n\", inventory)"
      ],
      "metadata": {
        "id": "2AtN1IClCEUS",
        "colab": {
          "base_uri": "https://localhost:8080/"
        },
        "outputId": "ece3825f-0ae5-4b88-f077-4515c6f4c7d4"
      },
      "execution_count": null,
      "outputs": [
        {
          "output_type": "stream",
          "name": "stdout",
          "text": [
            "Item Television added successfully\n",
            "Item Radio added successfully\n",
            "Item 97410 already exist\n",
            "\n",
            "All items:\n",
            " ID: 97410\n",
            "  Name: Television\n",
            "  Available Quantity: 20\n",
            "  Price: 1455.99\n",
            "--------------------ID: 97411\n",
            "  Name: Radio\n",
            "  Available Quantity: 32\n",
            "  Price: 654.25\n",
            "--------------------\n",
            "\n",
            "Updating item Radio: Item 97411 updated successfully\n",
            "\n",
            "Checklist item Radio:\n",
            " ID: 97411\n",
            "  Name: Radio                    \n",
            "  Available Quantity: 28                     \n",
            "  Price: 700.0\n",
            "\n",
            "All items:\n",
            " ID: 97410\n",
            "  Name: Television\n",
            "  Available Quantity: 20\n",
            "  Price: 1455.99\n",
            "--------------------ID: 97411\n",
            "  Name: Radio\n",
            "  Available Quantity: 28\n",
            "  Price: 700.0\n",
            "--------------------\n"
          ]
        }
      ]
    },
    {
      "cell_type": "markdown",
      "source": [
        "**Problem 11**\n",
        "\n",
        "Write a  Python class BankAccount with attributes like accountNumber, openingBalance, currentBalance dateOfOpening and customerName. Add methods like deposit, withdraw, and checkBalance."
      ],
      "metadata": {
        "id": "v07XqqlWCeF3"
      }
    },
    {
      "cell_type": "code",
      "source": [
        "class BankAccount:\n",
        "    def __init__(self, accountNumber, openingBalance, dateOfOpening, customerName):\n",
        "        self.accountNumber = accountNumber\n",
        "        self.openingBalance = openingBalance\n",
        "        self.currentBalance = openingBalance\n",
        "        self.dateOfOpening = dateOfOpening\n",
        "        self.customerName = customerName\n",
        "\n",
        "    def deposit(self, amount):\n",
        "        if amount > 0:\n",
        "            self.currentBalance += amount\n",
        "            print(f\"Deposited RM{amount:.2f}. New balance: RM{self.currentBalance:.2f}\")\n",
        "        else:\n",
        "            print(\"Deposit amount must be positive.\")\n",
        "\n",
        "    def withdraw(self, amount):\n",
        "        if amount > 0:\n",
        "            if amount <= self.currentBalance:\n",
        "                self.currentBalance -= amount\n",
        "                print(f\"Withdrew RM{amount:.2f}. New balance: RM{self.currentBalance:.2f}\")\n",
        "            else:\n",
        "                print(\"Insufficient funds for withdrawal.\")\n",
        "        else:\n",
        "            print(\"Withdrawal amount must be positive.\")\n",
        "\n",
        "    def checkBalance(self):\n",
        "        print(f\"Current balance: RM{self.currentBalance:.2f}\")\n",
        "\n",
        "    def displayAccountDetails(self):\n",
        "        print(f\"Account Number: {self.accountNumber}\")\n",
        "        print(f\"Customer Name: {self.customerName}\")\n",
        "        print(f\"Date of Opening: {self.dateOfOpening}\")\n",
        "        print(f\"Opening Balance: RM{self.openingBalance:.2f}\")\n",
        "        print(f\"Current Balance: RM{self.currentBalance:.2f}\")\n",
        "\n",
        "if __name__ == \"__main__\":\n",
        "    account1 = BankAccount(\"123456789\", 1000, \"2024-02-13\", \"Sharifah Husna\")\n",
        "    account1.displayAccountDetails()\n",
        "    account1.deposit(500)\n",
        "    account1.withdraw(200)\n",
        "    account1.checkBalance()\n",
        "    account1.withdraw(1500)\n",
        "    account1.checkBalance()"
      ],
      "metadata": {
        "id": "QumPFVaFEm2N",
        "colab": {
          "base_uri": "https://localhost:8080/"
        },
        "outputId": "8f0cde4b-aa9d-453f-9feb-109490f83156"
      },
      "execution_count": null,
      "outputs": [
        {
          "output_type": "stream",
          "name": "stdout",
          "text": [
            "Account Number: 123456789\n",
            "Customer Name: Sharifah Husna\n",
            "Date of Opening: 2024-02-13\n",
            "Opening Balance: RM1000.00\n",
            "Current Balance: RM1000.00\n",
            "Deposited RM500.00. New balance: RM1500.00\n",
            "Withdrew RM200.00. New balance: RM1300.00\n",
            "Current balance: RM1300.00\n",
            "Insufficient funds for withdrawal.\n",
            "Current balance: RM1300.00\n"
          ]
        }
      ]
    },
    {
      "cell_type": "markdown",
      "source": [
        "**Problem 12**\n",
        "\n",
        "Write a Python class to check the validity of a string of parentheses,\n",
        "\n",
        "```\n",
        "'(', ')', '{', '}', '[' and '].\n",
        "```\n",
        "\n",
        "These brackets must be closed in the correct order,\n",
        "for example\n",
        "\n",
        "```\n",
        "\"()\" and \"()[]{}\" are valid\n",
        "\"[)\", \"({[)]\" and \"{{{\" are invalid.\n",
        "```"
      ],
      "metadata": {
        "id": "KrpUr80GGgI-"
      }
    },
    {
      "cell_type": "code",
      "source": [
        "class ParenthesesValidator:\n",
        "    def is_valid(self, s: str) -> bool:\n",
        "        matching_pairs = {')': '(', '}': '{', ']': '['}\n",
        "        stack = []\n",
        "\n",
        "        for char in s:\n",
        "            if char in matching_pairs.values():\n",
        "                stack.append(char)\n",
        "            elif char in matching_pairs:\n",
        "                if stack and stack[-1] == matching_pairs[char]:\n",
        "                    stack.pop()\n",
        "                else:\n",
        "                    return False\n",
        "            else:\n",
        "                return False\n",
        "\n",
        "        return not stack\n",
        "\n",
        "validator = ParenthesesValidator()\n",
        "\n",
        "print(validator.is_valid(\"()\"))\n",
        "print(validator.is_valid(\"()[]{}\"))\n",
        "print(validator.is_valid(\"(]\"))\n",
        "print(validator.is_valid(\"({[)]}\"))\n",
        "print(validator.is_valid(\"{{{\"))"
      ],
      "metadata": {
        "id": "5NaskGz8GmNJ",
        "colab": {
          "base_uri": "https://localhost:8080/"
        },
        "outputId": "d2c4e567-e544-45e8-8620-26fea33136ee"
      },
      "execution_count": null,
      "outputs": [
        {
          "output_type": "stream",
          "name": "stdout",
          "text": [
            "True\n",
            "True\n",
            "False\n",
            "False\n",
            "False\n"
          ]
        }
      ]
    },
    {
      "cell_type": "markdown",
      "source": [
        "**Problem 13**\n",
        "\n",
        "Create a base class Shape with a method area that returns 0. Then, create two subclasses Circle and Square, each with their own implementation of the area method. The Circle class should take a radius, and the Square class should take a side length. Demonstrate polymorphism by creating a list of shapes and iterating through them to print their areas"
      ],
      "metadata": {
        "id": "jwjRL57P2kGe"
      }
    },
    {
      "cell_type": "code",
      "source": [
        "import math\n",
        "\n",
        "class Shape:\n",
        "  def area(self):\n",
        "    return 0\n",
        "\n",
        "class Circle(Shape):\n",
        "  def __init__(self,radius):\n",
        "    self.radius = radius\n",
        "\n",
        "  def area(self):\n",
        "    return math.pi * (self.radius ** 2)\n",
        "\n",
        "class Square(Shape):\n",
        "  def __init__(self, side_length):\n",
        "    self.side_length = side_length\n",
        "\n",
        "  def area(self):\n",
        "    return self.side_length ** 2\n",
        "\n",
        "shapes = [\n",
        "    Circle(2),\n",
        "    Square(7),\n",
        "    Shape()\n",
        "]\n",
        "\n",
        "for shape in shapes:\n",
        "  print(f\"Area: {shape.area():.2f}\")"
      ],
      "metadata": {
        "id": "AtycZXMw2pOa",
        "colab": {
          "base_uri": "https://localhost:8080/"
        },
        "outputId": "7d300432-666b-4308-a554-620430af20a3"
      },
      "execution_count": null,
      "outputs": [
        {
          "output_type": "stream",
          "name": "stdout",
          "text": [
            "Area: 12.57\n",
            "Area: 49.00\n",
            "Area: 0.00\n"
          ]
        }
      ]
    },
    {
      "cell_type": "markdown",
      "source": [
        "**Problem 14**\n",
        "\n",
        "Create a class ComplexNumber that represents a complex number with attributes real and imaginary. Overload the + operator to add two complex numbers and the __str__ method to display the complex number in the form \"a + bi\". Test the addition of two complex numbers."
      ],
      "metadata": {
        "id": "8sLaFxLd2qHX"
      }
    },
    {
      "cell_type": "code",
      "source": [
        "class ComplexNumber:\n",
        "  def __init__(self, real, imaginary):\n",
        "    self.real = real\n",
        "    self.imaginary = imaginary\n",
        "\n",
        "  def __add__(self,other):\n",
        "    if isinstance(other,ComplexNumber):\n",
        "      real_part = self.real + other.real\n",
        "      imaginary_part = self.imaginary + other.imaginary\n",
        "      return ComplexNumber(real_part, imaginary_part)\n",
        "    return NotImplemented\n",
        "\n",
        "  def __str__(self):\n",
        "    if self.imaginary < 0:\n",
        "      return f\"{self.real} - {-self.imaginary}i\"\n",
        "    else:\n",
        "      return f\"{self.real} + {self.imaginary}i\"\n",
        "\n",
        "if __name__ == \"__main__\":\n",
        "  c1 = ComplexNumber(3, 2)\n",
        "  c2 = ComplexNumber(1, 7)\n",
        "\n",
        "  c3 = c1+c2\n",
        "\n",
        "  print(f\"Complex Number 1 is: {c1}\")\n",
        "  print(f\"Complex Number 1 is: {c2}\")\n",
        "  print(f\"Sum of Complex Numbers: {c3}\")"
      ],
      "metadata": {
        "id": "DpiAKuz02zZ_",
        "colab": {
          "base_uri": "https://localhost:8080/"
        },
        "outputId": "b2c8e191-d775-4417-dba9-7e6b8d512117"
      },
      "execution_count": null,
      "outputs": [
        {
          "output_type": "stream",
          "name": "stdout",
          "text": [
            "Complex Number 1 is: 3 + 2i\n",
            "Complex Number 1 is: 1 + 7i\n",
            "Sum of Complex Numbers: 4 + 9i\n"
          ]
        }
      ]
    },
    {
      "cell_type": "markdown",
      "source": [
        "**Problem 15**\n",
        "\n",
        "Create a class Engine with an attribute horsepower. Then, create a class Car that has an attribute engine of type Engine. Demonstrate aggregation by creating a Car with a Engine object, and print the car's horsepower. Demonstrate your understanding of Aggregation, Composition and has a relationship in this problem by adding all necessary properties and methods."
      ],
      "metadata": {
        "id": "wiwfjv6f27og"
      }
    },
    {
      "cell_type": "code",
      "source": [
        "class Engine:\n",
        "  def __init__(self,horsepower):\n",
        "    self.horsepower = horsepower\n",
        "\n",
        "  def get_horsepower(self):\n",
        "    return self.horsepower\n",
        "\n",
        "class Car:\n",
        "  def __init__(self, engine):\n",
        "    self.engine = engine\n",
        "\n",
        "  def get_car_horsepower(self):\n",
        "    return self.engine.get_horsepower()\n",
        "\n",
        "engine = Engine(270)\n",
        "car = Car(engine)\n",
        "\n",
        "print(f\"Car's horsepower: {car.get_car_horsepower()}\")\n",
        "print(f\"Engine's horsepower: {engine.get_horsepower()}\")"
      ],
      "metadata": {
        "id": "JTV5h_Jx3YUY",
        "colab": {
          "base_uri": "https://localhost:8080/"
        },
        "outputId": "00253f8c-a8ca-4eec-8296-be3f101a4338"
      },
      "execution_count": null,
      "outputs": [
        {
          "output_type": "stream",
          "name": "stdout",
          "text": [
            "Car's horsepower: 270\n",
            "Engine's horsepower: 270\n"
          ]
        }
      ]
    },
    {
      "cell_type": "markdown",
      "source": [
        "**Problem 16**\n",
        "\n",
        "Create a class Time with attributes hours and minutes. Implement the __str__, __add__, and __sub__ magic methods to display the time, add two Time objects, and subtract one Time object from another, respectively. Ensure that the time is displayed in hh:mm format."
      ],
      "metadata": {
        "id": "Yfi1NKVG3dbY"
      }
    },
    {
      "cell_type": "code",
      "source": [
        "class Time:\n",
        "  def __init__(self, hours, minutes):\n",
        "    self.hours = hours\n",
        "    self.minutes = minutes\n",
        "\n",
        "  def __str__(self):\n",
        "    return f\"{self.hours:02d}:{self.minutes:02d}\"\n",
        "\n",
        "  def __add__(self, other):\n",
        "    total_minutes = (self.hours * 60 + self.minutes) + (other.hours * 60 + other.minutes)\n",
        "    new_hours = total_minutes // 60\n",
        "    new_minutes = total_minutes % 60\n",
        "    return Time(new_hours,new_minutes)\n",
        "\n",
        "  def __sub__(self, other):\n",
        "    total_minutes = (self.hours * 60 + self.minutes) - (other.hours * 60 + other.minutes)\n",
        "    new_hours = total_minutes // 60\n",
        "    new_minutes = total_minutes % 60\n",
        "    return Time(new_hours,new_minutes)\n",
        "\n",
        "time1 = Time(9,50)\n",
        "time2 = Time(1,32)\n",
        "print(\"Time1 is: \",time1)\n",
        "print(\"Time2 is: \",time2)\n",
        "\n",
        "time3 = time1 + time2\n",
        "print(\"Total add Two Time are: \",time3)\n",
        "\n",
        "time4 = time1 - time2\n",
        "print(\"Total subtract Two Time are: \", time4)"
      ],
      "metadata": {
        "id": "jWhJfL2s3kUv",
        "colab": {
          "base_uri": "https://localhost:8080/"
        },
        "outputId": "bc50b640-b684-4588-aff7-592e17257744"
      },
      "execution_count": null,
      "outputs": [
        {
          "output_type": "stream",
          "name": "stdout",
          "text": [
            "Time1 is:  09:50\n",
            "Time2 is:  01:32\n",
            "Total add Two Time are:  11:22\n",
            "Total subtract Two Time are:  08:18\n"
          ]
        }
      ]
    },
    {
      "cell_type": "markdown",
      "source": [
        "**Problem 17**\n",
        "\n",
        "Create a custom exception class InsufficientFundsError that inherits from the base Exception class. Use this exception in the BankAccount class created earlier to raise an error when someone tries to withdraw more money than is available in the account.\n",
        "\n",
        "These problems cover a wide range of class-related topics and will help build a strong foundation in object-oriented programming using Python."
      ],
      "metadata": {
        "id": "zzyeegwU3lR-"
      }
    },
    {
      "cell_type": "code",
      "source": [
        "class InsufficientFundsError(Exception):\n",
        "  def __init__(self, message=\"You don't have enough money\"):\n",
        "    self.message = message\n",
        "    super().__init__(self.message)\n",
        "\n",
        "class BankAccount:\n",
        "  def __init__(self, initial_balance=0):\n",
        "    self._balance = initial_balance\n",
        "\n",
        "  def deposit(self, amount):\n",
        "    if amount > 0:\n",
        "      self._balance += amount\n",
        "    else:\n",
        "      print(\"Amount must be in positive!\")\n",
        "\n",
        "  def withdraw(self, amount):\n",
        "    if amount > 0:\n",
        "      if amount <= self._balance:\n",
        "        self._balance -= amount\n",
        "      else:\n",
        "        raise InsufficientFundsError()\n",
        "    else:\n",
        "      print(\"Amount must be in positive!\")\n",
        "\n",
        "  def get_balance(self):\n",
        "    return self._balance\n",
        "\n",
        "account = BankAccount(27000)\n",
        "account.deposit(650)\n",
        "\n",
        "try:\n",
        "  account.withdraw(1700)\n",
        "except InsufficientFundsError as e:\n",
        "  print(e)\n",
        "  print(\"Withdrawal failed\")\n",
        "\n",
        "print(\"Balance in account are:\", \"RM\",account.get_balance())\n"
      ],
      "metadata": {
        "id": "qJ8aEqph3r1U",
        "colab": {
          "base_uri": "https://localhost:8080/"
        },
        "outputId": "fd3fc941-40e5-4446-c283-e46a3a01f700"
      },
      "execution_count": null,
      "outputs": [
        {
          "output_type": "stream",
          "name": "stdout",
          "text": [
            "Balance in account are: RM 25950\n"
          ]
        }
      ]
    },
    {
      "cell_type": "markdown",
      "source": [
        "**Problem 18**\n",
        "\n",
        "Create a class TemperatureConverter with a static method celsius_to_fahrenheit that converts Celsius to Fahrenheit and another static method fahrenheit_to_celsius that converts Fahrenheit to Celsius. Demonstrate the usage of these methods without creating an instance of the class.\n",
        "\n",
        "Bonus: Add a class method that keeps track of how many conversions have been performed."
      ],
      "metadata": {
        "id": "zkr5vlOR35R4"
      }
    },
    {
      "cell_type": "code",
      "source": [
        "class TemperatureConverter:\n",
        "  conversion_count = 0\n",
        "\n",
        "  @staticmethod\n",
        "  def celsius_to_fahrenheit(celsius):\n",
        "    fahrenheit = (celsius * 9/5) + 32\n",
        "    TemperatureConverter.conversion_count += 1\n",
        "    return fahrenheit\n",
        "\n",
        "  @staticmethod\n",
        "  def fahrenheit_to_celsius(fahrenheit):\n",
        "    celsius = (fahrenheit - 32) * 5/9\n",
        "    TemperatureConverter.conversion_count += 1\n",
        "    return celsius\n",
        "\n",
        "  @classmethod\n",
        "  def get_conversion_count(cls):\n",
        "    return cls.conversion_count\n",
        "\n",
        "fahrenheit = TemperatureConverter.celsius_to_fahrenheit(37)\n",
        "print(f\"37°C is equal to {fahrenheit}°F\")\n",
        "\n",
        "celsius = TemperatureConverter.fahrenheit_to_celsius(76)\n",
        "print(f\"76°F is equal to {celsius}°C\")\n",
        "\n",
        "print(f\"Total conversions: {TemperatureConverter.get_conversion_count()}\")"
      ],
      "metadata": {
        "id": "lLr6A2Jf3_r3",
        "colab": {
          "base_uri": "https://localhost:8080/"
        },
        "outputId": "7f943bd3-75af-403e-9b7b-a1251345c4d1"
      },
      "execution_count": null,
      "outputs": [
        {
          "output_type": "stream",
          "name": "stdout",
          "text": [
            "37°C is equal to 98.6°F\n",
            "76°F is equal to 24.444444444444443°C\n",
            "Total conversions: 2\n"
          ]
        }
      ]
    },
    {
      "cell_type": "markdown",
      "source": [
        "**Problem 19**\n",
        "\n",
        "Create a class BankAccount with a private attribute balance. Add methods to deposit and withdraw money from the account. Ensure that the balance cannot be directly accessed from outside the class but can be modified through the deposit and withdraw methods. Also, add a method get_balance to view the balance."
      ],
      "metadata": {
        "id": "cwbjKzva4Eov"
      }
    },
    {
      "cell_type": "code",
      "source": [
        "class BankAccount:\n",
        "  def __init__(self, initial_balance=0):\n",
        "    self._balance = initial_balance\n",
        "\n",
        "  def deposit(self,amount):\n",
        "    if amount > 0:\n",
        "      self._balance += amount\n",
        "    else:\n",
        "      print(\"Invalid deposit amount. Amount must be positive.\")\n",
        "\n",
        "  def withdraw(self,amount):\n",
        "    if amount > 0 and amount <= self._balance:\n",
        "      self._balance -= amount\n",
        "    elif amount <= 0:\n",
        "      print(\"Invalid withdrawal amount. Amount must be positive.\")\n",
        "    else:\n",
        "      print(\"Insufficient funds.\")\n",
        "\n",
        "  def get_balance(self):\n",
        "    return self._balance\n",
        "\n",
        "account = BankAccount(1000)\n",
        "account.deposit(500)\n",
        "print(account.get_balance())\n",
        "\n",
        "account.withdraw(200)\n",
        "print(account.get_balance())\n",
        "\n",
        "account.withdraw(1500)\n",
        "print(account.get_balance())"
      ],
      "metadata": {
        "id": "f9j_qv1_4Hrc",
        "colab": {
          "base_uri": "https://localhost:8080/"
        },
        "outputId": "16e38743-27ec-4841-b5d2-d2a1c9e8765d"
      },
      "execution_count": null,
      "outputs": [
        {
          "output_type": "stream",
          "name": "stdout",
          "text": [
            "1500\n",
            "1300\n",
            "Insufficient funds.\n",
            "1300\n"
          ]
        }
      ]
    },
    {
      "cell_type": "markdown",
      "source": [
        "**Problem 20**\n",
        "\n",
        "Create a base class Person with attributes name and age, and a method display_info that prints the name and age. Then, create a subclass Student that inherits from Person and adds the attribute student_id. Override the display_info method to also display the student_id. Create an instance of Student and call the display_info method."
      ],
      "metadata": {
        "id": "p3F77PJ-4ImX"
      }
    },
    {
      "cell_type": "code",
      "source": [
        "class Person:\n",
        "  def __init__(self,name,age):\n",
        "    self.name = name\n",
        "    self.age = age\n",
        "\n",
        "  def display_info(self):\n",
        "    print(f\"Name: {self.name}, Age: {self.age}\")\n",
        "\n",
        "class Student(Person):\n",
        "  def __init__(self, name, age, student_id):\n",
        "    super().__init__(name,age)\n",
        "    self.student_id = student_id\n",
        "\n",
        "  def display_info(self):\n",
        "    super().display_info()\n",
        "    print(f\"Student ID: {self.student_id}\")\n",
        "\n",
        "student = Student(\"Husna\", 18, \"2019593545\")\n",
        "student.display_info()"
      ],
      "metadata": {
        "id": "SwWAhdyp4SJ3",
        "colab": {
          "base_uri": "https://localhost:8080/"
        },
        "outputId": "bb4dd3d7-dedf-4bb7-a218-7ccf7e987678"
      },
      "execution_count": null,
      "outputs": [
        {
          "output_type": "stream",
          "name": "stdout",
          "text": [
            "Name: Husna, Age: 18\n",
            "Student ID: 2019593545\n"
          ]
        }
      ]
    },
    {
      "cell_type": "markdown",
      "source": [
        "<b>Problem 21: Track Instances of a Class</b><br/>\n",
        "\n",
        "Write a class Student that tracks the number of students created. Use a class variable student_count to keep track of the count.\n",
        "\n",
        "1. Each time a new Student object is created, increment student_count.\n",
        "2. Add a method total_students() that returns the current count of students."
      ],
      "metadata": {
        "id": "PsbjEM9OIGsH"
      }
    },
    {
      "cell_type": "code",
      "source": [
        "class Student:\n",
        "  student_count = 0\n",
        "\n",
        "  def __init__(self, name):\n",
        "    self.name = name\n",
        "    Student.student_count += 1\n",
        "\n",
        "  def total_students(self):\n",
        "    print(\"Total Students:\", Student.student_count)\n",
        "\n",
        "Husna = Student(\"Sharifah Husna\")\n",
        "Ruiz = Student(\"Adrean Ruiz\")\n",
        "Byun = Student(\"Byun Wooseok\")\n",
        "\n",
        "print(Student.student_count)\n",
        "Student.total_students(Husna)"
      ],
      "metadata": {
        "id": "R6rMDCJUIUFs",
        "colab": {
          "base_uri": "https://localhost:8080/"
        },
        "outputId": "9ad66635-8081-4506-d0f7-a04a1acfa6c0"
      },
      "execution_count": null,
      "outputs": [
        {
          "output_type": "stream",
          "name": "stdout",
          "text": [
            "3\n",
            "Total Students: 3\n"
          ]
        }
      ]
    },
    {
      "cell_type": "markdown",
      "source": [
        "<b>Problem 22: Shared Configuration</b>\n",
        "\n",
        "Create a class ServerConfig that holds the server's default configuration using class variables. The class should have the following:\n",
        "\n",
        "1. A class variable default_port set to 8080.\n",
        "2. A class variable default_protocol set to \"http\".\n",
        "3. Methods to get and update these default values."
      ],
      "metadata": {
        "id": "2lCQC1m_IwMD"
      }
    },
    {
      "cell_type": "code",
      "source": [
        "class ServerConfig:\n",
        "  default_port = 8080\n",
        "  default_protocol = \"http\"\n",
        "\n",
        "  @classmethod\n",
        "  def get_default_port(cls):\n",
        "    return cls.default_port\n",
        "\n",
        "  @classmethod\n",
        "  def set_default_port(cls, port):\n",
        "    cls.default_port = port\n",
        "\n",
        "  @classmethod\n",
        "  def get_default_protocol(cls):\n",
        "    return cls.default_protocol\n",
        "\n",
        "  @classmethod\n",
        "  def set_default_protocol(cls,protocol):\n",
        "    cls.default_protocol = protocol\n",
        "\n",
        "print(f\"Default port: {ServerConfig.get_default_port()}\")\n",
        "print(f\"Default protocol: {ServerConfig.get_default_protocol()}\")\n",
        "\n",
        "ServerConfig.set_default_port(9000)\n",
        "ServerConfig.set_default_protocol(\"https\")\n",
        "\n",
        "print(f\"New default port: {ServerConfig.get_default_port()}\")\n",
        "print(f\"New default protocol: {ServerConfig.get_default_protocol()}\")\n",
        "\n",
        "print(f\"Accessing default port through the class: {ServerConfig.default_port}\")\n",
        "\n",
        "server_instance = ServerConfig()\n",
        "print(f\"Accessing default port through an instance: {server_instance.default_port}\")"
      ],
      "metadata": {
        "id": "fbC0ewMRI4Ds",
        "colab": {
          "base_uri": "https://localhost:8080/"
        },
        "outputId": "e9103ff5-18c1-44a2-a026-9c41ccd5a0f4"
      },
      "execution_count": null,
      "outputs": [
        {
          "output_type": "stream",
          "name": "stdout",
          "text": [
            "Default port: 8080\n",
            "Default protocol: http\n",
            "New default port: 9000\n",
            "New default protocol: https\n",
            "Accessing default port through the class: 9000\n",
            "Accessing default port through an instance: 9000\n"
          ]
        }
      ]
    },
    {
      "cell_type": "markdown",
      "source": [
        "<b>Problem 23: Animal Hierarchy</b><br/>\n",
        "Create a base class Animal with the following:\n",
        "1. A method make_sound() that prints \"Some generic sound\".\n",
        "2. A method move() that prints \"Animal moves\".\n",
        "\n",
        "Create two derived classes:\n",
        "1. Dog: Override make_sound() to print \"Bark\".\n",
        "2. Bird: Override move() to print \"Bird flies\"."
      ],
      "metadata": {
        "id": "apogoC5tJONb"
      }
    },
    {
      "cell_type": "code",
      "source": [
        "class Animal:\n",
        "  def make_sound(self):\n",
        "    print(\"Some generic sound\")\n",
        "\n",
        "  def move(self):\n",
        "    print(\"Animal moves\")\n",
        "print(\"ANIMAL!\")\n",
        "animal = Animal()\n",
        "animal.make_sound()\n",
        "animal.move()\n",
        "\n",
        "class Dog(Animal):\n",
        "  def make_sound(self):\n",
        "    print(\"Bark\")\n",
        "print(\"\\nDOG!\")\n",
        "dog = Dog()\n",
        "dog.make_sound()\n",
        "dog.move()\n",
        "\n",
        "class Bird(Animal):\n",
        "  def move(self):\n",
        "    print(\"Bird Flies\")\n",
        "print(\"\\nBIRD!\")\n",
        "bird = Bird()\n",
        "bird.make_sound()\n",
        "bird.move()"
      ],
      "metadata": {
        "id": "XpJOxWYzJds9",
        "colab": {
          "base_uri": "https://localhost:8080/"
        },
        "outputId": "e123d15a-dd99-4456-cf17-100002920052"
      },
      "execution_count": null,
      "outputs": [
        {
          "output_type": "stream",
          "name": "stdout",
          "text": [
            "ANIMAL!\n",
            "Some generic sound\n",
            "Animal moves\n",
            "\n",
            "DOG!\n",
            "Bark\n",
            "Animal moves\n",
            "\n",
            "BIRD!\n",
            "Some generic sound\n",
            "Bird Flies\n"
          ]
        }
      ]
    },
    {
      "cell_type": "markdown",
      "source": [
        "<b>Problem 24: Library System</b>\n",
        "\n",
        "Create a base class Book with:\n",
        "1. Attributes title and author.\n",
        "2. A method display_info() to print the title and author.\n",
        "\n",
        "Create the following derived classes:\n",
        "1. EBook: Adds an attribute file_size (in MB) and overrides display_info() to include file size.\n",
        "2. PrintedBook: Adds an attribute pages and overrides display_info() to include the number of pages."
      ],
      "metadata": {
        "id": "EJKYYOvGJpOL"
      }
    },
    {
      "cell_type": "code",
      "source": [
        "class Book:\n",
        "  def __init__(self,title,author):\n",
        "    self.title = title\n",
        "    self.author = author\n",
        "\n",
        "  def display_info(self):\n",
        "    print(f\"Title: {self.title}\")\n",
        "    print(f\"Author: {self.author}\")\n",
        "\n",
        "print(\"BOOK!\")\n",
        "book = Book(\"Medusa The Golden Blood\", \"Nurul Ain Syuhada\")\n",
        "book.display_info()\n",
        "\n",
        "class Ebook(Book):\n",
        "  def __init__(self,title,author,file_size):\n",
        "    super().__init__(title, author)\n",
        "    self.file_size = file_size\n",
        "\n",
        "  def display_info(self):\n",
        "    super().display_info()\n",
        "    print(f\"File Size: {self.file_size} MB\")\n",
        "\n",
        "print(\"\\nEBOOK!\")\n",
        "ebook = Ebook(\"King of Warth\", \"Ana Huang\", \"2.15\")\n",
        "ebook.display_info()\n",
        "\n",
        "class PrintedBook(Book):\n",
        "  def __init__(self,title,author,pages_number):\n",
        "    super().__init__(title, author)\n",
        "    self.pages_number = pages_number\n",
        "\n",
        "  def display_info(self):\n",
        "    super().display_info()\n",
        "    print(f\"Number of Pages: {self.pages_number} pages\")\n",
        "\n",
        "print(\"\\nPRINTEDBOOK!\")\n",
        "printedbook = PrintedBook(\"Misi Matematik\", \"Syed Alif\", \"20\")\n",
        "printedbook.display_info()"
      ],
      "metadata": {
        "id": "nczt61gAJ3pB",
        "colab": {
          "base_uri": "https://localhost:8080/"
        },
        "outputId": "62944ddd-bb34-4a1b-ca12-50ec96dde908"
      },
      "execution_count": null,
      "outputs": [
        {
          "output_type": "stream",
          "name": "stdout",
          "text": [
            "BOOK!\n",
            "Title: Medusa The Golden Blood\n",
            "Author: Nurul Ain Syuhada\n",
            "\n",
            "EBOOK!\n",
            "Title: King of Warth\n",
            "Author: Ana Huang\n",
            "File Size: 2.15 MB\n",
            "\n",
            "PRINTEDBOOK!\n",
            "Title: Misi Matematik\n",
            "Author: Syed Alif\n",
            "Number of Pages: 20 pages\n"
          ]
        }
      ]
    },
    {
      "cell_type": "markdown",
      "source": [
        "<b>Problem 25: Smart Home System</b><br/>\n",
        "Create a system for a smart home that involves multiple inheritance to simulate different roles for smart devices. Implement the following classes:\n",
        "\n",
        "1. Appliance (Base Class 1):<br/>\n",
        "<b>a. Attributes:</b><br/>\n",
        "brand (string): Brand of the appliance.<br/>\n",
        "<b>b. Methods:</b><br/>\n",
        "turn_on(): Prints \"The appliance is now ON.\"<br/>\n",
        "turn_off(): Prints \"The appliance is now OFF.\"<br/>\n",
        "\n",
        "2. InternetEnabled (Base Class 2):<br/>\n",
        "<b>a. Attributes:</b><br/>\n",
        "ip_address (string): IP address of the device.<br/>\n",
        "<b>b. Methods:</b><br/>\n",
        "connect_to_internet(): Prints \"Connected to the internet at {ip_address}.\"<br/>\n",
        "disconnect_from_internet(): Prints \"Disconnected from the internet.\"<br/>\n",
        "\n",
        "3. VoiceControlled (Base Class 3):<br/>\n",
        "<b>a. Methods:</b><br/>\n",
        "respond_to_command(command): Responds to the given voice command:<br/>\n",
        "\"Turn on\" -> Calls turn_on().<br/>\n",
        "\"Turn off\" -> Calls turn_off().<br/>\n",
        "Any other command -> Prints \"Unknown command.\"<br/>\n",
        "\n",
        "<b>SmartDevice (Derived Class):</b><br/>\n",
        "\n",
        "1. Inherits from Appliance, InternetEnabled, and VoiceControlled.\n",
        "2. Attributes:<br/>\n",
        "name (string): Name of the smart device.\n",
        "3. Methods:<br/>\n",
        "show_device_status(): Prints the device name, brand, and IP address.<br/>\n",
        "\n",
        "<b>Requirements:</b><br/>\n",
        "1. Create a SmartDevice instance with attributes name, brand, and ip_address.\n",
        "2. Demonstrate:\n",
        "<ul>\n",
        "<li>Turning the device on and off via the respond_to_command() method.</li>\n",
        "<li>Connecting and disconnecting the device from the internet.</li>\n",
        "<li>Showing the device's details using show_device_status().</li>\n",
        "</ul>"
      ],
      "metadata": {
        "id": "W4FcqCDoKh5w"
      }
    },
    {
      "cell_type": "code",
      "source": [
        "class Appliance:\n",
        "    def __init__(self,brand):\n",
        "        self.brand = brand\n",
        "\n",
        "    def turn_on(self):\n",
        "        print (f\"The appliance is now ON.\")\n",
        "\n",
        "    def turn_off(self):\n",
        "        print(f\"The appliance is now OFF.\")\n",
        "\n",
        "class InternetEnabled:\n",
        "    def __init__(self, ip_address):\n",
        "        self.ip_address = ip_address\n",
        "\n",
        "    def connect_to_internet(self):\n",
        "        print(f\"Connected to the internet at {self.ip_address}\")\n",
        "\n",
        "    def disconnect_from_internet(self):\n",
        "        print(f\"Disconnected from the Internet.\")\n",
        "\n",
        "class VoiceControlled:\n",
        "    def respond_to_command(self, command):\n",
        "        if command.lower()== \"turn on\":\n",
        "            self.turn_on()\n",
        "        elif command.lower()== \"turn off\":\n",
        "            self.turn_off()\n",
        "        else:\n",
        "            print(\"Unknown command.\")\n",
        "\n",
        "class SmartDevice(Appliance,InternetEnabled,VoiceControlled):\n",
        "    def __init__(self, name: str, brand: str, ip_address: str):\n",
        "        # Initialize parent classes\n",
        "        Appliance.__init__(self, brand)\n",
        "        InternetEnabled.__init__(self, ip_address)\n",
        "        self.name = name\n",
        "\n",
        "    def show_device_status(self):\n",
        "        print(f\"Device Name: {self.name}\")\n",
        "        print(f\"Brand: {self.brand}\")\n",
        "        print(f\"IP Address: {self.ip_address}\")\n",
        "\n",
        "# Demonstration\n",
        "if __name__ == \"__main__\":\n",
        "    # Create an instance of SmartDevice\n",
        "    my_device = SmartDevice(name=\"Smart TV\", brand=\"Panasonic\", ip_address=\"132.101.2.7\")\n",
        "\n",
        "    # Show device details\n",
        "    my_device.show_device_status()\n",
        "\n",
        "    # Respond to voice commands\n",
        "    my_device.respond_to_command(\"Turn on\")\n",
        "    my_device.respond_to_command(\"Turn off\")\n",
        "    my_device.respond_to_command(\"Dim the lights\")  # Unknown command\n",
        "\n",
        "    # Internet connectivity actions\n",
        "    my_device.connect_to_internet()\n",
        "    my_device.disconnect_from_internet()\n"
      ],
      "metadata": {
        "id": "rQ0jqcPKLfzI",
        "colab": {
          "base_uri": "https://localhost:8080/"
        },
        "outputId": "c7e48f9b-f0dd-4379-b0d7-3c3bf32c4c14"
      },
      "execution_count": null,
      "outputs": [
        {
          "output_type": "stream",
          "name": "stdout",
          "text": [
            "Device Name: Smart TV\n",
            "Brand: Panasonic\n",
            "IP Address: 132.101.2.7\n",
            "The appliance is now ON.\n",
            "The appliance is now OFF.\n",
            "Unknown command.\n",
            "Connected to the internet at 132.101.2.7\n",
            "Disconnected from the Internet.\n"
          ]
        }
      ]
    }
  ]
}