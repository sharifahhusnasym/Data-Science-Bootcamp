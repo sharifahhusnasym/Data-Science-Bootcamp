{
  "nbformat": 4,
  "nbformat_minor": 0,
  "metadata": {
    "colab": {
      "provenance": [],
      "include_colab_link": true
    },
    "kernelspec": {
      "name": "python3",
      "display_name": "Python 3"
    },
    "language_info": {
      "name": "python"
    }
  },
  "cells": [
    {
      "cell_type": "markdown",
      "metadata": {
        "id": "view-in-github",
        "colab_type": "text"
      },
      "source": [
        "<a href=\"https://colab.research.google.com/github/sharifahhusnasym/Data-Science-Bootcamp/blob/main/Sharifah_Husna_python105.ipynb\" target=\"_parent\"><img src=\"https://colab.research.google.com/assets/colab-badge.svg\" alt=\"Open In Colab\"/></a>"
      ]
    },
    {
      "cell_type": "markdown",
      "source": [
        "**Problem 1**\n",
        "\n",
        "Write a python function that takes a number as parameter and prints the multiplication table of that number"
      ],
      "metadata": {
        "id": "A0Bwrme6fTrE"
      }
    },
    {
      "cell_type": "code",
      "execution_count": null,
      "metadata": {
        "id": "EWkDXgTp_3vD",
        "colab": {
          "base_uri": "https://localhost:8080/"
        },
        "outputId": "7be53ca0-686e-423a-f1cb-1c8519ce5710"
      },
      "outputs": [
        {
          "output_type": "stream",
          "name": "stdout",
          "text": [
            "1 x 8 = 8\n",
            "2 x 8 = 16\n",
            "3 x 8 = 24\n",
            "4 x 8 = 32\n",
            "5 x 8 = 40\n",
            "6 x 8 = 48\n",
            "7 x 8 = 56\n",
            "8 x 8 = 64\n",
            "9 x 8 = 72\n",
            "10 x 8 = 80\n",
            "11 x 8 = 88\n",
            "12 x 8 = 96\n"
          ]
        }
      ],
      "source": [
        "def multiplication_table(number):\n",
        "  for h in range(1,13):\n",
        "    print(f\"{h} x {number} = {number * h}\")\n",
        "\n",
        "multiplication_table(8)"
      ]
    },
    {
      "cell_type": "markdown",
      "source": [
        "**Problem 2**\n",
        "\n",
        "Write a simple python function that returns twin primes less than 1000. If two consecutive odd numbers are both prime then they are known as twin primes.\n",
        "\n",
        "Pairs of primes that differ by 2. For example, 3 and 5, 5 and 7, 11 and 13, and 17 and 19 are twin primes."
      ],
      "metadata": {
        "id": "hHsndVQCfZNT"
      }
    },
    {
      "cell_type": "code",
      "source": [
        "def prime(number):\n",
        "  x = number\n",
        "\n",
        "  if x < 2:\n",
        "    return False\n",
        "  for x in range(2, int(number**0.5), + 1):\n",
        "    if number % x == 0:\n",
        "      return False\n",
        "  return True\n",
        "\n",
        "def find_twins_prime(limit):\n",
        "  twin_primes = []\n",
        "\n",
        "  for x in range(2, limit - 1):\n",
        "    if prime(x) and prime(x + 2):\n",
        "      twin_primes.append((x, x + 2))\n",
        "  return twin_primes\n",
        "\n",
        "twin_primes = find_twins_prime(1000)\n",
        "print(\"Twin primes in less than 1000 that differs by 2 are:\")\n",
        "\n",
        "for pair in twin_primes:\n",
        "  print(pair)"
      ],
      "metadata": {
        "id": "DT9PXLVEAGjQ",
        "colab": {
          "base_uri": "https://localhost:8080/"
        },
        "outputId": "c6409ca1-fee2-4705-9f89-256a56832e11"
      },
      "execution_count": null,
      "outputs": [
        {
          "output_type": "stream",
          "name": "stdout",
          "text": [
            "Twin primes in less than 1000 that differs by 2 are:\n",
            "(2, 4)\n",
            "(3, 5)\n",
            "(4, 6)\n",
            "(5, 7)\n",
            "(6, 8)\n",
            "(7, 9)\n",
            "(9, 11)\n",
            "(11, 13)\n",
            "(13, 15)\n",
            "(15, 17)\n",
            "(17, 19)\n",
            "(23, 25)\n",
            "(29, 31)\n",
            "(35, 37)\n",
            "(41, 43)\n",
            "(47, 49)\n",
            "(59, 61)\n",
            "(71, 73)\n",
            "(101, 103)\n",
            "(107, 109)\n",
            "(137, 139)\n",
            "(149, 151)\n",
            "(167, 169)\n",
            "(179, 181)\n",
            "(191, 193)\n",
            "(197, 199)\n",
            "(227, 229)\n",
            "(239, 241)\n",
            "(269, 271)\n",
            "(281, 283)\n",
            "(311, 313)\n",
            "(347, 349)\n",
            "(359, 361)\n",
            "(419, 421)\n",
            "(431, 433)\n",
            "(461, 463)\n",
            "(521, 523)\n",
            "(569, 571)\n",
            "(599, 601)\n",
            "(617, 619)\n",
            "(641, 643)\n",
            "(659, 661)\n",
            "(809, 811)\n",
            "(821, 823)\n",
            "(827, 829)\n",
            "(839, 841)\n",
            "(857, 859)\n",
            "(881, 883)\n"
          ]
        }
      ]
    },
    {
      "cell_type": "markdown",
      "source": [
        "**Problem 3**\n",
        "\n",
        "Write a simple python function that takes a number as parameter and returns  the prime factors of that number. Prime Factorization is finding which prime numbers multiply together to make the original number.\n",
        "\n",
        "Example: prime factors of 56 - 2, 2, 2, 7"
      ],
      "metadata": {
        "id": "IuSDs-t6hN2I"
      }
    },
    {
      "cell_type": "code",
      "source": [
        "def prime_factor(number):\n",
        "  factors = []\n",
        "  divisor = 2 # smallest number in prime number\n",
        "\n",
        "  while number % divisor == 0: # check either divisor is factor\n",
        "    factors.append(divisor)\n",
        "    number //= divisor # reduce the number\n",
        "\n",
        "  divisor += 1 # move to the next possible divisor\n",
        "\n",
        "  if divisor * divisor > number and number > 1:\n",
        "    factors.append(number)\n",
        "\n",
        "  return factors\n",
        "\n",
        "result = prime_factor(56)\n",
        "print(\"The prime factors of 56 is:\",result)"
      ],
      "metadata": {
        "id": "gm96Yr9-_6VN",
        "colab": {
          "base_uri": "https://localhost:8080/"
        },
        "outputId": "3efc91f8-8b74-4fcf-f0a3-7b5569fd1b70"
      },
      "execution_count": null,
      "outputs": [
        {
          "output_type": "stream",
          "name": "stdout",
          "text": [
            "The prime factors of 56 is: [2, 2, 2, 7]\n"
          ]
        }
      ]
    },
    {
      "cell_type": "markdown",
      "source": [
        "**Problem 4**\n",
        "\n",
        "Write a function that inputs a number and returns the product of digits of that number."
      ],
      "metadata": {
        "id": "TjZG6aCDiaR8"
      }
    },
    {
      "cell_type": "code",
      "source": [
        "def product_of_digits(number):\n",
        "  result = 1\n",
        "\n",
        "  while number > 0:\n",
        "    digit = number % 10\n",
        "    result *= digit\n",
        "    number //= 10\n",
        "  return result\n",
        "\n",
        "num = int(input(\"Enter a number: \"))\n",
        "result = product_of_digits(num)\n",
        "print(\"The product of digits of\", num, \"is:\", result)"
      ],
      "metadata": {
        "id": "mvt7rb44AD1O",
        "colab": {
          "base_uri": "https://localhost:8080/"
        },
        "outputId": "d1cdad5b-7f08-4291-d295-b69b0f181d32"
      },
      "execution_count": null,
      "outputs": [
        {
          "output_type": "stream",
          "name": "stdout",
          "text": [
            "Enter a number: 132\n",
            "The product of digits of 132 is: 6\n"
          ]
        }
      ]
    },
    {
      "cell_type": "markdown",
      "source": [
        "**Problem 5**\n",
        "\n",
        "Write a function that takes a number as parameter. The function finds the proper divisors of that number and then finds the sum of proper divisors. Proper divisors of a number are those numbers by which the number is divisible, except the number itself.\n",
        "\n",
        "For example proper divisors of 36 are 1, 2, 3, 4, 6, 9, 18"
      ],
      "metadata": {
        "id": "dP39qvGMje7L"
      }
    },
    {
      "cell_type": "code",
      "source": [
        "def sum_of_proper_divisor(number):\n",
        "  totalsum = 0\n",
        "  divisor = []\n",
        "\n",
        "  for x in range(1, number):\n",
        "    if number % x == 0:\n",
        "      totalsum += x\n",
        "      divisor.append(x)\n",
        "  return totalsum, divisor\n",
        "\n",
        "totalsum, result = sum_of_proper_divisor(36)\n",
        "print(\"The proper divisor of 36 is:\", result)\n",
        "print(\"The sum of proper divisor:\", totalsum)"
      ],
      "metadata": {
        "id": "S29lD5Majy2V",
        "colab": {
          "base_uri": "https://localhost:8080/"
        },
        "outputId": "8cd244a6-95c4-4f23-e460-4abf41589f74"
      },
      "execution_count": null,
      "outputs": [
        {
          "output_type": "stream",
          "name": "stdout",
          "text": [
            "The proper divisor of 36 is: [1, 2, 3, 4, 6, 9, 12, 18]\n",
            "The sum of proper divisor: 55\n"
          ]
        }
      ]
    },
    {
      "cell_type": "markdown",
      "source": [
        "**Problem 6**\n",
        "\n",
        "A number is called perfect if the sum of proper divisors of that number is equal to the number. For example 28 is perfect number, since 1+2+4+7+14=28. Write a program to print all the perfect numbers in a given range"
      ],
      "metadata": {
        "id": "mcVzyq8lj1Sr"
      }
    },
    {
      "cell_type": "code",
      "source": [
        "def sum_of_proper_divisors(number):\n",
        "  divisors_sum = 0\n",
        "\n",
        "  for x in range(1, number // 2 + 1):\n",
        "    if number % x == 0:\n",
        "      divisors_sum += x\n",
        "  return divisors_sum\n",
        "\n",
        "def perfect_number(first, last):\n",
        "  perfect = []\n",
        "\n",
        "  for number in range(first, last + 1):\n",
        "    if number == sum_of_proper_divisors(number):\n",
        "      perfect.append(number)\n",
        "  return perfect\n",
        "\n",
        "first = 1\n",
        "last = 10000\n",
        "print(f\"Perfect numbers between {first} and {last} are:\")\n",
        "perfect_number(first,last)"
      ],
      "metadata": {
        "id": "pfDuxZAcj--R",
        "colab": {
          "base_uri": "https://localhost:8080/"
        },
        "outputId": "aa999233-4018-43df-ff9f-3e2f77b4c61d"
      },
      "execution_count": null,
      "outputs": [
        {
          "output_type": "stream",
          "name": "stdout",
          "text": [
            "Perfect numbers between 1 and 10000 are:\n"
          ]
        },
        {
          "output_type": "execute_result",
          "data": {
            "text/plain": [
              "[6, 28, 496, 8128]"
            ]
          },
          "metadata": {},
          "execution_count": 28
        }
      ]
    },
    {
      "cell_type": "markdown",
      "source": [
        "**Problem 7**\n",
        "\n",
        "Write a python function that takes 2 parameters lower and upper (range). Let the function returns pairs of amicable numbers in that range.\n",
        "\n",
        "Two different numbers are called amicable numbers if the sum of the proper divisors of each is equal to the other number. For example 220 and 284 are amicable numbers.\n",
        "\n",
        "For example if we call that function: amicableNumbers(1, 1000)\n",
        "\n",
        "The function must return: **[220, 284]**\n",
        "\n",
        "\n",
        "*Why they are amicable numbers ?*\n",
        "\n",
        "Sum of proper divisors of **220** = 1+2+4+5+10+11+20+22+44+55+110 = **284**\n",
        "\n",
        "Sum of proper divisors of **284** = 1+2+4+71+142 = **220**\n",
        "\n",
        "\n",
        "\n"
      ],
      "metadata": {
        "id": "Wv5N6tzvkMlN"
      }
    },
    {
      "cell_type": "code",
      "source": [
        "def sum_div(number):\n",
        "  totalsum = 0\n",
        "\n",
        "  for x in range(1, number):\n",
        "    if number % x == 0:\n",
        "      totalsum += x\n",
        "  return totalsum\n",
        "\n",
        "def amicableNum(lower,upper):\n",
        "  amicable_list = {}\n",
        "  for num1 in range(lower,upper):\n",
        "    num2 = sum_div(num1)\n",
        "    if num2 > num1 and num2 < upper and sum_div(num2) == num1:\n",
        "      amicable_list[num1]=num2\n",
        "  return amicable_list\n",
        "\n",
        "low = int(input(\"Enter the lower range: \"))\n",
        "high = int(input(\"Enter the higher range: \"))\n",
        "result = amicableNum(low,high)\n",
        "print(\"The Amicable Numbers:\", result)\n"
      ],
      "metadata": {
        "id": "402wOy0fk6o9",
        "colab": {
          "base_uri": "https://localhost:8080/"
        },
        "outputId": "568c0eaf-08de-4442-f839-ac437a5cdc92"
      },
      "execution_count": null,
      "outputs": [
        {
          "output_type": "stream",
          "name": "stdout",
          "text": [
            "Enter the lower range: 1\n",
            "Enter the higher range: 1000\n",
            "The Amicable Numbers: {220: 284}\n"
          ]
        }
      ]
    },
    {
      "cell_type": "markdown",
      "source": [
        "**Problem 8**\n",
        "\n",
        "Write a python function that takes variable length parameters and returns maximum and minimum number in the parameter numbers.\n",
        "\n",
        "For example if we call the function: maximumMinimum(10, 20, 30, 40, 50)\n",
        "\n",
        "The function must return: **[10, 50]**"
      ],
      "metadata": {
        "id": "C0KGpzm73ZjE"
      }
    },
    {
      "cell_type": "code",
      "source": [
        "def maximumMinimum(*number):\n",
        "  if len(number) == 0:\n",
        "    return []\n",
        "\n",
        "  maxnum = max(number)\n",
        "  minnum = min(number)\n",
        "\n",
        "  return [minnum, maxnum]\n",
        "\n",
        "result = maximumMinimum(10, 20, 30, 40, 50)\n",
        "print(\"The function must return:\",result)"
      ],
      "metadata": {
        "id": "t-24AVom39FU",
        "colab": {
          "base_uri": "https://localhost:8080/"
        },
        "outputId": "4e971491-cb1a-4d0d-8259-da2c99895293"
      },
      "execution_count": null,
      "outputs": [
        {
          "output_type": "stream",
          "name": "stdout",
          "text": [
            "The function must return: [10, 50]\n"
          ]
        }
      ]
    },
    {
      "cell_type": "markdown",
      "source": [
        "**Problem 9**\n",
        "\n",
        "Write a simple Python function that takes a number(n) as a parameter. Then the function prints out the first n rows of Pascal's triangle. Note : Pascal's triangle is an arithmetic and geometric figure first imagined by Blaise Pascal.\n",
        "\n",
        "\n",
        "\n",
        "![pascaltriangle.png](data:image/png;base64,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)"
      ],
      "metadata": {
        "id": "Fz9twS264CYO"
      }
    },
    {
      "cell_type": "code",
      "source": [
        "def pascal_triangle(n):\n",
        "  triangle = []\n",
        "\n",
        "  for x in range(n):\n",
        "    row = [1] * (x + 1)\n",
        "    for y in range(1,x):\n",
        "      row[y] = triangle[x - 1][y -1] + triangle[x -1][y]\n",
        "    triangle.append(row)\n",
        "\n",
        "  width = len(\" \".join(map(str, triangle[-1])))\n",
        "\n",
        "  for row in triangle:\n",
        "    print(\" \".join(map(str, row)).center(width))\n",
        "\n",
        "pascal_triangle(8)"
      ],
      "metadata": {
        "id": "-wbHovdMom2c",
        "colab": {
          "base_uri": "https://localhost:8080/"
        },
        "outputId": "1cd75820-515b-49af-dc0f-bf60d15e29c9"
      },
      "execution_count": null,
      "outputs": [
        {
          "output_type": "stream",
          "name": "stdout",
          "text": [
            "         1         \n",
            "        1 1        \n",
            "       1 2 1       \n",
            "      1 3 3 1      \n",
            "     1 4 6 4 1     \n",
            "   1 5 10 10 5 1   \n",
            "  1 6 15 20 15 6 1 \n",
            "1 7 21 35 35 21 7 1\n"
          ]
        }
      ]
    },
    {
      "cell_type": "markdown",
      "source": [
        "**Problem 10**\n",
        "\n",
        "Write a simple python function that accepts a hyphen-separated sequence of words as parameter and returns the words in a hyphen-separated sequence after sorting them alphabetically.\n",
        "\n",
        "Sample Items : green-red-yellow-black-white\n",
        "\n",
        "Expected Result : black-green-red-white-yellow"
      ],
      "metadata": {
        "id": "_9cMELSZopF2"
      }
    },
    {
      "cell_type": "code",
      "source": [
        "def sort_words(sequence):\n",
        "  words = sequence.split(\"-\")\n",
        "  words.sort()\n",
        "  return \"-\".join(words)\n",
        "\n",
        "sequence = \"green-red-yellow-black-white\"\n",
        "result = sort_words(sequence)\n",
        "print(\"Expected Result :\", result)"
      ],
      "metadata": {
        "id": "Hs9-5j_I1HoK",
        "colab": {
          "base_uri": "https://localhost:8080/"
        },
        "outputId": "b383e1c2-fac6-4cfb-bc42-4235b3a597fd"
      },
      "execution_count": null,
      "outputs": [
        {
          "output_type": "stream",
          "name": "stdout",
          "text": [
            "Expected Result : black-green-red-white-yellow\n"
          ]
        }
      ]
    },
    {
      "cell_type": "markdown",
      "source": [
        "**Problem 11**\n",
        "\n",
        "Flatten a List of Lists\n",
        "Write a Python program to flatten the given list into a single list using list comprehension.\n",
        "\n",
        "Given list:\n",
        "[[1, 2, 3], [4, 5], [6, 7, 8, 9]]\n",
        "\n",
        "Expected result:\n",
        "[1, 2, 3, 4, 5, 6, 7, 8, 9]\n"
      ],
      "metadata": {
        "id": "Tv5Nit_g92W9"
      }
    },
    {
      "cell_type": "code",
      "source": [
        "def flatten_list(matrix):\n",
        "  return [item for givenlist in matrix for item in givenlist]\n",
        "\n",
        "matrix = [[1, 2, 3], [4, 5], [6, 7, 8, 9]]\n",
        "\n",
        "result = flatten_list(matrix)\n",
        "print(\"Expected result:\", result)"
      ],
      "metadata": {
        "id": "QQr-OpRb-MVy",
        "colab": {
          "base_uri": "https://localhost:8080/"
        },
        "outputId": "ab2baed1-b915-4801-d3c0-1c2f60f59020"
      },
      "execution_count": null,
      "outputs": [
        {
          "output_type": "stream",
          "name": "stdout",
          "text": [
            "Expected result: [1, 2, 3, 4, 5, 6, 7, 8, 9]\n"
          ]
        }
      ]
    },
    {
      "cell_type": "markdown",
      "source": [
        "**Problem 12:**\n",
        "\n",
        "Write a simple python function that accepts a sentence and extract all the vowels from the sentence using list comprehension.\n",
        "\n",
        "Input: \"The quick brown fox jumps over the lazy dog\"\n",
        "\n",
        "Expected Result: ['e', 'u', 'i', 'o', 'o', 'u', 'o', 'e', 'a', 'o']"
      ],
      "metadata": {
        "id": "x512vHWn-QT1"
      }
    },
    {
      "cell_type": "code",
      "source": [
        "vowels = \"aeiouAEIOU\"\n",
        "input = \"The quick brown fox jumps over the lazy dog\"\n",
        "\n",
        "result = [char for char in input if char in vowels]\n",
        "print(result)"
      ],
      "metadata": {
        "id": "JrydN2-f-vvO",
        "colab": {
          "base_uri": "https://localhost:8080/"
        },
        "outputId": "c7e557e2-1d2a-4456-d9ac-2bcf0fe79e43"
      },
      "execution_count": null,
      "outputs": [
        {
          "output_type": "stream",
          "name": "stdout",
          "text": [
            "['e', 'u', 'i', 'o', 'o', 'u', 'o', 'e', 'e', 'a', 'o']\n"
          ]
        }
      ]
    },
    {
      "cell_type": "markdown",
      "source": [
        "**Problem 13:**\n",
        "\n",
        "Matrix Transposition\n",
        "\n",
        "Write a simple python function that accepts a 3x3 matrix and transpose the matrix using list comprehension.\n",
        "\n",
        "Input:\n",
        "\n",
        "1, 2, 3\n",
        "\n",
        "4, 5, 6\n",
        "\n",
        "7, 8, 9\n",
        "\n",
        "\n",
        "Expected Result:\n",
        "\n",
        "Given matrix: [\n",
        "  [1, 2, 3],\n",
        "  [4, 5, 6],\n",
        "  [7, 8, 9]\n",
        "]\n",
        "\n",
        "Transponsed Matrix: [\n",
        "    [1, 4, 7],\n",
        "    [2, 5, 8],\n",
        "    [3, 6, 9]\n",
        "]"
      ],
      "metadata": {
        "id": "ua7Txnrx-24j"
      }
    },
    {
      "cell_type": "code",
      "source": [
        "def transposematrix(matrix):\n",
        "  return [[matrix[i][j] for i in range(len(matrix))] for j in range(len(matrix[0]))]\n",
        "\n",
        "input_matrix = [\n",
        "  [1,2,3],\n",
        "  [4,5,6],\n",
        "  [7,8,9]\n",
        "]\n",
        "\n",
        "transposed = transposematrix(input_matrix)\n",
        "\n",
        "print(\"Given matrix:\", input_matrix)\n",
        "print(\"Transposed Matrix:\", transposed)"
      ],
      "metadata": {
        "id": "C2EqlWj2_H9G",
        "colab": {
          "base_uri": "https://localhost:8080/"
        },
        "outputId": "44ed657a-03b4-47d4-aac8-3b8588786bf6"
      },
      "execution_count": null,
      "outputs": [
        {
          "output_type": "stream",
          "name": "stdout",
          "text": [
            "Given matrix: [[1, 2, 3], [4, 5, 6], [7, 8, 9]]\n",
            "Transposed Matrix: [[1, 4, 7], [2, 5, 8], [3, 6, 9]]\n"
          ]
        }
      ]
    },
    {
      "cell_type": "markdown",
      "source": [
        "~ **Problem 14:**\n",
        "\n",
        "Find Maximum Number\n",
        "\n",
        "Write a simple python function that accepts list of numbers and find the maximum number in a list using the reduce function.\n",
        "\n",
        "Input:\n",
        "3, 5, 2, 8, 1\n",
        "\n",
        "Expected Result: 8\n"
      ],
      "metadata": {
        "id": "gaarl3ez_SFf"
      }
    },
    {
      "cell_type": "code",
      "source": [
        "from functools import reduce\n",
        "\n",
        "def find_max(number):\n",
        "  return reduce(lambda x, y: x if x > y else y, number)\n",
        "\n",
        "print(\"The maximum number in the list is:\", find_max([3, 5, 2, 8, 1]))"
      ],
      "metadata": {
        "id": "8fDi5aSDA8BR",
        "colab": {
          "base_uri": "https://localhost:8080/"
        },
        "outputId": "31de6552-6623-41e6-87f2-3e923fc25abc"
      },
      "execution_count": null,
      "outputs": [
        {
          "output_type": "stream",
          "name": "stdout",
          "text": [
            "The maximum number in the list is: 8\n"
          ]
        }
      ]
    },
    {
      "cell_type": "markdown",
      "source": [
        "~ **Problem 15:**\n",
        "\n",
        "Filter Names Starting with a Specific Letter\n",
        "\n",
        "Write a simple python function that accepts list of names and filter out all names that start with the letter 'A' using the filter function.\n",
        "\n",
        "Input: \"Alice\", \"Bob\", \"Anna\", \"Charlie\", \"Annie\"\n",
        "\n",
        "Expected: 'Alice', 'Anna', 'Annie'"
      ],
      "metadata": {
        "id": "VpAT6kWWA_tz"
      }
    },
    {
      "cell_type": "code",
      "source": [
        "def filterwordA(name):\n",
        "  return \"A\" in name\n",
        "\n",
        "def input(*names):\n",
        "  filter_A = filter(filterwordA, names)\n",
        "  print(list(filter_A))\n",
        "\n",
        "input(\"Alice\", \"Bob\", \"Anna\", \"Charlie\", \"Annie\")"
      ],
      "metadata": {
        "colab": {
          "base_uri": "https://localhost:8080/"
        },
        "id": "UFLcEl9Wy9dg",
        "outputId": "ab25898c-b20b-4eae-d8b7-f2e97ea63346"
      },
      "execution_count": null,
      "outputs": [
        {
          "output_type": "stream",
          "name": "stdout",
          "text": [
            "['Alice', 'Anna', 'Annie']\n"
          ]
        }
      ]
    },
    {
      "cell_type": "code",
      "source": [
        "def filterA(names):\n",
        "  return(list(filter(lambda x: len(x) > 1 and x[0] == \"A\", names)))\n",
        "\n",
        "x = \"Alice\", \"Bob\", \"Anna\", \"Charlie\", \"Annie\"\n",
        "print(\"Expected:\", filterA(x))"
      ],
      "metadata": {
        "id": "KvszZI7lBdrV",
        "colab": {
          "base_uri": "https://localhost:8080/"
        },
        "outputId": "a3cda231-9252-4014-9597-942f5db874ea"
      },
      "execution_count": null,
      "outputs": [
        {
          "output_type": "stream",
          "name": "stdout",
          "text": [
            "Expected: ['Alice', 'Anna', 'Annie']\n"
          ]
        }
      ]
    },
    {
      "cell_type": "markdown",
      "source": [
        "~ **Problem 16:**\n",
        "\n",
        "Square and Filter Odd Numbers\n",
        "\n",
        "Write a Python program that accepts list of numbers and create a list of squares of odd numbers from a given list of integers using map and filter functions.\n",
        "\n",
        "Input: 1, 2, 3, 4, 5, 6, 7, 8, 9, 10\n",
        "\n",
        "Expected Result: 1, 9, 25, 49, 81"
      ],
      "metadata": {
        "id": "MLQ3NjuCBgfn"
      }
    },
    {
      "cell_type": "code",
      "source": [
        "def square(x):\n",
        "  return x**2\n",
        "\n",
        "numbers = [1, 2, 3, 4, 5, 6, 7, 8, 9, 10]\n",
        "\n",
        "numsq = list(filter(lambda x:(x % 2 != 0), numbers))\n",
        "numsq = list(map(square,numsq))\n",
        "\n",
        "print(numsq)"
      ],
      "metadata": {
        "id": "ISeMQl-OCHrC",
        "colab": {
          "base_uri": "https://localhost:8080/"
        },
        "outputId": "09b4e70a-8c1c-4198-8ddf-ef12c86b5ae9"
      },
      "execution_count": null,
      "outputs": [
        {
          "output_type": "stream",
          "name": "stdout",
          "text": [
            "[1, 9, 25, 49, 81]\n"
          ]
        }
      ]
    },
    {
      "cell_type": "markdown",
      "source": [
        "**Problem 17:**\n",
        "\n",
        "Fibonacci Sequence\n",
        "\n",
        "Write a recursive Python function to find the n-th Fibonacci number. The Fibonacci sequence is defined as:\n",
        "\n",
        "1. F(0) = 0\n",
        "2. F(1) = 1\n",
        "3. F(n) = F(n-1) + F(n-2) for n > 1"
      ],
      "metadata": {
        "id": "0efIH4hlCIST"
      }
    },
    {
      "cell_type": "code",
      "source": [
        "def fibonacci(number):\n",
        "  if number == 0:\n",
        "    return 0\n",
        "  elif number == 1:\n",
        "    return 1\n",
        "  else:\n",
        "    return fibonacci(number - 1) + fibonacci(number -2)\n",
        "\n",
        "num = 17\n",
        "result = fibonacci(num)\n",
        "print(f\"The {num}-th Fibonacci number is:\", result)"
      ],
      "metadata": {
        "id": "Lifz9THJCgXq",
        "colab": {
          "base_uri": "https://localhost:8080/"
        },
        "outputId": "e7675a86-d0eb-43a8-e6b9-e6c8e5de399f"
      },
      "execution_count": null,
      "outputs": [
        {
          "output_type": "stream",
          "name": "stdout",
          "text": [
            "The 17-th Fibonacci number is: 1597\n"
          ]
        }
      ]
    },
    {
      "cell_type": "markdown",
      "source": [
        "**Problem 18:**\n",
        "\n",
        "Write a recursive Python function to check if a given string is a palindrome (reads the same forwards and backwards).\n",
        "\n",
        "Input: \"radar\"\n",
        "\n",
        "Expected Result: True"
      ],
      "metadata": {
        "id": "YGpZ6-koChFa"
      }
    },
    {
      "cell_type": "code",
      "source": [
        "def palindrome(string):\n",
        "  string = string.replace(\" \", \"\").lower()\n",
        "\n",
        "  if len(string) <= 1:\n",
        "    return True\n",
        "\n",
        "  if string[0] == string[-1]:\n",
        "    return palindrome(string[1:-1])\n",
        "\n",
        "  return False\n",
        "\n",
        "input_string = \"radar\"\n",
        "result = palindrome(input_string)\n",
        "print(\"The result for input 'radar' is:\", result)"
      ],
      "metadata": {
        "id": "F-wyTHwxCxYQ",
        "colab": {
          "base_uri": "https://localhost:8080/"
        },
        "outputId": "0afcbc30-3ffd-40ca-ff5d-38b339e41b96"
      },
      "execution_count": null,
      "outputs": [
        {
          "output_type": "stream",
          "name": "stdout",
          "text": [
            "The result for input 'radar' is: True\n"
          ]
        }
      ]
    },
    {
      "cell_type": "markdown",
      "source": [
        "~ **Problem 19:**\n",
        "\n",
        "Compose Functions\n",
        "\n",
        "Write a Python function *def compose (f, g)* that takes any two functions f and g as parameter, and returns a *new function h* such that h(x) = f(g(x)).\n",
        "\n",
        "Note: The function f and g are taking single parameter."
      ],
      "metadata": {
        "id": "M6EWsElNCyeq"
      }
    },
    {
      "cell_type": "code",
      "source": [
        "def compose(f,g):\n",
        "  def h(x):\n",
        "    return f(g(x))\n",
        "  return h\n",
        "\n",
        "def f(x):\n",
        "  return 2 * x\n",
        "\n",
        "def g(x):\n",
        "  return x + 3\n",
        "\n",
        "new = 7\n",
        "result = compose(f,g)\n",
        "print(\"The answer:\", result(new))"
      ],
      "metadata": {
        "id": "0tfVFUK7Dt_U",
        "colab": {
          "base_uri": "https://localhost:8080/"
        },
        "outputId": "083170cd-73c2-4d0f-fce7-3b0fc6cb43f0"
      },
      "execution_count": null,
      "outputs": [
        {
          "output_type": "stream",
          "name": "stdout",
          "text": [
            "The answer: 20\n"
          ]
        }
      ]
    },
    {
      "cell_type": "markdown",
      "source": [
        "**Problem 20**\n",
        "\n",
        "Implement a decorator called count_calls that keeps track of how many times a function has been called.\n",
        "\n",
        "*Decorator function*\n",
        "\n",
        "def count_calls(func):<br/>\n",
        "&nbsp;&nbsp;&nbsp;&nbsp;Your code here\n",
        "\n",
        "*Function with decorator*\n",
        "\n",
        "@count_calls<br/>\n",
        "def greet(name):<br/>\n",
        "&nbsp;&nbsp;&nbsp;&nbsp;print(f\"Hello, {name}!\")\n",
        "\n",
        "greet(\"Alice\")\n",
        "greet(\"Bob\")\n",
        "\n",
        "Expected Output:\n",
        "\n",
        "Function 'greet' was called 2 times."
      ],
      "metadata": {
        "id": "D1jlYGKPDvBb"
      }
    },
    {
      "cell_type": "code",
      "source": [
        "def count_calls(func):\n",
        "\n",
        "  def word(*args, **key):\n",
        "    word.call_count += 1\n",
        "    print(f\"Function has been called {word.call_count} times.\")\n",
        "    return func(*args, **key)\n",
        "  word.call_count = 0\n",
        "  return word\n",
        "\n",
        "@count_calls\n",
        "def greet(name):\n",
        "    print(f\"Hello, {name}!\")\n",
        "\n",
        "greet(\"Alice\")\n",
        "greet(\"Bob\")"
      ],
      "metadata": {
        "id": "1OxEp8jKKDLd",
        "colab": {
          "base_uri": "https://localhost:8080/"
        },
        "outputId": "e9b3c278-409a-48ad-e2ed-7b98a9d28416"
      },
      "execution_count": null,
      "outputs": [
        {
          "output_type": "stream",
          "name": "stdout",
          "text": [
            "Function has been called 1 times.\n",
            "Hello, Alice!\n",
            "Function has been called 2 times.\n",
            "Hello, Bob!\n"
          ]
        }
      ]
    },
    {
      "cell_type": "markdown",
      "source": [
        "**Problem 21: Shopping Cart**\n",
        "\n",
        "Create a function add_to_cart(item, quantity=1, price_per_item=5) that calculates the total cost for adding an item to a shopping cart. If quantity or price_per_item is not specified, assume default values. Return a dictionary with the item name, quantity, price per item, and total cost. For example:\n",
        "\n",
        "**Input**\n",
        "\n",
        "add_to_cart(\"Apple\")\n",
        "\n",
        "**Output**\n",
        "\n",
        "{\"item\": \"Apple\", \"quantity\": 1, \"price_per_item\": 5, \"total_cost\": 5}\n",
        "\n",
        "**Input**\n",
        "\n",
        "add_to_cart(\"Banana\", 3, 2)\n",
        "\n",
        "**Output**\n",
        "\n",
        "{\"item\": \"Banana\", \"quantity\": 3, \"price_per_item\": 2, \"total_cost\": 6}"
      ],
      "metadata": {
        "id": "pA47lU3f1mFc"
      }
    },
    {
      "cell_type": "code",
      "source": [
        "def add_to_cart(item, quantity=1, price_per_item=5):\n",
        "  total_cost = quantity*price_per_item\n",
        "\n",
        "  return {\n",
        "      \"item\":item,\n",
        "      \"quantity\":quantity,\n",
        "      \"price_per_item\":price_per_item,\n",
        "      \"total_cost\":total_cost\n",
        "  }\n",
        "\n",
        "print(add_to_cart(\"Apple\"))\n",
        "print(add_to_cart(\"Banana\", 3, 2))"
      ],
      "metadata": {
        "id": "n2xSi9tn2Yui",
        "colab": {
          "base_uri": "https://localhost:8080/"
        },
        "outputId": "54a01d59-4a88-4221-fa10-4825f5280ac6"
      },
      "execution_count": null,
      "outputs": [
        {
          "output_type": "stream",
          "name": "stdout",
          "text": [
            "{'item': 'Apple', 'quantity': 1, 'price_per_item': 5, 'total_cost': 5}\n",
            "{'item': 'Banana', 'quantity': 3, 'price_per_item': 2, 'total_cost': 6}\n"
          ]
        }
      ]
    },
    {
      "cell_type": "markdown",
      "source": [
        "**Problem 22: Flexible Greeting**\n",
        "\n",
        "Define a function\n",
        "\n",
        "*multi_greet(name=\"Friend\", *messages)*\n",
        "\n",
        "that accepts a name and an arbitrary number of greeting messages. If no messages are provided, greet with \"Hello\". Test with and without providing additional greetings."
      ],
      "metadata": {
        "id": "X1UrCjhE2nop"
      }
    },
    {
      "cell_type": "code",
      "source": [
        "def multi_greet(name=\"Friend\", *messages):\n",
        "  if not messages:\n",
        "    messages = [\"Hello\"]\n",
        "  for message in messages:\n",
        "    print(f\"{message}, {name}!\")\n",
        "\n",
        "multi_greet()\n",
        "multi_greet(\"Husna\", \"Hi\", \"You're beautiful\")\n",
        "multi_greet(\"Wonwoo\")"
      ],
      "metadata": {
        "id": "mF5F5Tfu2xsE",
        "colab": {
          "base_uri": "https://localhost:8080/"
        },
        "outputId": "3601aa25-3d46-4446-9401-c3b44cdabd52"
      },
      "execution_count": null,
      "outputs": [
        {
          "output_type": "stream",
          "name": "stdout",
          "text": [
            "Hello, Friend!\n",
            "Hi, Husna!\n",
            "You're beautiful, Husna!\n",
            "Hello, Wonwoo!\n"
          ]
        }
      ]
    },
    {
      "cell_type": "markdown",
      "source": [
        "**Problem 23: Personal Information**\n",
        "\n",
        "Write a function display_info(**kwargs) that accepts any number of named arguments and returns a formatted string with the person's information. For example:\n",
        "\n",
        "**Input**\n",
        "\n",
        "display_info(name=\"Alice\", age=25, city=\"New York\")\n",
        "\n",
        "**Ouput**\n",
        "\n",
        "\"Name: Alice, Age: 25, City: New York\"\n",
        "\n",
        "**Input**\n",
        "\n",
        "display_info(name=\"Bob\", country=\"USA\")\n",
        "\n",
        "**Output**\n",
        "\n",
        "\"Name: Bob, Country: USA\"\n"
      ],
      "metadata": {
        "id": "S2vOTURq3um0"
      }
    },
    {
      "cell_type": "code",
      "source": [
        "def display_info(**kwargs):\n",
        "  parts = []\n",
        "  for key, value in kwargs.items():\n",
        "    parts.append(f\"{key.capitalize()}: {value}\")\n",
        "  return \", \".join(parts)\n",
        "\n",
        "print(display_info(name=\"Alice\", age=25, city=\"New York\"))\n",
        "print(display_info(name=\"Bob\", country=\"USA\"))"
      ],
      "metadata": {
        "id": "Hdn9eTzV4BQs",
        "colab": {
          "base_uri": "https://localhost:8080/"
        },
        "outputId": "937ae546-8a91-4c68-b23c-871766ebba1c"
      },
      "execution_count": null,
      "outputs": [
        {
          "output_type": "stream",
          "name": "stdout",
          "text": [
            "Name: Alice, Age: 25, City: New York\n",
            "Name: Bob, Country: USA\n"
          ]
        }
      ]
    },
    {
      "cell_type": "markdown",
      "source": [
        "**Problem 24: Build a URL Query**\n",
        "\n",
        "Define a function build_url(base, **params) that builds a URL from a base and a series of query parameters. For example:\n",
        "\n",
        "**Input**\n",
        "\n",
        "build_url(\"https://example.com\", search=\"python\", page=2)\n",
        "\n",
        "**Output**\n",
        "\n",
        "https://example.com?search=python&page=2\n",
        "\n",
        "**Input**\n",
        "\n",
        "build_url(\"https://example.com\")\n",
        "\n",
        "**Output**\n",
        "\n",
        "https://example.com\n"
      ],
      "metadata": {
        "id": "N8erLAYM4j4g"
      }
    },
    {
      "cell_type": "code",
      "source": [
        "def build_url(base, **params):\n",
        "\n",
        "  search = params.get(\"search\", \"\")\n",
        "  page = params.get(\"page\", \"\")\n",
        "\n",
        "  if search and page:\n",
        "    print(f\"{base}?search={search}&page={page}\")\n",
        "\n",
        "  else:\n",
        "    print(f\"{base}\")\n",
        "\n",
        "build_url(\"https://example.com\", search=\"python\", page=2)\n",
        "build_url(\"https://example.com\")"
      ],
      "metadata": {
        "id": "ZxiiojzZ4z0I",
        "colab": {
          "base_uri": "https://localhost:8080/"
        },
        "outputId": "08cd2256-c92e-4e43-9a7d-cdac5aff88cc"
      },
      "execution_count": null,
      "outputs": [
        {
          "output_type": "stream",
          "name": "stdout",
          "text": [
            "https://example.com?search=python&page=2\n",
            "https://example.com\n"
          ]
        }
      ]
    },
    {
      "cell_type": "markdown",
      "source": [
        "**Problem 25: Student Grades**\n",
        "\n",
        "Create a function\n",
        "\n",
        "calculate_grades(student_name, *scores, **details)\n",
        "\n",
        "that calculates the average score for a student. The details dictionary may contain additional information like subject=\"Math\", level=\"Grade 10\". For example:\n",
        "\n",
        "**Input**\n",
        "\n",
        "calculate_grades(\"Alice\", 90, 85, 88, subject=\"Math\", level=\"Grade 10\")\n",
        "\n",
        "**Output**\n",
        "\n",
        "Alice's average in Math (Grade 10): 87.7\n",
        "\n",
        "**Input**\n",
        "\n",
        "calculate_grades(\"Bob\", 70, 65, 80)\n",
        "\n",
        "**Output**\n",
        "Bob's average: 71.7\n"
      ],
      "metadata": {
        "id": "VXjvA5I65Xi6"
      }
    },
    {
      "cell_type": "code",
      "source": [
        "def calculate_grades(student_name, *scores, **details):\n",
        "  average = sum(scores) / len(scores)\n",
        "  subject = details.get(\"subject\", \"\")\n",
        "  level = details.get(\"level\", \"\")\n",
        "\n",
        "  if subject and level:\n",
        "    print(f\"{student_name}'s average in {subject} ({level}): {average:.1f}\")\n",
        "  elif subject:\n",
        "    print(f\"{student_name}'s average in {subject}: {average:.1f}\")\n",
        "  else:\n",
        "    print(f\"{student_name}'s average: {average:.1f}\")\n",
        "\n",
        "calculate_grades(\"Alice\", 90, 85, 88, subject=\"Math\", level=\"Grade 10\")\n",
        "calculate_grades(\"Bob\", 70, 65, 80)"
      ],
      "metadata": {
        "id": "7TmRWbKH5sGr",
        "colab": {
          "base_uri": "https://localhost:8080/"
        },
        "outputId": "d604ad67-87fe-4429-d339-bb47a6b332d6"
      },
      "execution_count": null,
      "outputs": [
        {
          "output_type": "stream",
          "name": "stdout",
          "text": [
            "Alice's average in Math (Grade 10): 87.7\n",
            "Bob's average: 71.7\n"
          ]
        }
      ]
    }
  ]
}